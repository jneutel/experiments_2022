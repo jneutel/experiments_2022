{
 "cells": [
  {
   "cell_type": "code",
   "execution_count": null,
   "id": "d7f0cf7e-f3cd-4b89-9afb-9dcdc78b9bac",
   "metadata": {},
   "outputs": [],
   "source": [
    "# math\n",
    "import math\n",
    "import pandas as pd\n",
    "import datetime\n",
    "\n",
    "from experiments_2022 import IMAGE_PATH\n",
    "from experiments_2022.zone_level_analysis import (\n",
    "    cleaning,\n",
    "    viz,\n",
    ")\n",
    "from experiments_2022.datasets import (\n",
    "    load_weather,\n",
    "    pull_from_dataset,\n",
    ")\n",
    "\n",
    "from utils import (\n",
    "    PROJECTS_2022,\n",
    "    PROJECTS_2022_TOTAL,\n",
    "    gini,\n",
    "    add_total_to_dfs,\n",
    "    SINGLE_PLOT_LEGEND_SIZE,\n",
    "    SINGLE_PLOT_TXT_SIZE,\n",
    "    MULTI_PLOT_TITLE_SIZE,\n",
    "    MULTI_PLOT_LEGEND_SIZE,\n",
    "    MULTI_PLOT_TXT_SIZE,\n",
    ")"
   ]
  },
  {
   "cell_type": "markdown",
   "id": "4e2b9572-485d-4357-bf72-5ed105ee7cd8",
   "metadata": {},
   "source": [
    "# Weather"
   ]
  },
  {
   "cell_type": "code",
   "execution_count": null,
   "id": "2a8e0e70-dcb1-41f4-8cb7-673892f6d60f",
   "metadata": {},
   "outputs": [],
   "source": [
    "weather = load_weather(\"2023\")\n",
    "weather = weather.loc[: pd.Timestamp(\"2023-12-31 23:00:00\"), :]\n",
    "weather = cleaning.clean_df(weather, only_business_hours=True, no_weekends=True)\n",
    "weather_daily = weather.resample(\"D\").mean()\n",
    "temps_daily = weather_daily[\"temperature\"]\n",
    "RH_daily = weather_daily[\"RH\"]"
   ]
  },
  {
   "cell_type": "code",
   "execution_count": null,
   "id": "d05bc774-1419-4db4-9e49-ac6fe74b8136",
   "metadata": {},
   "outputs": [],
   "source": [
    "percentiles = [0, 0.25, 0.5, 0.75, 1]\n",
    "temps = {}\n",
    "humids = {}\n",
    "for p in percentiles:\n",
    "    temps[p] = float(temps_daily.quantile(p))\n",
    "    humids[p] = float(RH_daily.quantile(p))"
   ]
  },
  {
   "cell_type": "code",
   "execution_count": null,
   "id": "b9c5e67e-e973-402a-b82c-7758a0013f52",
   "metadata": {},
   "outputs": [],
   "source": [
    "days_temp = {}\n",
    "for p in range(len(percentiles) - 1):\n",
    "    this_p = percentiles[p]\n",
    "    next_p = percentiles[p + 1]\n",
    "    mask = (temps_daily >= temps[this_p]) & (temps_daily < temps[next_p])\n",
    "    filtered = temps_daily[mask]\n",
    "    days_temp[this_p] = list(filtered.index)\n",
    "\n",
    "hours_temp = {}\n",
    "for bucket in days_temp:\n",
    "    these_days = days_temp[bucket]\n",
    "    day_dates = set(pd.to_datetime(these_days).date)\n",
    "    mask = pd.Index(weather.index.date).isin(day_dates)\n",
    "    hours_temp[bucket] = weather.index[mask]"
   ]
  },
  {
   "cell_type": "code",
   "execution_count": null,
   "id": "270b64cf-8df6-4116-b9e0-241e42e02f61",
   "metadata": {},
   "outputs": [],
   "source": [
    "days_RH = {}\n",
    "for p in range(len(percentiles) - 1):\n",
    "    this_p = percentiles[p]\n",
    "    next_p = percentiles[p + 1]\n",
    "    mask = (RH_daily >= humids[this_p]) & (RH_daily < humids[next_p])\n",
    "    filtered = RH_daily[mask]\n",
    "    days_RH[this_p] = list(filtered.index)\n",
    "\n",
    "hours_RH = {}\n",
    "for bucket in days_RH:\n",
    "    these_days = days_RH[bucket]\n",
    "    day_dates = set(pd.to_datetime(these_days).date)\n",
    "    mask = pd.Index(weather.index.date).isin(day_dates)\n",
    "    hours_RH[bucket] = weather.index[mask]"
   ]
  },
  {
   "cell_type": "code",
   "execution_count": null,
   "id": "69ed048a-c1b1-4602-814a-ca434be9581c",
   "metadata": {},
   "outputs": [],
   "source": [
    "def F_to_C(F):\n",
    "    return (F - 32) * 5 / 9"
   ]
  },
  {
   "cell_type": "markdown",
   "id": "559b5d57-523e-4ada-b17e-b4c6c8ec3147",
   "metadata": {},
   "source": [
    "# Cooling requests"
   ]
  },
  {
   "cell_type": "code",
   "execution_count": null,
   "id": "ff83f2ed-09fb-4889-9a5e-154e278d6c41",
   "metadata": {},
   "outputs": [],
   "source": [
    "CRs = pull_from_dataset(\n",
    "    \"2023\",\n",
    "    PROJECTS_2022,\n",
    "    \"zone-simple_cooling_requests\",\n",
    ")"
   ]
  },
  {
   "cell_type": "code",
   "execution_count": null,
   "id": "2b671726-600b-41b2-9bba-b4fef79610e6",
   "metadata": {},
   "outputs": [],
   "source": [
    "CRs = add_total_to_dfs(CRs)"
   ]
  },
  {
   "cell_type": "markdown",
   "id": "5c5e8946-20d3-44a4-906f-26d28899c0b6",
   "metadata": {},
   "source": [
    "## OAT"
   ]
  },
  {
   "cell_type": "code",
   "execution_count": null,
   "id": "25300604-ace9-4d5f-a0b4-2073eb7e6dd4",
   "metadata": {},
   "outputs": [],
   "source": [
    "CRs_bucketed_temp = {}\n",
    "CRs_lorenz_bucketed_temp = {}\n",
    "for project in CRs:\n",
    "    CRs_bucketed_temp[project] = {}\n",
    "    CRs_lorenz_bucketed_temp[project] = {}\n",
    "    for bucket in hours_temp:\n",
    "        these_CRs = CRs[project].loc[hours_temp[bucket], :].sum()\n",
    "        CRs_bucketed_temp[project][bucket] = these_CRs.to_frame(name=bucket)\n",
    "        these_CRs = these_CRs.sort_values(ascending=False)\n",
    "        lorenz = these_CRs.cumsum() / these_CRs.sum()\n",
    "        CRs_lorenz_bucketed_temp[project][bucket] = lorenz.to_frame(name=bucket)"
   ]
  },
  {
   "cell_type": "code",
   "execution_count": null,
   "id": "859800c9-07ec-4861-815e-3d43e29c4bfb",
   "metadata": {},
   "outputs": [],
   "source": [
    "CRs_bucketed_df_temp = {}\n",
    "CRs_lorenz_bucketed_df_temp = {}\n",
    "for project in CRs_bucketed_temp:\n",
    "    these_CRs = CRs_bucketed_temp[project]\n",
    "    df = pd.concat([these_CRs[bucket] for bucket in these_CRs], axis=1)\n",
    "    CRs_bucketed_df_temp[project] = df\n",
    "\n",
    "    these_lorenz = CRs_lorenz_bucketed_temp[project]\n",
    "    df = pd.concat([these_lorenz[bucket] for bucket in these_lorenz], axis=1)\n",
    "    CRs_lorenz_bucketed_df_temp[project] = df"
   ]
  },
  {
   "cell_type": "code",
   "execution_count": null,
   "id": "53d057ae-c379-421e-8243-e1b760c3a04a",
   "metadata": {},
   "outputs": [],
   "source": [
    "fig = viz.make_dot_plot(\n",
    "    y_data=CRs_lorenz_bucketed_df_temp,\n",
    "    sort_by=\"all\",\n",
    "    normalize_x=True,\n",
    "    y_axis_title=\"Fraction of Cumulative<br>Cooling Requests [Unitless]\",\n",
    "    x_axis_title=\"Fraction of Zones [Unitless]\",\n",
    "    vertical_spacing=0.075,\n",
    "    horizontal_spacing=0.1,\n",
    "    color_legend={\n",
    "        \"name\": {\n",
    "            0.0: f\"Q1 OAT={round(F_to_C(temps[0]))}°C-{round(F_to_C(temps[0.25]))}°C\",\n",
    "            0.25: f\"Q2 OAT={round(F_to_C(temps[0.25]))}°C-{round(F_to_C(temps[0.5]))}°C\",\n",
    "            0.5: f\"Q3 OAT={round(F_to_C(temps[0.5]))}°C-{round(F_to_C(temps[0.75]))}°C\",\n",
    "            0.75: f\"Q4 OAT={round(F_to_C(temps[0.75]))}°C-{round(F_to_C(temps[1]))}°C\",\n",
    "        },\n",
    "        \"color\": {\n",
    "            0.0: \"#1f77b4\",  # muted blue\n",
    "            0.25: \"#ff7f0e\",  # orange\n",
    "            0.5: \"#d62728\",  # red\n",
    "            0.75: \"#6a3d9a\",  # purple\n",
    "        },\n",
    "    },\n",
    "    title_size=MULTI_PLOT_TITLE_SIZE,\n",
    "    legend_size=MULTI_PLOT_LEGEND_SIZE,\n",
    "    text_size=MULTI_PLOT_TXT_SIZE,\n",
    ")\n",
    "fig = fig.update_layout(\n",
    "    legend=dict(\n",
    "        x=0.5,\n",
    "        y=-0.05,\n",
    "        xanchor=\"center\",\n",
    "        yanchor=\"top\",\n",
    "        orientation=\"h\",\n",
    "    )\n",
    ")"
   ]
  },
  {
   "cell_type": "code",
   "execution_count": null,
   "id": "1a7982ed-c089-426a-b2b1-0cb10e66c171",
   "metadata": {},
   "outputs": [],
   "source": [
    "fig.write_image(f\"{IMAGE_PATH}/FigureF2.png\")"
   ]
  },
  {
   "cell_type": "code",
   "execution_count": null,
   "id": "d115f0f7-4c2c-4ea5-b7f4-df15f03f3625",
   "metadata": {},
   "outputs": [],
   "source": [
    "# fig"
   ]
  },
  {
   "cell_type": "code",
   "execution_count": null,
   "id": "ede38daf-65bc-4b70-b080-e65d67c7ce34",
   "metadata": {},
   "outputs": [],
   "source": [
    "CRs_ginis_temp = pd.DataFrame(index=PROJECTS_2022_TOTAL, columns=[0, 0.25, 0.5, 0.75])\n",
    "for project in list(CRs_ginis_temp.index):\n",
    "    for bucket in list(CRs_ginis_temp.columns):\n",
    "        CRs_ginis_temp.loc[project, bucket] = gini(\n",
    "            CRs_bucketed_df_temp[project][bucket]\n",
    "        )"
   ]
  },
  {
   "cell_type": "markdown",
   "id": "1816eaf1-c589-4a08-9dd6-d076a64a782f",
   "metadata": {},
   "source": [
    "## RH"
   ]
  },
  {
   "cell_type": "code",
   "execution_count": null,
   "id": "1e59cfc9-68ec-44de-8ade-e44af6f91735",
   "metadata": {},
   "outputs": [],
   "source": [
    "CRs_bucketed_RH = {}\n",
    "CRs_lorenz_bucketed_RH = {}\n",
    "for project in CRs:\n",
    "    CRs_bucketed_RH[project] = {}\n",
    "    CRs_lorenz_bucketed_RH[project] = {}\n",
    "    for bucket in hours_temp:\n",
    "        these_CRs = CRs[project].loc[hours_RH[bucket], :].sum()\n",
    "        CRs_bucketed_RH[project][bucket] = these_CRs.to_frame(name=bucket)\n",
    "        these_CRs = these_CRs.sort_values(ascending=False)\n",
    "        lorenz = these_CRs.cumsum() / these_CRs.sum()\n",
    "        CRs_lorenz_bucketed_RH[project][bucket] = lorenz.to_frame(name=bucket)"
   ]
  },
  {
   "cell_type": "code",
   "execution_count": null,
   "id": "a9e3c6d6-ad60-4008-ab1f-315c09c4c92e",
   "metadata": {},
   "outputs": [],
   "source": [
    "CRs_bucketed_df_RH = {}\n",
    "CRs_lorenz_bucketed_df_RH = {}\n",
    "for project in CRs_bucketed_RH:\n",
    "    these_CRs = CRs_bucketed_RH[project]\n",
    "    df = pd.concat([these_CRs[bucket] for bucket in these_CRs], axis=1)\n",
    "    CRs_bucketed_df_RH[project] = df\n",
    "\n",
    "    these_lorenz = CRs_lorenz_bucketed_RH[project]\n",
    "    df = pd.concat([these_lorenz[bucket] for bucket in these_lorenz], axis=1)\n",
    "    CRs_lorenz_bucketed_df_RH[project] = df"
   ]
  },
  {
   "cell_type": "code",
   "execution_count": null,
   "id": "2bc3647d-3720-4584-9145-0a37f78322ab",
   "metadata": {},
   "outputs": [],
   "source": [
    "fig = viz.make_dot_plot(\n",
    "    y_data=CRs_lorenz_bucketed_df_RH,\n",
    "    sort_by=\"all\",\n",
    "    normalize_x=True,\n",
    "    y_axis_title=\"Fraction of Cumulative<br>Cooling Requests [Unitless]\",\n",
    "    x_axis_title=\"Fraction of Zones [Unitless]\",\n",
    "    vertical_spacing=0.075,\n",
    "    horizontal_spacing=0.1,\n",
    "    color_legend={\n",
    "        \"name\": {\n",
    "            0.0: f\"Q1 RH={round(humids[0])}%-{round(humids[0.25])}%\",\n",
    "            0.25: f\"Q2 RH={round(humids[0.25])}%-{round(humids[0.5])}%\",\n",
    "            0.5: f\"Q3 RH={round(humids[0.5])}%-{round(humids[0.75])}%\",\n",
    "            0.75: f\"Q4 RH={round(humids[0.75])}%-{round(humids[1])}%\",\n",
    "        },\n",
    "        \"color\": {\n",
    "            0.0: \"#1f77b4\",  # muted blue\n",
    "            0.25: \"#ff7f0e\",  # orange\n",
    "            0.5: \"#d62728\",  # red\n",
    "            0.75: \"#6a3d9a\",  # purple\n",
    "        },\n",
    "    },\n",
    "    title_size=MULTI_PLOT_TITLE_SIZE,\n",
    "    legend_size=MULTI_PLOT_LEGEND_SIZE,\n",
    "    text_size=MULTI_PLOT_TXT_SIZE,\n",
    ")\n",
    "fig = fig.update_layout(\n",
    "    legend=dict(\n",
    "        x=0.5,\n",
    "        y=-0.05,\n",
    "        xanchor=\"center\",\n",
    "        yanchor=\"top\",\n",
    "        orientation=\"h\",\n",
    "    )\n",
    ")"
   ]
  },
  {
   "cell_type": "code",
   "execution_count": null,
   "id": "28c8b146-fb1f-416e-a64f-14296a6ef2bb",
   "metadata": {},
   "outputs": [],
   "source": [
    "# fig"
   ]
  },
  {
   "cell_type": "code",
   "execution_count": null,
   "id": "9517cb36-e443-4456-b872-c8ac9547c2d6",
   "metadata": {},
   "outputs": [],
   "source": [
    "fig.write_image(f\"{IMAGE_PATH}/FigureF4.png\")"
   ]
  },
  {
   "cell_type": "code",
   "execution_count": null,
   "id": "b53d92ae-54e1-4ee8-8f7e-ed9e058c0365",
   "metadata": {},
   "outputs": [],
   "source": [
    "CRs_ginis_RH = pd.DataFrame(index=PROJECTS_2022_TOTAL, columns=[0, 0.25, 0.5, 0.75])\n",
    "for project in list(CRs_ginis_RH.index):\n",
    "    for bucket in list(CRs_ginis_RH.columns):\n",
    "        CRs_ginis_RH.loc[project, bucket] = gini(CRs_bucketed_df_RH[project][bucket])"
   ]
  },
  {
   "cell_type": "markdown",
   "id": "d1b53dc8-e73f-498b-b2ed-35401123d0b6",
   "metadata": {},
   "source": [
    "# Heating requests"
   ]
  },
  {
   "cell_type": "code",
   "execution_count": null,
   "id": "655d5a9e-7bf8-4bcc-9d34-2f998adb94d2",
   "metadata": {},
   "outputs": [],
   "source": [
    "HRs = pull_from_dataset(\n",
    "    \"2023\",\n",
    "    PROJECTS_2022,\n",
    "    \"zone-simple_heating_requests\",\n",
    ")"
   ]
  },
  {
   "cell_type": "code",
   "execution_count": null,
   "id": "e8bce7c8-3162-4571-9eea-8bcbeb970620",
   "metadata": {},
   "outputs": [],
   "source": [
    "HRs = add_total_to_dfs(HRs)"
   ]
  },
  {
   "cell_type": "markdown",
   "id": "4b4640bb-368c-4f08-9676-cc0221c2f76d",
   "metadata": {},
   "source": [
    "## OAT"
   ]
  },
  {
   "cell_type": "code",
   "execution_count": null,
   "id": "10cc549f-d24c-4bbc-9a58-6633a41e2afc",
   "metadata": {},
   "outputs": [],
   "source": [
    "HRs_bucketed_temp = {}\n",
    "HRs_lorenz_bucketed_temp = {}\n",
    "for project in HRs:\n",
    "    HRs_bucketed_temp[project] = {}\n",
    "    HRs_lorenz_bucketed_temp[project] = {}\n",
    "    for bucket in hours_temp:\n",
    "        these_HRs = HRs[project].loc[hours_temp[bucket], :].sum()\n",
    "        HRs_bucketed_temp[project][bucket] = these_HRs.to_frame(name=bucket)\n",
    "        these_HRs = these_HRs.sort_values(ascending=False)\n",
    "        lorenz = these_HRs.cumsum() / these_HRs.sum()\n",
    "        HRs_lorenz_bucketed_temp[project][bucket] = lorenz.to_frame(name=bucket)"
   ]
  },
  {
   "cell_type": "code",
   "execution_count": null,
   "id": "5fa03a33-7849-4f78-ba56-b743b356f275",
   "metadata": {},
   "outputs": [],
   "source": [
    "HRs_bucketed_df_temp = {}\n",
    "HRs_lorenz_bucketed_df_temp = {}\n",
    "for project in HRs_bucketed_temp:\n",
    "    these_HRs = HRs_bucketed_temp[project]\n",
    "    df = pd.concat([these_HRs[bucket] for bucket in these_HRs], axis=1)\n",
    "    HRs_bucketed_df_temp[project] = df\n",
    "\n",
    "    these_lorenz = HRs_lorenz_bucketed_temp[project]\n",
    "    df = pd.concat([these_lorenz[bucket] for bucket in these_lorenz], axis=1)\n",
    "    HRs_lorenz_bucketed_df_temp[project] = df"
   ]
  },
  {
   "cell_type": "code",
   "execution_count": null,
   "id": "3ac6b59d-1807-4f79-8b86-9e85a771ac1f",
   "metadata": {},
   "outputs": [],
   "source": [
    "fig = viz.make_dot_plot(\n",
    "    y_data=HRs_lorenz_bucketed_df_temp,\n",
    "    sort_by=\"all\",\n",
    "    normalize_x=True,\n",
    "    y_axis_title=\"Fraction of Cumulative<br>Heating Requests [Unitless]\",\n",
    "    x_axis_title=\"Fraction of Zones [Unitless]\",\n",
    "    vertical_spacing=0.075,\n",
    "    horizontal_spacing=0.1,\n",
    "    color_legend={\n",
    "        \"name\": {\n",
    "            0.0: f\"Q1 OAT={round(F_to_C(temps[0]))}°C-{round(F_to_C(temps[0.25]))}°C\",\n",
    "            0.25: f\"Q2 OAT={round(F_to_C(temps[0.25]))}°C-{round(F_to_C(temps[0.5]))}°C\",\n",
    "            0.5: f\"Q3 OAT={round(F_to_C(temps[0.5]))}°C-{round(F_to_C(temps[0.75]))}°C\",\n",
    "            0.75: f\"Q4 OAT={round(F_to_C(temps[0.75]))}°C-{round(F_to_C(temps[1]))}°C\",\n",
    "        },\n",
    "        \"color\": {\n",
    "            0.0: \"#1f77b4\",  # muted blue\n",
    "            0.25: \"#ff7f0e\",  # orange\n",
    "            0.5: \"#d62728\",  # red\n",
    "            0.75: \"#6a3d9a\",  # purple\n",
    "        },\n",
    "    },\n",
    "    title_size=MULTI_PLOT_TITLE_SIZE,\n",
    "    legend_size=MULTI_PLOT_LEGEND_SIZE,\n",
    "    text_size=MULTI_PLOT_TXT_SIZE,\n",
    ")\n",
    "fig = fig.update_layout(\n",
    "    legend=dict(\n",
    "        x=0.5,\n",
    "        y=-0.05,\n",
    "        xanchor=\"center\",\n",
    "        yanchor=\"top\",\n",
    "        orientation=\"h\",\n",
    "    )\n",
    ")"
   ]
  },
  {
   "cell_type": "code",
   "execution_count": null,
   "id": "f021e981-a292-4c5f-b077-590dea8a7fe7",
   "metadata": {},
   "outputs": [],
   "source": [
    "# fig"
   ]
  },
  {
   "cell_type": "code",
   "execution_count": null,
   "id": "c0a2bcf8-cb9d-4145-a328-1896c38d5c34",
   "metadata": {},
   "outputs": [],
   "source": [
    "fig.write_image(f\"{IMAGE_PATH}/FigureF3.png\")"
   ]
  },
  {
   "cell_type": "code",
   "execution_count": null,
   "id": "604e02d4-eb2c-4229-9933-958edb911ca8",
   "metadata": {},
   "outputs": [],
   "source": [
    "HRs_ginis_temp = pd.DataFrame(index=PROJECTS_2022_TOTAL, columns=[0, 0.25, 0.5, 0.75])\n",
    "for project in list(HRs_ginis_temp.index):\n",
    "    for bucket in list(HRs_ginis_temp.columns):\n",
    "        HRs_ginis_temp.loc[project, bucket] = gini(\n",
    "            HRs_bucketed_df_temp[project][bucket]\n",
    "        )"
   ]
  },
  {
   "cell_type": "markdown",
   "id": "4cd8b1e6-97df-4957-8b63-02c4bf8e76c0",
   "metadata": {},
   "source": [
    "## RH"
   ]
  },
  {
   "cell_type": "code",
   "execution_count": null,
   "id": "df7cc2d2-91b9-480b-b6ea-51a92457ead2",
   "metadata": {},
   "outputs": [],
   "source": [
    "HRs_bucketed_RH = {}\n",
    "HRs_lorenz_bucketed_RH = {}\n",
    "for project in HRs:\n",
    "    HRs_bucketed_RH[project] = {}\n",
    "    HRs_lorenz_bucketed_RH[project] = {}\n",
    "    for bucket in hours_temp:\n",
    "        these_HRs = HRs[project].loc[hours_RH[bucket], :].sum()\n",
    "        HRs_bucketed_RH[project][bucket] = these_HRs.to_frame(name=bucket)\n",
    "        these_HRs = these_HRs.sort_values(ascending=False)\n",
    "        lorenz = these_HRs.cumsum() / these_HRs.sum()\n",
    "        HRs_lorenz_bucketed_RH[project][bucket] = lorenz.to_frame(name=bucket)"
   ]
  },
  {
   "cell_type": "code",
   "execution_count": null,
   "id": "dfdc6c43-4be8-4095-882d-3add4524536c",
   "metadata": {},
   "outputs": [],
   "source": [
    "HRs_bucketed_df_RH = {}\n",
    "HRs_lorenz_bucketed_df_RH = {}\n",
    "for project in HRs_bucketed_RH:\n",
    "    these_HRs = HRs_bucketed_RH[project]\n",
    "    df = pd.concat([these_HRs[bucket] for bucket in these_HRs], axis=1)\n",
    "    HRs_bucketed_df_RH[project] = df\n",
    "\n",
    "    these_lorenz = HRs_lorenz_bucketed_RH[project]\n",
    "    df = pd.concat([these_lorenz[bucket] for bucket in these_lorenz], axis=1)\n",
    "    HRs_lorenz_bucketed_df_RH[project] = df"
   ]
  },
  {
   "cell_type": "code",
   "execution_count": null,
   "id": "f2491ad1-207e-4f48-b288-1886c3922025",
   "metadata": {},
   "outputs": [],
   "source": [
    "fig = viz.make_dot_plot(\n",
    "    y_data=HRs_lorenz_bucketed_df_RH,\n",
    "    sort_by=\"all\",\n",
    "    normalize_x=True,\n",
    "    y_axis_title=\"Fraction of Cumulative<br>Heating Requests [Unitless]\",\n",
    "    x_axis_title=\"Fraction of Zones [Unitless]\",\n",
    "    vertical_spacing=0.075,\n",
    "    horizontal_spacing=0.1,\n",
    "    color_legend={\n",
    "        \"name\": {\n",
    "            0.0: f\"Q1 RH={round(humids[0])}%-{round(humids[0.25])}%\",\n",
    "            0.25: f\"Q2 RH={round(humids[0.25])}%-{round(humids[0.5])}%\",\n",
    "            0.5: f\"Q3 RH={round(humids[0.5])}%-{round(humids[0.75])}%\",\n",
    "            0.75: f\"Q4 RH={round(humids[0.75])}%-{round(humids[1])}%\",\n",
    "        },\n",
    "        \"color\": {\n",
    "            0.0: \"#1f77b4\",  # muted blue\n",
    "            0.25: \"#ff7f0e\",  # orange\n",
    "            0.5: \"#d62728\",  # red\n",
    "            0.75: \"#6a3d9a\",  # purple\n",
    "        },\n",
    "    },\n",
    "    title_size=MULTI_PLOT_TITLE_SIZE,\n",
    "    legend_size=MULTI_PLOT_LEGEND_SIZE,\n",
    "    text_size=MULTI_PLOT_TXT_SIZE,\n",
    ")\n",
    "fig = fig.update_layout(\n",
    "    legend=dict(\n",
    "        x=0.5,\n",
    "        y=-0.05,\n",
    "        xanchor=\"center\",\n",
    "        yanchor=\"top\",\n",
    "        orientation=\"h\",\n",
    "    )\n",
    ")"
   ]
  },
  {
   "cell_type": "code",
   "execution_count": null,
   "id": "08d10f30-773c-4c09-b37e-86636b653236",
   "metadata": {},
   "outputs": [],
   "source": [
    "# fig"
   ]
  },
  {
   "cell_type": "code",
   "execution_count": null,
   "id": "5e3c9dec-29ba-4792-b954-a3b9ab6f643f",
   "metadata": {},
   "outputs": [],
   "source": [
    "fig.write_image(f\"{IMAGE_PATH}/FigureF5.png\")"
   ]
  },
  {
   "cell_type": "code",
   "execution_count": null,
   "id": "ecaecc2e-face-4652-8932-c6575c02f886",
   "metadata": {},
   "outputs": [],
   "source": [
    "HRs_ginis_RH = pd.DataFrame(index=PROJECTS_2022_TOTAL, columns=[0, 0.25, 0.5, 0.75])\n",
    "for project in list(HRs_ginis_RH.index):\n",
    "    for bucket in list(HRs_ginis_RH.columns):\n",
    "        HRs_ginis_RH.loc[project, bucket] = gini(HRs_bucketed_df_RH[project][bucket])"
   ]
  },
  {
   "cell_type": "markdown",
   "id": "094a271f-c27e-4541-a0ea-9814b2dfaccf",
   "metadata": {},
   "source": [
    "# Gini coefficient summaries"
   ]
  },
  {
   "cell_type": "markdown",
   "id": "ccc5acf0-2c50-48cb-a413-a36bef5b8363",
   "metadata": {},
   "source": [
    "## OAT"
   ]
  },
  {
   "cell_type": "code",
   "execution_count": null,
   "id": "00f4ec5e-962b-408d-9e51-b9d985712de1",
   "metadata": {},
   "outputs": [],
   "source": [
    "fig = viz.make_bar_plot(\n",
    "    y_data={\n",
    "        \"Cooling Requests\": CRs_ginis_temp,\n",
    "        \"Heating Requests\": HRs_ginis_temp,\n",
    "    },\n",
    "    bar_mode=\"group\",\n",
    "    y_axis_title=\"Gini Coefficient [Unitless]\",\n",
    "    bar_legend={\n",
    "        \"name\": {\n",
    "            0.0: f\"Q1 OAT={round(F_to_C(temps[0]))}°C-{round(F_to_C(temps[0.25]))}°C\",\n",
    "            0.25: f\"Q2 OAT={round(F_to_C(temps[0.25]))}°C-{round(F_to_C(temps[0.5]))}°C\",\n",
    "            0.5: f\"Q3 OAT={round(F_to_C(temps[0.5]))}°C-{round(F_to_C(temps[0.75]))}°C\",\n",
    "            0.75: f\"Q4 OAT={round(F_to_C(temps[0.75]))}°C-{round(F_to_C(temps[1]))}°C\",\n",
    "        },\n",
    "        \"color\": {\n",
    "            0.0: \"#1f77b4\",  # muted blue\n",
    "            0.25: \"#ff7f0e\",  # orange\n",
    "            0.5: \"#d62728\",  # red\n",
    "            0.75: \"#6a3d9a\",  # purple\n",
    "        },\n",
    "    },\n",
    "    width=850,\n",
    "    height=550,\n",
    "    y_range=[0, 1],\n",
    "    legend_order=\"forward\",\n",
    "    title_size=SINGLE_PLOT_LEGEND_SIZE + 2,\n",
    "    legend_size=SINGLE_PLOT_LEGEND_SIZE,\n",
    "    text_size=SINGLE_PLOT_TXT_SIZE,\n",
    ")\n",
    "fig = fig.update_layout(\n",
    "    legend=dict(\n",
    "        x=0.5,\n",
    "        y=-0.25,\n",
    "        xanchor=\"center\",\n",
    "        yanchor=\"top\",\n",
    "        orientation=\"h\",\n",
    "    )\n",
    ")"
   ]
  },
  {
   "cell_type": "code",
   "execution_count": null,
   "id": "cc5b74f7-11cc-41f2-ac8a-04c36b976a94",
   "metadata": {},
   "outputs": [],
   "source": [
    "fig"
   ]
  },
  {
   "cell_type": "code",
   "execution_count": null,
   "id": "e8aeeb2e-0d83-4f56-b35a-cf021ee2ae54",
   "metadata": {},
   "outputs": [],
   "source": [
    "fig.write_image(f\"{IMAGE_PATH}/Figure12.png\")"
   ]
  },
  {
   "cell_type": "markdown",
   "id": "9e76f2a5-e63c-4da9-8223-4724887d77fe",
   "metadata": {},
   "source": [
    "## RH"
   ]
  },
  {
   "cell_type": "code",
   "execution_count": null,
   "id": "2f0142f3-4f4c-4341-b889-12fe061b1818",
   "metadata": {},
   "outputs": [],
   "source": [
    "fig = viz.make_bar_plot(\n",
    "    y_data={\n",
    "        \"Cooling Requests\": CRs_ginis_RH,\n",
    "        \"Heating Requests\": HRs_ginis_RH,\n",
    "    },\n",
    "    bar_mode=\"group\",\n",
    "    y_axis_title=\"Gini Coefficient [Unitless]\",\n",
    "    bar_legend={\n",
    "        \"name\": {\n",
    "            0.0: f\"Q1 RH={round(humids[0])}%-{round(humids[0.25])}%\",\n",
    "            0.25: f\"Q2 RH={round(humids[0.25])}%-{round(humids[0.5])}%\",\n",
    "            0.5: f\"Q3 RH={round(humids[0.5])}%-{round(humids[0.75])}%\",\n",
    "            0.75: f\"Q4 RH={round(humids[0.75])}%-{round(humids[1])}%\",\n",
    "        },\n",
    "        \"color\": {\n",
    "            0.0: \"#1f77b4\",  # muted blue\n",
    "            0.25: \"#ff7f0e\",  # orange\n",
    "            0.5: \"#d62728\",  # red\n",
    "            0.75: \"#6a3d9a\",  # purple\n",
    "        },\n",
    "    },\n",
    "    width=850,\n",
    "    height=550,\n",
    "    y_range=[0, 1],\n",
    "    legend_order=\"forward\",\n",
    "    title_size=SINGLE_PLOT_LEGEND_SIZE + 2,\n",
    "    legend_size=SINGLE_PLOT_LEGEND_SIZE,\n",
    "    text_size=SINGLE_PLOT_TXT_SIZE,\n",
    ")\n",
    "\n",
    "fig = fig.update_layout(\n",
    "    legend=dict(\n",
    "        x=0.5,\n",
    "        y=-0.25,\n",
    "        xanchor=\"center\",\n",
    "        yanchor=\"top\",\n",
    "        orientation=\"h\",\n",
    "    )\n",
    ")"
   ]
  },
  {
   "cell_type": "code",
   "execution_count": null,
   "id": "fb162f16-a4c3-4eec-918f-f93559dd32bf",
   "metadata": {},
   "outputs": [],
   "source": [
    "# fig"
   ]
  },
  {
   "cell_type": "code",
   "execution_count": null,
   "id": "ab9486b9-5786-401f-8097-a72dcd83af63",
   "metadata": {},
   "outputs": [],
   "source": [
    "fig.write_image(f\"{IMAGE_PATH}/FigureF1.png\")"
   ]
  },
  {
   "cell_type": "code",
   "execution_count": null,
   "id": "138f496f-c687-47a2-89d1-00b2d7e2ab3b",
   "metadata": {},
   "outputs": [],
   "source": []
  }
 ],
 "metadata": {
  "kernelspec": {
   "display_name": "experiments_2022",
   "language": "python",
   "name": "experiments_2022"
  },
  "language_info": {
   "codemirror_mode": {
    "name": "ipython",
    "version": 3
   },
   "file_extension": ".py",
   "mimetype": "text/x-python",
   "name": "python",
   "nbconvert_exporter": "python",
   "pygments_lexer": "ipython3",
   "version": "3.9.21"
  }
 },
 "nbformat": 4,
 "nbformat_minor": 5
}
