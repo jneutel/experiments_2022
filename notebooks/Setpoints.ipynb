{
 "cells": [
  {
   "cell_type": "code",
   "execution_count": null,
   "id": "d7f0cf7e-f3cd-4b89-9afb-9dcdc78b9bac",
   "metadata": {},
   "outputs": [],
   "source": [
    "# math\n",
    "import pandas as pd\n",
    "\n",
    "# other\n",
    "import copy\n",
    "\n",
    "from experiments_2022 import IMAGE_PATH\n",
    "from experiments_2022.zone_level_analysis import (\n",
    "    base,\n",
    "    cleaning,\n",
    "    viz,\n",
    "    regression_functions,\n",
    ")\n",
    "from experiments_2022.datasets import (\n",
    "    load_zones,\n",
    "    pull_from_dataset,\n",
    ")\n",
    "\n",
    "from utils import (\n",
    "    PROJECTS_2022,\n",
    "    NO_WEEKENDS,\n",
    "    SUMMER_START_2022,\n",
    "    SUMMER_END_2022,\n",
    "    MULTI_PLOT_TXT_SIZE,\n",
    "    MULTI_PLOT_TITLE_SIZE,\n",
    "    MULTI_PLOT_LEGEND_SIZE,\n",
    ")"
   ]
  },
  {
   "cell_type": "code",
   "execution_count": null,
   "id": "afc526a1-5815-4539-b784-4149ce62cd0b",
   "metadata": {},
   "outputs": [],
   "source": [
    "EXCLUDED_ZONES = {}\n",
    "for project in PROJECTS_2022:\n",
    "    ezs = pd.read_csv(f\"./dicts_dfs/excluded/{project}.csv\").set_index(\"Unnamed: 0\")\n",
    "    ezs.index.name = None\n",
    "    EXCLUDED_ZONES[project] = ezs"
   ]
  },
  {
   "cell_type": "markdown",
   "id": "86a443d7-4c27-4512-9bec-917a4210e934",
   "metadata": {},
   "source": [
    "# Building level, command"
   ]
  },
  {
   "cell_type": "code",
   "execution_count": null,
   "id": "c9710f79-d317-4a61-8c84-d199290f14d2",
   "metadata": {},
   "outputs": [],
   "source": [
    "these_projects = copy.deepcopy(PROJECTS_2022)\n",
    "these_projects.remove(\"LAB-3\")"
   ]
  },
  {
   "cell_type": "code",
   "execution_count": null,
   "id": "cd31de60-63e3-4652-a70f-c6a97b42a357",
   "metadata": {},
   "outputs": [],
   "source": [
    "all_results = {}\n",
    "results_total_num = pd.DataFrame(\n",
    "    0,\n",
    "    index=[\"Schedule 74°F\", \"Schedule 76°F\", \"Schedule 78°F\"],\n",
    "    columns=[\n",
    "        \"Correct CSP Command (Included)\",\n",
    "        \"Incorrect CSP Command (Included)\",\n",
    "        \"Correct CSP Command (Excluded)\",\n",
    "        \"Incorrect CSP Command (Excluded)\",\n",
    "    ],\n",
    ")\n",
    "results_total_denom = pd.DataFrame(\n",
    "    0,\n",
    "    index=[\"Schedule 74°F\", \"Schedule 76°F\", \"Schedule 78°F\"],\n",
    "    columns=[\n",
    "        \"Correct CSP Command (Included)\",\n",
    "        \"Incorrect CSP Command (Included)\",\n",
    "        \"Correct CSP Command (Excluded)\",\n",
    "        \"Incorrect CSP Command (Excluded)\",\n",
    "    ],\n",
    ")\n",
    "\n",
    "for project in these_projects:\n",
    "    results = pd.DataFrame(\n",
    "        index=[\"Schedule 74°F\", \"Schedule 76°F\", \"Schedule 78°F\"],\n",
    "        columns=[\n",
    "            \"Correct CSP Command (Included)\",\n",
    "            \"Incorrect CSP Command (Included)\",\n",
    "            \"Correct CSP Command (Excluded)\",\n",
    "            \"Incorrect CSP Command (Excluded)\",\n",
    "        ],\n",
    "    )\n",
    "    if project == \"OFF-6\":\n",
    "        command = load_zones(\"2022\", \"OFF-6\", \"zone-zonesp\") + 2\n",
    "    else:\n",
    "        command = load_zones(\"2022\", project, \"zone-deadband_top\")\n",
    "\n",
    "    command = cleaning.clean_df(\n",
    "        df=command,\n",
    "        this_var=\"zone-deadband_top\",\n",
    "        start_date=SUMMER_START_2022,\n",
    "        end_date=SUMMER_END_2022,\n",
    "    )\n",
    "\n",
    "    command = command.round(0)\n",
    "\n",
    "    for sp in [74, 76, 78]:\n",
    "        this_command = cleaning.clean_df(\n",
    "            df=command,\n",
    "            hourly_filter=cleaning.get_experiment_hourly_filter(\n",
    "                [project], \"2022\", [f\"CSP = {sp}F\"], no_weekends=NO_WEEKENDS[project]\n",
    "            )[project],\n",
    "            only_business_hours=True,\n",
    "            no_weekends=NO_WEEKENDS[project],\n",
    "            SI_units=False,\n",
    "        )\n",
    "\n",
    "        included_zones = list(this_command.columns)\n",
    "        excluded_zones = list(\n",
    "            (EXCLUDED_ZONES[project][EXCLUDED_ZONES[project] == 1]).dropna().index\n",
    "        )\n",
    "        excluded_zones = list(set(included_zones).intersection(set(excluded_zones)))\n",
    "        included_zones = list(set(included_zones) - set(excluded_zones))\n",
    "        this_command_included = this_command[included_zones]\n",
    "        this_command_excluded = this_command[excluded_zones]\n",
    "\n",
    "        # included\n",
    "        correct = (this_command_included == sp).sum().sum() / (\n",
    "            len(this_command.index) * len(this_command.columns)\n",
    "        )\n",
    "        incorrect = (this_command_included != sp).sum().sum() / (\n",
    "            len(this_command.index) * len(this_command.columns)\n",
    "        )\n",
    "        results.loc[f\"Schedule {sp}°F\", \"Correct CSP Command (Included)\"] = correct\n",
    "        results.loc[f\"Schedule {sp}°F\", \"Incorrect CSP Command (Included)\"] = incorrect\n",
    "\n",
    "        # excluded\n",
    "        correct = (this_command_excluded == sp).sum().sum() / (\n",
    "            len(this_command.index) * len(this_command.columns)\n",
    "        )\n",
    "        incorrect = (this_command_excluded != sp).sum().sum() / (\n",
    "            len(this_command.index) * len(this_command.columns)\n",
    "        )\n",
    "        results.loc[f\"Schedule {sp}°F\", \"Correct CSP Command (Excluded)\"] = correct\n",
    "        results.loc[f\"Schedule {sp}°F\", \"Incorrect CSP Command (Excluded)\"] = incorrect\n",
    "\n",
    "        # total\n",
    "        results_total_num.loc[f\"Schedule {sp}°F\", \"Correct CSP Command (Included)\"] += (\n",
    "            (this_command_included == sp).sum().sum()\n",
    "        )\n",
    "        results_total_num.loc[\n",
    "            f\"Schedule {sp}°F\", \"Incorrect CSP Command (Included)\"\n",
    "        ] += ((this_command_included != sp).sum().sum())\n",
    "        results_total_num.loc[f\"Schedule {sp}°F\", \"Correct CSP Command (Excluded)\"] += (\n",
    "            (this_command_excluded == sp).sum().sum()\n",
    "        )\n",
    "        results_total_num.loc[\n",
    "            f\"Schedule {sp}°F\", \"Incorrect CSP Command (Excluded)\"\n",
    "        ] += ((this_command_excluded != sp).sum().sum())\n",
    "        results_total_denom.loc[\n",
    "            f\"Schedule {sp}°F\", \"Correct CSP Command (Included)\"\n",
    "        ] += len(this_command.index) * len(this_command.columns)\n",
    "        results_total_denom.loc[\n",
    "            f\"Schedule {sp}°F\", \"Incorrect CSP Command (Included)\"\n",
    "        ] += len(this_command.index) * len(this_command.columns)\n",
    "        results_total_denom.loc[\n",
    "            f\"Schedule {sp}°F\", \"Correct CSP Command (Excluded)\"\n",
    "        ] += len(this_command.index) * len(this_command.columns)\n",
    "        results_total_denom.loc[\n",
    "            f\"Schedule {sp}°F\", \"Incorrect CSP Command (Excluded)\"\n",
    "        ] += len(this_command.index) * len(this_command.columns)\n",
    "\n",
    "    all_results[project] = results\n",
    "    print(project)\n",
    "\n",
    "results_total = results_total_num / results_total_denom\n",
    "all_results[\"TOTAL\"] = results_total"
   ]
  },
  {
   "cell_type": "code",
   "execution_count": null,
   "id": "d303b785-daad-430d-9efc-05b70ce0bcc0",
   "metadata": {},
   "outputs": [],
   "source": [
    "fig = viz.make_bar_plot(\n",
    "    y_data=all_results,\n",
    "    bar_legend={\n",
    "        \"name\": {\n",
    "            \"Correct CSP Command (Included)\": \"Correct CSP Command\",\n",
    "            \"Incorrect CSP Command (Included)\": \"Incorrect CSP Command\",\n",
    "            \"Correct CSP Command (Excluded)\": \"Correct CSP Command (Excluded)\",\n",
    "            \"Incorrect CSP Command (Excluded)\": \"Incorrect CSP Command (Excluded)\",\n",
    "        },\n",
    "        \"color\": {\n",
    "            \"Correct CSP Command (Included)\": \"Green\",\n",
    "            \"Incorrect CSP Command (Included)\": \"Red\",\n",
    "            \"Correct CSP Command (Excluded)\": \"Green\",\n",
    "            \"Incorrect CSP Command (Excluded)\": \"Red\",\n",
    "        },\n",
    "        \"opacity\": {\n",
    "            \"Correct CSP Command (Included)\": 1,\n",
    "            \"Incorrect CSP Command (Included)\": 1,\n",
    "            \"Correct CSP Command (Excluded)\": 0.7,\n",
    "            \"Incorrect CSP Command (Excluded)\": 0.7,\n",
    "        },\n",
    "        \"pattern\": {\n",
    "            \"Correct CSP Command (Included)\": \"\",\n",
    "            \"Incorrect CSP Command (Included)\": \"\",\n",
    "            \"Correct CSP Command (Excluded)\": \"/\",\n",
    "            \"Incorrect CSP Command (Excluded)\": \"/\",\n",
    "        },\n",
    "    },\n",
    "    dont_add_to_legend=[\n",
    "        \"Correct CSP Command (Excluded)\",\n",
    "        \"Incorrect CSP Command (Excluded)\",\n",
    "    ],\n",
    "    pattern_legend={\"Excluded\": (\"/\", 0.7)},\n",
    "    y_axis_title=\"Fraction of Zone Hours<br>[Unitless]\",\n",
    "    vertical_spacing=0.075,\n",
    "    y_range=[0, 1],\n",
    "    title_size=MULTI_PLOT_TITLE_SIZE,\n",
    "    legend_size=MULTI_PLOT_LEGEND_SIZE,\n",
    "    text_size=MULTI_PLOT_TXT_SIZE,\n",
    ")\n",
    "fig = fig.update_layout(\n",
    "    legend=dict(\n",
    "        x=0.5,\n",
    "        y=-0.025,\n",
    "        xanchor=\"center\",\n",
    "        yanchor=\"top\",\n",
    "        orientation=\"h\",\n",
    "    )\n",
    ")"
   ]
  },
  {
   "cell_type": "code",
   "execution_count": null,
   "id": "d2067a57-7276-4f96-b681-b9160b129684",
   "metadata": {},
   "outputs": [],
   "source": [
    "# fig"
   ]
  },
  {
   "cell_type": "code",
   "execution_count": null,
   "id": "b7ecce70-8672-495e-bd99-5966ccb3e9db",
   "metadata": {},
   "outputs": [],
   "source": [
    "fig.write_image(f\"{IMAGE_PATH}/FigureH1.png\")"
   ]
  },
  {
   "cell_type": "markdown",
   "id": "45225d1a-9bed-423b-a1d2-c5e98546cb79",
   "metadata": {},
   "source": [
    "# Building level, command"
   ]
  },
  {
   "cell_type": "code",
   "execution_count": null,
   "id": "e4bf4877-0f47-40e7-8b8d-2bc378e5db0c",
   "metadata": {},
   "outputs": [],
   "source": [
    "these_projects = copy.deepcopy(PROJECTS_2022)\n",
    "these_projects.remove(\"LAB-3\")"
   ]
  },
  {
   "cell_type": "code",
   "execution_count": null,
   "id": "aeac4758-83e4-4e23-8995-fd7dc3de6261",
   "metadata": {},
   "outputs": [],
   "source": [
    "command = pull_from_dataset(\"2022\", these_projects, \"zone-deadband_top\")"
   ]
  },
  {
   "cell_type": "code",
   "execution_count": null,
   "id": "89d1acfa-b395-4cb6-a88c-981ac9093866",
   "metadata": {},
   "outputs": [],
   "source": [
    "command_74 = cleaning.clean_dfs(\n",
    "    dfs=command,\n",
    "    this_var=\"zone-deadband_top\",\n",
    "    start_date=SUMMER_START_2022,\n",
    "    end_date=SUMMER_END_2022,\n",
    "    only_business_hours=True,\n",
    "    no_weekends=NO_WEEKENDS,\n",
    "    SI_units=False,\n",
    "    hourly_filter=cleaning.get_experiment_hourly_filter(\n",
    "        projects=PROJECTS_2022,\n",
    "        experiment_year=\"2022\",\n",
    "        filter_columns=[\"CSP = 74F\"],\n",
    "        no_weekends=NO_WEEKENDS,\n",
    "        use_raw=False,\n",
    "    ),\n",
    ")\n",
    "\n",
    "command_76 = cleaning.clean_dfs(\n",
    "    dfs=command,\n",
    "    this_var=\"zone-deadband_top\",\n",
    "    start_date=SUMMER_START_2022,\n",
    "    end_date=SUMMER_END_2022,\n",
    "    only_business_hours=True,\n",
    "    no_weekends=NO_WEEKENDS,\n",
    "    SI_units=False,\n",
    "    hourly_filter=cleaning.get_experiment_hourly_filter(\n",
    "        projects=PROJECTS_2022,\n",
    "        experiment_year=\"2022\",\n",
    "        filter_columns=[\"CSP = 76F\"],\n",
    "        no_weekends=NO_WEEKENDS,\n",
    "        use_raw=False,\n",
    "    ),\n",
    ")\n",
    "command_78 = cleaning.clean_dfs(\n",
    "    dfs=command,\n",
    "    this_var=\"zone-deadband_top\",\n",
    "    start_date=SUMMER_START_2022,\n",
    "    end_date=SUMMER_END_2022,\n",
    "    only_business_hours=True,\n",
    "    no_weekends=NO_WEEKENDS,\n",
    "    SI_units=False,\n",
    "    hourly_filter=cleaning.get_experiment_hourly_filter(\n",
    "        projects=PROJECTS_2022,\n",
    "        experiment_year=\"2022\",\n",
    "        filter_columns=[\"CSP = 78F\"],\n",
    "        no_weekends=NO_WEEKENDS,\n",
    "        use_raw=False,\n",
    "    ),\n",
    ")"
   ]
  },
  {
   "cell_type": "code",
   "execution_count": null,
   "id": "bd1d1459-51f6-4147-bfd2-d23354ffa1fb",
   "metadata": {},
   "outputs": [],
   "source": [
    "command_74_mean = base.run_passive_test_on_dfs(\n",
    "    dfs=command_74, this_test=\"Mean\", col_name=\"CSP = 74°F\"\n",
    ")\n",
    "command_76_mean = base.run_passive_test_on_dfs(\n",
    "    dfs=command_76, this_test=\"Mean\", col_name=\"CSP = 76°F\"\n",
    ")\n",
    "command_78_mean = base.run_passive_test_on_dfs(\n",
    "    dfs=command_78, this_test=\"Mean\", col_name=\"CSP = 78°F\"\n",
    ")\n",
    "\n",
    "command_74_std = base.run_passive_test_on_dfs(\n",
    "    dfs=command_74, this_test=\"Std\", col_name=\"CSP = 74°F\"\n",
    ")\n",
    "command_76_std = base.run_passive_test_on_dfs(\n",
    "    dfs=command_76, this_test=\"Std\", col_name=\"CSP = 76°F\"\n",
    ")\n",
    "command_78_std = base.run_passive_test_on_dfs(\n",
    "    dfs=command_78, this_test=\"Std\", col_name=\"CSP = 78°F\"\n",
    ")"
   ]
  },
  {
   "cell_type": "code",
   "execution_count": null,
   "id": "6713f83b-d244-42c0-b213-83075f140866",
   "metadata": {},
   "outputs": [],
   "source": [
    "command_mean = base.combine_dicts([command_74_mean, command_76_mean, command_78_mean])\n",
    "command_std = base.combine_dicts([command_74_std, command_76_std, command_78_std])"
   ]
  },
  {
   "cell_type": "code",
   "execution_count": null,
   "id": "817a0d48-2957-4762-b25a-dcc28ea0385b",
   "metadata": {},
   "outputs": [],
   "source": [
    "for project in these_projects:\n",
    "    these_zones = list(command_mean[project].index)\n",
    "    these_ezs = list(\n",
    "        (EXCLUDED_ZONES[project][EXCLUDED_ZONES[project] == 1]).dropna().index\n",
    "    )\n",
    "    these_zones = list(set(these_zones) - set(these_ezs))\n",
    "    command_mean[project] = command_mean[project].loc[these_zones, :]\n",
    "    command_std[project] = command_std[project].loc[these_zones, :]"
   ]
  },
  {
   "cell_type": "code",
   "execution_count": null,
   "id": "44590d31-6c97-47f6-a0eb-a16603c016a3",
   "metadata": {},
   "outputs": [],
   "source": [
    "opacity_data = {}\n",
    "for project in these_projects:\n",
    "    opacity_data[project] = pd.Series(\n",
    "        0.8, index=list(command_mean[project].index)\n",
    "    ).to_frame()"
   ]
  },
  {
   "cell_type": "code",
   "execution_count": null,
   "id": "31b7be63-95a7-4775-a052-e10f4d038b1c",
   "metadata": {},
   "outputs": [],
   "source": [
    "fig = viz.make_dot_plot(\n",
    "    y_data=command_mean,\n",
    "    y_error_up_data=command_std,\n",
    "    y_error_down_data=command_std,\n",
    "    normalize_x=True,\n",
    "    sort_by=\"CSP = 74°F\",\n",
    "    y_axis_title=\"CSP Command [°F]\",\n",
    "    x_axis_title=\"Fraction of Included Zones [Unitless]\",\n",
    "    horizontal_spacing=0.075,\n",
    "    vertical_spacing=0.125,\n",
    "    color_legend={\n",
    "        \"color\": {\n",
    "            \"CSP = 74°F\": \"RoyalBlue\",\n",
    "            \"CSP = 76°F\": \"DarkOrange\",\n",
    "            \"CSP = 78°F\": \"Firebrick\",\n",
    "        }\n",
    "    },\n",
    "    opacity_data=opacity_data,\n",
    "    y_range=[70, 85],\n",
    "    title_size=MULTI_PLOT_TITLE_SIZE,\n",
    "    legend_size=MULTI_PLOT_LEGEND_SIZE,\n",
    "    text_size=MULTI_PLOT_TXT_SIZE,\n",
    ")\n",
    "fig = fig.update_layout(\n",
    "    legend=dict(\n",
    "        x=0.5,\n",
    "        y=-0.075,\n",
    "        xanchor=\"center\",\n",
    "        yanchor=\"top\",\n",
    "        orientation=\"h\",\n",
    "    )\n",
    ")"
   ]
  },
  {
   "cell_type": "code",
   "execution_count": null,
   "id": "95b68ae9-5225-43d4-adbc-db0fbcb639cb",
   "metadata": {},
   "outputs": [],
   "source": [
    "# fig"
   ]
  },
  {
   "cell_type": "code",
   "execution_count": null,
   "id": "44b7f99e-9730-4288-9e25-b8573a5e529c",
   "metadata": {},
   "outputs": [],
   "source": [
    "fig.write_image(f\"{IMAGE_PATH}/FigureH2.png\")"
   ]
  },
  {
   "cell_type": "markdown",
   "id": "48918475-d836-481f-a310-c24298158e32",
   "metadata": {},
   "source": [
    "# Building level, effective"
   ]
  },
  {
   "cell_type": "code",
   "execution_count": null,
   "id": "59cc94a5-cf6d-45ff-ac1f-de9ea73ab144",
   "metadata": {},
   "outputs": [],
   "source": [
    "effective = pull_from_dataset(\"2022\", PROJECTS_2022, \"zone-coolsp\")"
   ]
  },
  {
   "cell_type": "code",
   "execution_count": null,
   "id": "7e861748-7a46-483a-8f03-f8520b756f32",
   "metadata": {},
   "outputs": [],
   "source": [
    "effective_74 = cleaning.clean_dfs(\n",
    "    dfs=effective,\n",
    "    this_var=\"zone-coolsp\",\n",
    "    start_date=SUMMER_START_2022,\n",
    "    end_date=SUMMER_END_2022,\n",
    "    only_business_hours=True,\n",
    "    no_weekends=NO_WEEKENDS,\n",
    "    SI_units=False,\n",
    "    hourly_filter=cleaning.get_experiment_hourly_filter(\n",
    "        projects=PROJECTS_2022,\n",
    "        experiment_year=\"2022\",\n",
    "        filter_columns=[\"CSP = 74F\"],\n",
    "        no_weekends=NO_WEEKENDS,\n",
    "        use_raw=False,\n",
    "    ),\n",
    ")\n",
    "\n",
    "effective_76 = cleaning.clean_dfs(\n",
    "    dfs=effective,\n",
    "    this_var=\"zone-coolsp\",\n",
    "    start_date=SUMMER_START_2022,\n",
    "    end_date=SUMMER_END_2022,\n",
    "    only_business_hours=True,\n",
    "    no_weekends=NO_WEEKENDS,\n",
    "    SI_units=False,\n",
    "    hourly_filter=cleaning.get_experiment_hourly_filter(\n",
    "        projects=PROJECTS_2022,\n",
    "        experiment_year=\"2022\",\n",
    "        filter_columns=[\"CSP = 76F\"],\n",
    "        no_weekends=NO_WEEKENDS,\n",
    "        use_raw=False,\n",
    "    ),\n",
    ")\n",
    "effective_78 = cleaning.clean_dfs(\n",
    "    dfs=effective,\n",
    "    this_var=\"zone-coolsp\",\n",
    "    start_date=SUMMER_START_2022,\n",
    "    end_date=SUMMER_END_2022,\n",
    "    only_business_hours=True,\n",
    "    no_weekends=NO_WEEKENDS,\n",
    "    SI_units=False,\n",
    "    hourly_filter=cleaning.get_experiment_hourly_filter(\n",
    "        projects=PROJECTS_2022,\n",
    "        experiment_year=\"2022\",\n",
    "        filter_columns=[\"CSP = 78F\"],\n",
    "        no_weekends=NO_WEEKENDS,\n",
    "        use_raw=False,\n",
    "    ),\n",
    ")"
   ]
  },
  {
   "cell_type": "code",
   "execution_count": null,
   "id": "d64043ea-be0c-42a9-9e0a-12b316b0708f",
   "metadata": {},
   "outputs": [],
   "source": [
    "effective_74_mean = base.run_passive_test_on_dfs(\n",
    "    dfs=effective_74, this_test=\"Mean\", col_name=\"CSP = 74°F\"\n",
    ")\n",
    "effective_76_mean = base.run_passive_test_on_dfs(\n",
    "    dfs=effective_76, this_test=\"Mean\", col_name=\"CSP = 76°F\"\n",
    ")\n",
    "effective_78_mean = base.run_passive_test_on_dfs(\n",
    "    dfs=effective_78, this_test=\"Mean\", col_name=\"CSP = 78°F\"\n",
    ")\n",
    "\n",
    "effective_74_std = base.run_passive_test_on_dfs(\n",
    "    dfs=effective_74, this_test=\"Std\", col_name=\"CSP = 74°F\"\n",
    ")\n",
    "effective_76_std = base.run_passive_test_on_dfs(\n",
    "    dfs=effective_76, this_test=\"Std\", col_name=\"CSP = 76°F\"\n",
    ")\n",
    "effective_78_std = base.run_passive_test_on_dfs(\n",
    "    dfs=effective_78, this_test=\"Std\", col_name=\"CSP = 78°F\"\n",
    ")"
   ]
  },
  {
   "cell_type": "code",
   "execution_count": null,
   "id": "f5de1a43-f8ac-4aff-ba1d-8bb368070f12",
   "metadata": {},
   "outputs": [],
   "source": [
    "effective_mean = base.combine_dicts(\n",
    "    [effective_74_mean, effective_76_mean, effective_78_mean]\n",
    ")\n",
    "effective_std = base.combine_dicts(\n",
    "    [effective_74_std, effective_76_std, effective_78_std]\n",
    ")"
   ]
  },
  {
   "cell_type": "code",
   "execution_count": null,
   "id": "c33d4b71-b31a-4bb4-8917-99128508bd71",
   "metadata": {},
   "outputs": [],
   "source": [
    "for project in PROJECTS_2022:\n",
    "    these_zones = list(effective_mean[project].index)\n",
    "    these_ezs = list(\n",
    "        (EXCLUDED_ZONES[project][EXCLUDED_ZONES[project] == 1]).dropna().index\n",
    "    )\n",
    "    these_zones = list(set(these_zones) - set(these_ezs))\n",
    "    effective_mean[project] = effective_mean[project].loc[these_zones, :]\n",
    "    effective_std[project] = effective_std[project].loc[these_zones, :]"
   ]
  },
  {
   "cell_type": "code",
   "execution_count": null,
   "id": "e637a8ca-3572-4c55-8ff3-b89015c93b38",
   "metadata": {},
   "outputs": [],
   "source": [
    "opacity_data = {}\n",
    "for project in PROJECTS_2022:\n",
    "    opacity_data[project] = pd.Series(\n",
    "        0.8, index=list(effective_mean[project].index)\n",
    "    ).to_frame()"
   ]
  },
  {
   "cell_type": "code",
   "execution_count": null,
   "id": "00f2a770-c5a7-4d06-b5bf-2f2584255271",
   "metadata": {},
   "outputs": [],
   "source": [
    "fig = viz.make_dot_plot(\n",
    "    y_data=effective_mean,\n",
    "    y_error_up_data=effective_std,\n",
    "    y_error_down_data=effective_std,\n",
    "    normalize_x=True,\n",
    "    sort_by=\"CSP = 74°F\",\n",
    "    y_axis_title=\"Effective CSP [°F]\",\n",
    "    x_axis_title=\"Fraction of Included Zones [Unitless]\",\n",
    "    horizontal_spacing=0.075,\n",
    "    vertical_spacing=0.1,\n",
    "    color_legend={\n",
    "        \"color\": {\n",
    "            \"CSP = 74°F\": \"RoyalBlue\",\n",
    "            \"CSP = 76°F\": \"DarkOrange\",\n",
    "            \"CSP = 78°F\": \"Firebrick\",\n",
    "        }\n",
    "    },\n",
    "    opacity_data=opacity_data,\n",
    "    y_range=[70, 85],\n",
    "    title_size=MULTI_PLOT_TITLE_SIZE,\n",
    "    legend_size=MULTI_PLOT_LEGEND_SIZE,\n",
    "    text_size=MULTI_PLOT_TXT_SIZE,\n",
    ")\n",
    "fig = fig.update_layout(\n",
    "    legend=dict(\n",
    "        x=0.5,\n",
    "        y=-0.05,\n",
    "        xanchor=\"center\",\n",
    "        yanchor=\"top\",\n",
    "        orientation=\"h\",\n",
    "    )\n",
    ")"
   ]
  },
  {
   "cell_type": "code",
   "execution_count": null,
   "id": "33237406-7bf0-4aa4-be8e-9acae586efbd",
   "metadata": {},
   "outputs": [],
   "source": [
    "# fig"
   ]
  },
  {
   "cell_type": "code",
   "execution_count": null,
   "id": "b889b401-e4f2-4cd5-b27c-561909c958fb",
   "metadata": {},
   "outputs": [],
   "source": [
    "fig.write_image(f\"{IMAGE_PATH}/FigureH3.png\")"
   ]
  },
  {
   "cell_type": "markdown",
   "id": "826054b4-399a-4cf3-8d8d-9850a76e7044",
   "metadata": {},
   "source": [
    "# Zone level, effective"
   ]
  },
  {
   "cell_type": "code",
   "execution_count": null,
   "id": "c7c945c0-f2be-43bf-b010-84cb4f56e13a",
   "metadata": {},
   "outputs": [],
   "source": [
    "effective = pull_from_dataset(\"2022\", PROJECTS_2022, \"zone-coolsp\")"
   ]
  },
  {
   "cell_type": "code",
   "execution_count": null,
   "id": "f59b0536-0875-4594-b2a3-7d9a2b0452fa",
   "metadata": {},
   "outputs": [],
   "source": [
    "effective = cleaning.clean_dfs(\n",
    "    dfs=effective,\n",
    "    this_var=\"zone-coolsp\",\n",
    "    start_date=SUMMER_START_2022,\n",
    "    end_date=SUMMER_END_2022,\n",
    "    only_business_hours=True,\n",
    "    no_weekends=NO_WEEKENDS,\n",
    "    SI_units=False,\n",
    ")"
   ]
  },
  {
   "cell_type": "code",
   "execution_count": null,
   "id": "d2a97555-84d7-4f25-bb7e-dab99b86fe3b",
   "metadata": {},
   "outputs": [],
   "source": [
    "zonal_schedules = {}\n",
    "for project in PROJECTS_2022:\n",
    "    zonal_schedules[project] = regression_functions.get_zonal_sp_schedule(\n",
    "        project, experiment_year=\"2022\", freq=\"hourly\", df=effective[project]\n",
    "    )"
   ]
  },
  {
   "cell_type": "code",
   "execution_count": null,
   "id": "01539845-4e16-43e5-a7d2-ba27c0414d37",
   "metadata": {},
   "outputs": [],
   "source": [
    "df_filter_74 = cleaning.create_sp_filter(\n",
    "    zonal_schedules, sps=[74], reverse_filter=False\n",
    ")\n",
    "effective_74 = cleaning.clean_dfs(\n",
    "    dfs=effective, only_business_hours=False, no_weekends=False, df_filter=df_filter_74\n",
    ")"
   ]
  },
  {
   "cell_type": "code",
   "execution_count": null,
   "id": "47a4a92d-e01f-496d-89f7-3f8eb566330b",
   "metadata": {},
   "outputs": [],
   "source": [
    "df_filter_76 = cleaning.create_sp_filter(\n",
    "    zonal_schedules, sps=[76], reverse_filter=False\n",
    ")\n",
    "effective_76 = cleaning.clean_dfs(\n",
    "    dfs=effective, only_business_hours=False, no_weekends=False, df_filter=df_filter_76\n",
    ")"
   ]
  },
  {
   "cell_type": "code",
   "execution_count": null,
   "id": "d49236d3-3228-43a3-81af-58feb9bbe1d3",
   "metadata": {},
   "outputs": [],
   "source": [
    "df_filter_78 = cleaning.create_sp_filter(\n",
    "    zonal_schedules, sps=[78], reverse_filter=False\n",
    ")\n",
    "effective_78 = cleaning.clean_dfs(\n",
    "    dfs=effective, only_business_hours=False, no_weekends=False, df_filter=df_filter_78\n",
    ")"
   ]
  },
  {
   "cell_type": "code",
   "execution_count": null,
   "id": "ec6c5aa2-d6b7-4808-9ddc-55c61056995d",
   "metadata": {},
   "outputs": [],
   "source": [
    "effective_74_mean = base.run_passive_test_on_dfs(\n",
    "    dfs=effective_74, this_test=\"Mean\", col_name=\"CSP = 74°F\"\n",
    ")\n",
    "effective_76_mean = base.run_passive_test_on_dfs(\n",
    "    dfs=effective_76, this_test=\"Mean\", col_name=\"CSP = 76°F\"\n",
    ")\n",
    "effective_78_mean = base.run_passive_test_on_dfs(\n",
    "    dfs=effective_78, this_test=\"Mean\", col_name=\"CSP = 78°F\"\n",
    ")\n",
    "\n",
    "effective_74_std = base.run_passive_test_on_dfs(\n",
    "    dfs=effective_74, this_test=\"Std\", col_name=\"CSP = 74°F\"\n",
    ")\n",
    "effective_76_std = base.run_passive_test_on_dfs(\n",
    "    dfs=effective_76, this_test=\"Std\", col_name=\"CSP = 76°F\"\n",
    ")\n",
    "effective_78_std = base.run_passive_test_on_dfs(\n",
    "    dfs=effective_78, this_test=\"Std\", col_name=\"CSP = 78°F\"\n",
    ")"
   ]
  },
  {
   "cell_type": "code",
   "execution_count": null,
   "id": "431f4793-eda6-48b2-8fe6-f53a465a448e",
   "metadata": {},
   "outputs": [],
   "source": [
    "effective_mean = base.combine_dicts(\n",
    "    [effective_74_mean, effective_76_mean, effective_78_mean]\n",
    ")\n",
    "effective_std = base.combine_dicts(\n",
    "    [effective_74_std, effective_76_std, effective_78_std]\n",
    ")"
   ]
  },
  {
   "cell_type": "code",
   "execution_count": null,
   "id": "3ff2c408-980f-4b6a-b764-3c03c90be8b5",
   "metadata": {},
   "outputs": [],
   "source": [
    "for project in PROJECTS_2022:\n",
    "    these_zones = list(effective_mean[project].index)\n",
    "    these_ezs = list(\n",
    "        (EXCLUDED_ZONES[project][EXCLUDED_ZONES[project] == 1]).dropna().index\n",
    "    )\n",
    "    these_zones = list(set(these_zones) - set(these_ezs))\n",
    "    effective_mean[project] = effective_mean[project].loc[these_zones, :]\n",
    "    effective_std[project] = effective_std[project].loc[these_zones, :]"
   ]
  },
  {
   "cell_type": "code",
   "execution_count": null,
   "id": "983f3d8e-ae90-4350-96fa-8238d4bb6d37",
   "metadata": {},
   "outputs": [],
   "source": [
    "opacity_data = {}\n",
    "for project in these_projects:\n",
    "    opacity_data[project] = pd.Series(\n",
    "        0.8, index=list(effective_mean[project].index)\n",
    "    ).to_frame()"
   ]
  },
  {
   "cell_type": "code",
   "execution_count": null,
   "id": "44e9e8ce-b5c2-4e7b-a9a4-f62ba9b96c76",
   "metadata": {},
   "outputs": [],
   "source": [
    "fig = viz.make_dot_plot(\n",
    "    y_data=effective_mean,\n",
    "    y_error_up_data=effective_std,\n",
    "    y_error_down_data=effective_std,\n",
    "    normalize_x=True,\n",
    "    sort_by=\"CSP = 74°F\",\n",
    "    y_axis_title=\"Effective CSP [°F]\",\n",
    "    x_axis_title=\"Fraction of Included Zones [Unitless]\",\n",
    "    horizontal_spacing=0.075,\n",
    "    vertical_spacing=0.1,\n",
    "    color_legend={\n",
    "        \"color\": {\n",
    "            \"CSP = 74°F\": \"RoyalBlue\",\n",
    "            \"CSP = 76°F\": \"DarkOrange\",\n",
    "            \"CSP = 78°F\": \"Firebrick\",\n",
    "        }\n",
    "    },\n",
    "    opacity_data=opacity_data,\n",
    "    y_range=[70, 85],\n",
    "    title_size=MULTI_PLOT_TITLE_SIZE,\n",
    "    legend_size=MULTI_PLOT_LEGEND_SIZE,\n",
    "    text_size=MULTI_PLOT_TXT_SIZE,\n",
    ")\n",
    "fig = fig.update_layout(\n",
    "    legend=dict(\n",
    "        x=0.5,\n",
    "        y=-0.05,\n",
    "        xanchor=\"center\",\n",
    "        yanchor=\"top\",\n",
    "        orientation=\"h\",\n",
    "    )\n",
    ")"
   ]
  },
  {
   "cell_type": "code",
   "execution_count": null,
   "id": "4bbc4120-8880-4c19-8ff0-5eabdd1add27",
   "metadata": {},
   "outputs": [],
   "source": [
    "# fig"
   ]
  },
  {
   "cell_type": "code",
   "execution_count": null,
   "id": "7a7a84e7-2b3c-45e7-ab47-867f8d8393f9",
   "metadata": {},
   "outputs": [],
   "source": [
    "fig.write_image(f\"{IMAGE_PATH}/FigureH5.png\")"
   ]
  },
  {
   "cell_type": "markdown",
   "id": "1e7f33a8-4417-4611-a7ea-d79e35d6852b",
   "metadata": {},
   "source": [
    "## Zone level, command"
   ]
  },
  {
   "cell_type": "code",
   "execution_count": null,
   "id": "a8babe82-a8b4-4166-9cee-15012cb8d5e6",
   "metadata": {},
   "outputs": [],
   "source": [
    "these_projects = copy.deepcopy(PROJECTS_2022)\n",
    "these_projects.remove(\"LAB-3\")"
   ]
  },
  {
   "cell_type": "code",
   "execution_count": null,
   "id": "721e0bef-1ead-41d9-ab00-8667976b6f3e",
   "metadata": {},
   "outputs": [],
   "source": [
    "command = pull_from_dataset(\"2022\", these_projects, \"zone-deadband_top\")"
   ]
  },
  {
   "cell_type": "code",
   "execution_count": null,
   "id": "8030b861-7282-449e-b12e-3a1bf843be61",
   "metadata": {},
   "outputs": [],
   "source": [
    "command = cleaning.clean_dfs(\n",
    "    dfs=command,\n",
    "    this_var=\"zone-deadband_top\",\n",
    "    start_date=SUMMER_START_2022,\n",
    "    end_date=SUMMER_END_2022,\n",
    "    only_business_hours=True,\n",
    "    no_weekends=NO_WEEKENDS,\n",
    "    SI_units=False,\n",
    ")"
   ]
  },
  {
   "cell_type": "code",
   "execution_count": null,
   "id": "19274328-e8b1-4f98-9866-2b2b50bbfd05",
   "metadata": {},
   "outputs": [],
   "source": [
    "zonal_schedules = {}\n",
    "for project in these_projects:\n",
    "    zonal_schedules[project] = regression_functions.get_zonal_sp_schedule(\n",
    "        project, experiment_year=\"2022\", freq=\"hourly\", df=command[project]\n",
    "    )"
   ]
  },
  {
   "cell_type": "code",
   "execution_count": null,
   "id": "6062e3e3-2dce-49fd-a2ef-5c249c46eb61",
   "metadata": {},
   "outputs": [],
   "source": [
    "df_filter_74 = cleaning.create_sp_filter(\n",
    "    zonal_schedules, sps=[74], reverse_filter=False\n",
    ")\n",
    "command_74 = cleaning.clean_dfs(\n",
    "    dfs=command, only_business_hours=False, no_weekends=False, df_filter=df_filter_74\n",
    ")"
   ]
  },
  {
   "cell_type": "code",
   "execution_count": null,
   "id": "41bc8642-a700-4634-b824-c65078480e03",
   "metadata": {},
   "outputs": [],
   "source": [
    "df_filter_76 = cleaning.create_sp_filter(\n",
    "    zonal_schedules, sps=[76], reverse_filter=False\n",
    ")\n",
    "command_76 = cleaning.clean_dfs(\n",
    "    dfs=command, only_business_hours=False, no_weekends=False, df_filter=df_filter_76\n",
    ")"
   ]
  },
  {
   "cell_type": "code",
   "execution_count": null,
   "id": "15b4a15e-2037-4f2f-bfb5-7acf01106491",
   "metadata": {},
   "outputs": [],
   "source": [
    "df_filter_78 = cleaning.create_sp_filter(\n",
    "    zonal_schedules, sps=[78], reverse_filter=False\n",
    ")\n",
    "command_78 = cleaning.clean_dfs(\n",
    "    dfs=command, only_business_hours=False, no_weekends=False, df_filter=df_filter_78\n",
    ")"
   ]
  },
  {
   "cell_type": "code",
   "execution_count": null,
   "id": "dde261f7-6a1a-4229-8316-8063c1e58da4",
   "metadata": {},
   "outputs": [],
   "source": [
    "command_74_mean = base.run_passive_test_on_dfs(\n",
    "    dfs=command_74, this_test=\"Mean\", col_name=\"CSP = 74°F\"\n",
    ")\n",
    "command_76_mean = base.run_passive_test_on_dfs(\n",
    "    dfs=command_76, this_test=\"Mean\", col_name=\"CSP = 76°F\"\n",
    ")\n",
    "command_78_mean = base.run_passive_test_on_dfs(\n",
    "    dfs=command_78, this_test=\"Mean\", col_name=\"CSP = 78°F\"\n",
    ")\n",
    "\n",
    "command_74_std = base.run_passive_test_on_dfs(\n",
    "    dfs=command_74, this_test=\"Std\", col_name=\"CSP = 74°F\"\n",
    ")\n",
    "command_76_std = base.run_passive_test_on_dfs(\n",
    "    dfs=command_76, this_test=\"Std\", col_name=\"CSP = 76°F\"\n",
    ")\n",
    "command_78_std = base.run_passive_test_on_dfs(\n",
    "    dfs=command_78, this_test=\"Std\", col_name=\"CSP = 78°F\"\n",
    ")"
   ]
  },
  {
   "cell_type": "code",
   "execution_count": null,
   "id": "f2793cf7-5b6c-4413-ae15-93c0c0b0a20b",
   "metadata": {},
   "outputs": [],
   "source": [
    "command_mean = base.combine_dicts([command_74_mean, command_76_mean, command_78_mean])\n",
    "command_std = base.combine_dicts([command_74_std, command_76_std, command_78_std])"
   ]
  },
  {
   "cell_type": "code",
   "execution_count": null,
   "id": "29da9e95-c403-4926-be8b-3c686224c560",
   "metadata": {},
   "outputs": [],
   "source": [
    "for project in these_projects:\n",
    "    these_zones = list(command_mean[project].index)\n",
    "    these_ezs = list(\n",
    "        (EXCLUDED_ZONES[project][EXCLUDED_ZONES[project] == 1]).dropna().index\n",
    "    )\n",
    "    these_zones = list(set(these_zones) - set(these_ezs))\n",
    "    command_mean[project] = command_mean[project].loc[these_zones, :]\n",
    "    command_std[project] = command_std[project].loc[these_zones, :]"
   ]
  },
  {
   "cell_type": "code",
   "execution_count": null,
   "id": "966b63dc-3f5a-4bba-9af4-6bd9c1235d31",
   "metadata": {},
   "outputs": [],
   "source": [
    "opacity_data = {}\n",
    "for project in these_projects:\n",
    "    opacity_data[project] = pd.Series(\n",
    "        0.8, index=list(command_mean[project].index)\n",
    "    ).to_frame()"
   ]
  },
  {
   "cell_type": "code",
   "execution_count": null,
   "id": "2b4a6c37-b13a-440c-8adb-3a820974e87f",
   "metadata": {},
   "outputs": [],
   "source": [
    "fig = viz.make_dot_plot(\n",
    "    y_data=command_mean,\n",
    "    y_error_up_data=command_std,\n",
    "    y_error_down_data=command_std,\n",
    "    normalize_x=True,\n",
    "    sort_by=\"CSP = 74°F\",\n",
    "    y_axis_title=\"CSP Command [°F]\",\n",
    "    x_axis_title=\"Fraction of Included Zones [Unitless]\",\n",
    "    horizontal_spacing=0.075,\n",
    "    vertical_spacing=0.125,\n",
    "    color_legend={\n",
    "        \"color\": {\n",
    "            \"CSP = 74°F\": \"RoyalBlue\",\n",
    "            \"CSP = 76°F\": \"DarkOrange\",\n",
    "            \"CSP = 78°F\": \"Firebrick\",\n",
    "        }\n",
    "    },\n",
    "    opacity_data=opacity_data,\n",
    "    y_range=[70, 85],\n",
    "    title_size=MULTI_PLOT_TITLE_SIZE,\n",
    "    legend_size=MULTI_PLOT_LEGEND_SIZE,\n",
    "    text_size=MULTI_PLOT_TXT_SIZE,\n",
    ")\n",
    "fig = fig.update_layout(\n",
    "    legend=dict(\n",
    "        x=0.5,\n",
    "        y=-0.075,\n",
    "        xanchor=\"center\",\n",
    "        yanchor=\"top\",\n",
    "        orientation=\"h\",\n",
    "    )\n",
    ")"
   ]
  },
  {
   "cell_type": "code",
   "execution_count": null,
   "id": "d81397d9-84ef-44d2-adb5-4ea70f91c793",
   "metadata": {},
   "outputs": [],
   "source": [
    "# fig"
   ]
  },
  {
   "cell_type": "code",
   "execution_count": null,
   "id": "d411b50d-7b8f-49d9-a321-d45e417e4ab7",
   "metadata": {},
   "outputs": [],
   "source": [
    "fig.write_image(f\"{IMAGE_PATH}/FigureH4.png\")"
   ]
  },
  {
   "cell_type": "code",
   "execution_count": null,
   "id": "3a556a95-974a-48c8-b023-493be4a11a88",
   "metadata": {},
   "outputs": [],
   "source": []
  }
 ],
 "metadata": {
  "kernelspec": {
   "display_name": "experiments_2022",
   "language": "python",
   "name": "experiments_2022"
  },
  "language_info": {
   "codemirror_mode": {
    "name": "ipython",
    "version": 3
   },
   "file_extension": ".py",
   "mimetype": "text/x-python",
   "name": "python",
   "nbconvert_exporter": "python",
   "pygments_lexer": "ipython3",
   "version": "3.9.21"
  }
 },
 "nbformat": 4,
 "nbformat_minor": 5
}
