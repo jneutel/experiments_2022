{
 "cells": [
  {
   "cell_type": "code",
   "execution_count": null,
   "id": "d7f0cf7e-f3cd-4b89-9afb-9dcdc78b9bac",
   "metadata": {},
   "outputs": [],
   "source": [
    "# math\n",
    "import numpy as np\n",
    "import pandas as pd\n",
    "\n",
    "from experiments_2022 import IMAGE_PATH\n",
    "from experiments_2022.zone_level_analysis import (\n",
    "    base,\n",
    "    cleaning,\n",
    "    viz,\n",
    "    regression_functions,\n",
    ")\n",
    "from experiments_2022.datasets import (\n",
    "    pull_from_dataset,\n",
    ")\n",
    "\n",
    "from utils import (\n",
    "    PROJECTS_2022_TOTAL,\n",
    "    PROJECTS_2022,\n",
    "    NO_WEEKENDS,\n",
    "    SUMMER_START_2022,\n",
    "    SUMMER_END_2022,\n",
    "    DOMINANT_COLORS,\n",
    "    SINGLE_PLOT_TXT_SIZE,\n",
    "    SINGLE_PLOT_LEGEND_SIZE,\n",
    "    SINGLE_PLOT_ANNOTATION_SIZE,\n",
    "    MULTI_PLOT_TXT_SIZE,\n",
    "    MULTI_PLOT_TITLE_SIZE,\n",
    "    MULTI_PLOT_LEGEND_SIZE,\n",
    "    MULTI_PLOT_ANNOTATION_SIZE,\n",
    "    add_total_to_results_dict,\n",
    "    add_total_to_dfs,\n",
    ")"
   ]
  },
  {
   "cell_type": "code",
   "execution_count": null,
   "id": "54f2afb9-12b5-41e7-b411-d55b17237fd5",
   "metadata": {},
   "outputs": [],
   "source": [
    "DOMINANT_ZONES = {}\n",
    "for project in PROJECTS_2022:\n",
    "    dzs = pd.read_csv(f\"./dicts_dfs/dominant/{project}.csv\").set_index(\"Unnamed: 0\")\n",
    "    dzs.index.name = None\n",
    "    DOMINANT_ZONES[project] = dzs"
   ]
  },
  {
   "cell_type": "code",
   "execution_count": null,
   "id": "683c4550-c432-4b3b-af67-c7ecd8464f03",
   "metadata": {},
   "outputs": [],
   "source": [
    "DOMINANT_ZONES_TOT = add_total_to_results_dict(DOMINANT_ZONES)"
   ]
  },
  {
   "cell_type": "code",
   "execution_count": null,
   "id": "ea2f6424-3036-476e-bac9-d0dc701fb3d5",
   "metadata": {},
   "outputs": [],
   "source": [
    "EXCLUDED_ZONES = {}\n",
    "for project in PROJECTS_2022:\n",
    "    ezs = pd.read_csv(f\"./dicts_dfs/excluded/{project}.csv\").set_index(\"Unnamed: 0\")\n",
    "    ezs.index.name = None\n",
    "    EXCLUDED_ZONES[project] = ezs"
   ]
  },
  {
   "cell_type": "code",
   "execution_count": null,
   "id": "fd51a605-c408-44ed-ae87-9d0564d5e834",
   "metadata": {},
   "outputs": [],
   "source": [
    "EXCLUDED_ZONES_TOT = add_total_to_results_dict(EXCLUDED_ZONES)"
   ]
  },
  {
   "cell_type": "markdown",
   "id": "436d1f30-8e17-43a2-ad4e-c0b59e06f965",
   "metadata": {},
   "source": [
    "# Rogue, dominant, dominated"
   ]
  },
  {
   "cell_type": "code",
   "execution_count": null,
   "id": "3344e3aa-368a-496f-803c-18f3d8b838ae",
   "metadata": {},
   "outputs": [],
   "source": [
    "results_detailed = {}\n",
    "results_detailed_total = {}"
   ]
  },
  {
   "cell_type": "code",
   "execution_count": null,
   "id": "0398608c-5c11-4969-aa61-0441ac477e3c",
   "metadata": {},
   "outputs": [],
   "source": [
    "for project in PROJECTS_2022_TOTAL:\n",
    "    these_results = pd.DataFrame(\n",
    "        index=[\"Included\", \"Excluded\"], columns=[\"Rogue\", \"Dominant\", \"Dominated\"]\n",
    "    )\n",
    "\n",
    "    these_ezs = EXCLUDED_ZONES_TOT[project]\n",
    "    these_dzs = DOMINANT_ZONES_TOT[project]\n",
    "    common = list(set(list(these_ezs.index)).intersection(set(list(these_dzs.index))))\n",
    "    these_ezs = these_ezs.loc[common, :]\n",
    "    these_dzs = these_dzs.loc[common, :]\n",
    "\n",
    "    included = list(these_ezs[these_ezs == 0].dropna().index)\n",
    "    excluded = list(these_ezs[these_ezs == 1].dropna().index)\n",
    "    dominated = list(these_dzs[these_dzs == 0].dropna().index)\n",
    "    dominant = list(these_dzs[these_dzs == 1].dropna().index)\n",
    "    rogue = list(these_dzs[these_dzs == 2].dropna().index)\n",
    "\n",
    "    these_results.loc[\"Included\", \"Dominated\"] = len(\n",
    "        set(included).intersection(set(dominated))\n",
    "    )\n",
    "    these_results.loc[\"Included\", \"Dominant\"] = len(\n",
    "        set(included).intersection(set(dominant))\n",
    "    )\n",
    "    these_results.loc[\"Included\", \"Rogue\"] = len(set(included).intersection(set(rogue)))\n",
    "\n",
    "    these_results.loc[\"Excluded\", \"Dominated\"] = len(\n",
    "        set(excluded).intersection(set(dominated))\n",
    "    )\n",
    "    these_results.loc[\"Excluded\", \"Dominant\"] = len(\n",
    "        set(excluded).intersection(set(dominant))\n",
    "    )\n",
    "    these_results.loc[\"Excluded\", \"Rogue\"] = len(set(excluded).intersection(set(rogue)))\n",
    "\n",
    "    these_results.loc[\"Included\", :] = these_results.loc[\"Included\", :] / len(included)\n",
    "    try:\n",
    "        these_results.loc[\"Excluded\", :] = these_results.loc[\"Excluded\", :] / len(\n",
    "            excluded\n",
    "        )\n",
    "    except:\n",
    "        these_results.loc[\"Excluded\", :] = np.nan\n",
    "    results_detailed[project] = these_results\n",
    "\n",
    "    # based on total zones in building\n",
    "    these_results_total = pd.DataFrame(\n",
    "        index=[\"Included\", \"Excluded\"], columns=[\"Rogue\", \"Dominant\", \"Dominated\"]\n",
    "    )\n",
    "    these_results_total.loc[\"Included\", \"Dominated\"] = len(\n",
    "        set(included).intersection(set(dominated))\n",
    "    )\n",
    "    these_results_total.loc[\"Included\", \"Dominant\"] = len(\n",
    "        set(included).intersection(set(dominant))\n",
    "    )\n",
    "    these_results_total.loc[\"Included\", \"Rogue\"] = len(\n",
    "        set(included).intersection(set(rogue))\n",
    "    )\n",
    "\n",
    "    these_results_total.loc[\"Excluded\", \"Dominated\"] = len(\n",
    "        set(excluded).intersection(set(dominated))\n",
    "    )\n",
    "    these_results_total.loc[\"Excluded\", \"Dominant\"] = len(\n",
    "        set(excluded).intersection(set(dominant))\n",
    "    )\n",
    "    these_results_total.loc[\"Excluded\", \"Rogue\"] = len(\n",
    "        set(excluded).intersection(set(rogue))\n",
    "    )\n",
    "\n",
    "    these_results_total.loc[\"Included\", :] = these_results_total.loc[\"Included\", :] / (\n",
    "        len(included) + len(excluded)\n",
    "    )\n",
    "    these_results_total.loc[\"Excluded\", :] = these_results_total.loc[\"Excluded\", :] / (\n",
    "        len(included) + len(excluded)\n",
    "    )\n",
    "    results_detailed_total[project] = these_results_total"
   ]
  },
  {
   "cell_type": "code",
   "execution_count": null,
   "id": "fcf3aa77-8095-470d-9303-d5a54062b95c",
   "metadata": {},
   "outputs": [],
   "source": [
    "100 * results_detailed[\"TOTAL\"]"
   ]
  },
  {
   "cell_type": "code",
   "execution_count": null,
   "id": "7af1e38b-dc4d-45ab-b5c9-b2496531e1aa",
   "metadata": {},
   "outputs": [],
   "source": [
    "100 * results_detailed_total[\"TOTAL\"]"
   ]
  },
  {
   "cell_type": "code",
   "execution_count": null,
   "id": "52a716bb-3090-45b0-bdc3-8a41c2362a3d",
   "metadata": {},
   "outputs": [],
   "source": [
    "fig = viz.make_bar_plot(\n",
    "    y_data=results_detailed[\"TOTAL\"],\n",
    "    y_range=[0, 1],\n",
    "    y_axis_title=\"Fraction of Zones [Unitless]\",\n",
    "    bar_legend={\n",
    "        \"color\": {\n",
    "            \"Dominated\": DOMINANT_COLORS[\"Dominated\"],\n",
    "            \"Dominant\": DOMINANT_COLORS[\"Dominant\"],\n",
    "            \"Rogue\": DOMINANT_COLORS[\"Rogue\"],\n",
    "        },\n",
    "    },\n",
    "    annotations=[\"Dominated\", \"Dominant\"],\n",
    "    annotation_size=SINGLE_PLOT_TXT_SIZE,\n",
    "    legend_size=SINGLE_PLOT_LEGEND_SIZE,\n",
    "    text_size=SINGLE_PLOT_TXT_SIZE,\n",
    ")"
   ]
  },
  {
   "cell_type": "code",
   "execution_count": null,
   "id": "f9af487d-b745-43f1-b8e9-9f975af804f5",
   "metadata": {},
   "outputs": [],
   "source": [
    "# fig"
   ]
  },
  {
   "cell_type": "code",
   "execution_count": null,
   "id": "4a91f7bc-dfa9-465f-a336-1c4512f8984d",
   "metadata": {},
   "outputs": [],
   "source": [
    "fig.write_image(f\"{IMAGE_PATH}/Figure10A.png\")"
   ]
  },
  {
   "cell_type": "code",
   "execution_count": null,
   "id": "deca6cac-3325-458e-b4e3-0e9f047308f0",
   "metadata": {},
   "outputs": [],
   "source": [
    "fig = viz.make_bar_plot(\n",
    "    y_data=results_detailed,\n",
    "    y_range=[0, 1],\n",
    "    y_axis_title=\"Fraction of Zones<br>[Unitless]\",\n",
    "    bar_legend={\n",
    "        \"color\": {\n",
    "            \"Dominated\": DOMINANT_COLORS[\"Dominated\"],\n",
    "            \"Dominant\": DOMINANT_COLORS[\"Dominant\"],\n",
    "            \"Rogue\": DOMINANT_COLORS[\"Rogue\"],\n",
    "        },\n",
    "    },\n",
    "    annotations=[\"Dominated\", \"Dominant\"],\n",
    "    title_size=MULTI_PLOT_TITLE_SIZE,\n",
    "    legend_size=MULTI_PLOT_LEGEND_SIZE,\n",
    "    text_size=MULTI_PLOT_TXT_SIZE,\n",
    "    annotation_size=MULTI_PLOT_ANNOTATION_SIZE,\n",
    "    vertical_spacing=0.075,\n",
    ")\n",
    "fig = fig.update_layout(\n",
    "    legend=dict(\n",
    "        x=0.5,\n",
    "        y=-0.025,\n",
    "        xanchor=\"center\",\n",
    "        yanchor=\"top\",\n",
    "        orientation=\"h\",\n",
    "    )\n",
    ")"
   ]
  },
  {
   "cell_type": "code",
   "execution_count": null,
   "id": "55a94b96-81ab-4f74-a699-2a11f4300237",
   "metadata": {},
   "outputs": [],
   "source": [
    "# fig"
   ]
  },
  {
   "cell_type": "code",
   "execution_count": null,
   "id": "ae1cd4bb-13f5-497d-9149-968d618c1728",
   "metadata": {},
   "outputs": [],
   "source": [
    "fig.write_image(f\"{IMAGE_PATH}/FigureE1.png\")"
   ]
  },
  {
   "cell_type": "markdown",
   "id": "381026cb-df78-46f8-8c24-8f36e37ecbdd",
   "metadata": {},
   "source": [
    "# CRs"
   ]
  },
  {
   "cell_type": "code",
   "execution_count": null,
   "id": "75bc6c77-87e7-404d-9924-ce5ce1fb377f",
   "metadata": {},
   "outputs": [],
   "source": [
    "# grab and clean data\n",
    "CRs = pull_from_dataset(\n",
    "    \"2022\",\n",
    "    PROJECTS_2022,\n",
    "    \"zone-simple_cooling_requests\",\n",
    ")\n",
    "\n",
    "zonal_schedules = {}\n",
    "for project in PROJECTS_2022:\n",
    "    zonal_schedules[project] = regression_functions.get_zonal_sp_schedule(\n",
    "        project, experiment_year=\"2022\", freq=\"hourly\", df=CRs[project]\n",
    "    )\n",
    "\n",
    "control_filter = cleaning.create_sp_filter(\n",
    "    zonal_schedules, sps=[74], reverse_filter=False\n",
    ")\n",
    "\n",
    "control_CRs = cleaning.clean_dfs(\n",
    "    dfs=CRs,\n",
    "    this_var=\"zone-dummy\",\n",
    "    remove_FCUs=False,\n",
    "    only_business_hours=True,\n",
    "    no_weekends=True,\n",
    "    start_date=SUMMER_START_2022,\n",
    "    end_date=SUMMER_END_2022,\n",
    "    df_filter=control_filter,\n",
    ")"
   ]
  },
  {
   "cell_type": "code",
   "execution_count": null,
   "id": "a81a9b10-a01b-47ed-81ce-ef2585dbdbde",
   "metadata": {},
   "outputs": [],
   "source": [
    "control_CRs_tot = add_total_to_dfs(control_CRs)"
   ]
  },
  {
   "cell_type": "code",
   "execution_count": null,
   "id": "e404abf0-2e10-4580-ab75-2617408f092e",
   "metadata": {},
   "outputs": [],
   "source": [
    "all_results = {}"
   ]
  },
  {
   "cell_type": "code",
   "execution_count": null,
   "id": "1d90f1ff-b38b-4d32-be26-d8bff4ba8d88",
   "metadata": {},
   "outputs": [],
   "source": [
    "for project in PROJECTS_2022_TOTAL:\n",
    "    results = pd.DataFrame(index=[\"Included\", \"Excluded\"], columns=[\"CR Rate\"])\n",
    "\n",
    "    # grab project\n",
    "    these_ezs = EXCLUDED_ZONES_TOT[project]\n",
    "    these_control_CRS = control_CRs_tot[project]\n",
    "\n",
    "    # common\n",
    "    common = list(\n",
    "        set(list(these_ezs.index)).intersection(set(these_control_CRS.columns))\n",
    "    )\n",
    "    these_ezs = these_ezs.loc[common, :]\n",
    "    these_control_CRS = these_control_CRS.loc[:, common]\n",
    "\n",
    "    # excluded, includes zone list\n",
    "    these_ezs_list = list(these_ezs[these_ezs == 1].dropna().index)\n",
    "    these_izs_list = list(these_ezs[these_ezs == 0].dropna().index)\n",
    "\n",
    "    # split dfs\n",
    "    these_exluded_control_CRS = these_control_CRS[these_ezs_list]\n",
    "    these_included_control_CRS = these_control_CRS[these_izs_list]\n",
    "\n",
    "    # results\n",
    "    results.loc[\"Included\", \"CR Rate\"] = these_included_control_CRS.mean().mean()\n",
    "    results.loc[\"Excluded\", \"CR Rate\"] = these_exluded_control_CRS.mean().mean()\n",
    "    all_results[project] = results.fillna(0)"
   ]
  },
  {
   "cell_type": "code",
   "execution_count": null,
   "id": "fe5d67bc-6a1a-4aa3-be02-d5d408ba4b0d",
   "metadata": {},
   "outputs": [],
   "source": [
    "fig = viz.make_bar_plot(\n",
    "    y_data=all_results[\"TOTAL\"],\n",
    "    y_axis_title=\"Fraction of Time<br>Sending Cooling Requests<br>Control Days [Unitless]\",\n",
    "    y_range=[0, 0.2],\n",
    "    dont_add_to_legend=[\"CR Rate\"],\n",
    "    bar_legend={\"color\": {\"CR Rate\": \"Black\"}},\n",
    "    annotations=[\"CR Rate\"],\n",
    "    annotation_thresh=0,\n",
    "    annotation_size=SINGLE_PLOT_ANNOTATION_SIZE,\n",
    "    legend_size=SINGLE_PLOT_LEGEND_SIZE,\n",
    "    text_size=SINGLE_PLOT_TXT_SIZE,\n",
    ")"
   ]
  },
  {
   "cell_type": "code",
   "execution_count": null,
   "id": "7314a528-ec62-4606-ac33-d1bcc9f45397",
   "metadata": {},
   "outputs": [],
   "source": [
    "# fig"
   ]
  },
  {
   "cell_type": "code",
   "execution_count": null,
   "id": "d955e686-488b-4793-8c9d-298d14ec5e2e",
   "metadata": {},
   "outputs": [],
   "source": [
    "fig.write_image(f\"{IMAGE_PATH}/Figure10B.png\")"
   ]
  },
  {
   "cell_type": "code",
   "execution_count": null,
   "id": "85798818-d5de-43c5-a0bd-542ae2335346",
   "metadata": {},
   "outputs": [],
   "source": [
    "fig = viz.make_bar_plot(\n",
    "    y_data=all_results,\n",
    "    y_axis_title=\"Fraction of Time<br>Sending Cooling Requests<br>Control Days [Unitless]\",\n",
    "    y_range=[0, 0.5],\n",
    "    dont_add_to_legend=[\"CR Rate\"],\n",
    "    bar_legend={\"color\": {\"CR Rate\": \"Black\"}},\n",
    "    annotations=[\"CR Rate\"],\n",
    "    annotation_thresh=0,\n",
    "    horizontal_spacing=0.125,\n",
    "    vertical_spacing=0.075,\n",
    "    annotation_size=MULTI_PLOT_TXT_SIZE,\n",
    "    legend_size=MULTI_PLOT_LEGEND_SIZE,\n",
    "    text_size=MULTI_PLOT_TXT_SIZE,\n",
    ")"
   ]
  },
  {
   "cell_type": "code",
   "execution_count": null,
   "id": "32fd7ecd-9f29-4f6b-8067-7c08581cfdf0",
   "metadata": {},
   "outputs": [],
   "source": [
    "# fig"
   ]
  },
  {
   "cell_type": "code",
   "execution_count": null,
   "id": "8f3bd9d8-fc8f-4f31-a92d-81db23300080",
   "metadata": {},
   "outputs": [],
   "source": [
    "fig.write_image(f\"{IMAGE_PATH}/FigureE2.png\")"
   ]
  },
  {
   "cell_type": "markdown",
   "id": "3634a0e5-cded-45ae-a32f-7e600e0e5816",
   "metadata": {},
   "source": [
    "# T - CSP"
   ]
  },
  {
   "cell_type": "code",
   "execution_count": null,
   "id": "33d4f829-694c-4cce-a35b-728c9acaf095",
   "metadata": {},
   "outputs": [],
   "source": [
    "# grab and clean data\n",
    "deviation = pull_from_dataset(\n",
    "    \"2022\",\n",
    "    PROJECTS_2022,\n",
    "    \"zone-deviation_coolsp\",\n",
    ")\n",
    "\n",
    "deviation = cleaning.clean_dfs(\n",
    "    dfs=deviation,\n",
    "    this_var=\"zone-deviation_coolsp\",\n",
    "    remove_FCUs=False,\n",
    "    only_business_hours=True,\n",
    "    no_weekends=True,\n",
    "    start_date=SUMMER_START_2022,\n",
    "    end_date=SUMMER_END_2022,\n",
    "    SI_units=True,\n",
    ")\n",
    "\n",
    "zonal_schedules = {}\n",
    "for project in PROJECTS_2022:\n",
    "    zonal_schedules[project] = regression_functions.get_zonal_sp_schedule(\n",
    "        project, experiment_year=\"2022\", freq=\"hourly\", df=deviation[project]\n",
    "    )\n",
    "\n",
    "control_filter = cleaning.create_sp_filter(\n",
    "    zonal_schedules, sps=[74], reverse_filter=False\n",
    ")\n",
    "\n",
    "control_deviation = cleaning.clean_dfs(\n",
    "    dfs=deviation,\n",
    "    this_var=\"zone-deviation_coolsp\",\n",
    "    remove_FCUs=False,\n",
    "    only_business_hours=True,\n",
    "    no_weekends=True,\n",
    "    start_date=SUMMER_START_2022,\n",
    "    end_date=SUMMER_END_2022,\n",
    "    df_filter=control_filter,\n",
    ")"
   ]
  },
  {
   "cell_type": "code",
   "execution_count": null,
   "id": "0419235d-70ad-409e-b742-8d7aef7a3bdc",
   "metadata": {},
   "outputs": [],
   "source": [
    "control_deviation_tot = add_total_to_dfs(control_deviation)"
   ]
  },
  {
   "cell_type": "code",
   "execution_count": null,
   "id": "9bb80512-01bb-4641-81c5-320cf5dd6a02",
   "metadata": {},
   "outputs": [],
   "source": [
    "all_results = {}"
   ]
  },
  {
   "cell_type": "code",
   "execution_count": null,
   "id": "88b51c65-a10b-49fc-ba5d-1fcd1f0f1222",
   "metadata": {},
   "outputs": [],
   "source": [
    "for project in PROJECTS_2022_TOTAL:\n",
    "    results = pd.DataFrame(index=[\"Included\", \"Excluded\"], columns=[\"T - CSP\"])\n",
    "\n",
    "    # grab project\n",
    "    these_ezs = EXCLUDED_ZONES_TOT[project]\n",
    "    these_control_deviation = control_deviation_tot[project]\n",
    "\n",
    "    # common\n",
    "    common = list(\n",
    "        set(list(these_ezs.index)).intersection(set(these_control_deviation.columns))\n",
    "    )\n",
    "    these_ezs = these_ezs.loc[common, :]\n",
    "    these_control_deviation = these_control_deviation.loc[:, common]\n",
    "\n",
    "    # excluded, includes zone list\n",
    "    these_ezs_list = list(these_ezs[these_ezs == 1].dropna().index)\n",
    "    these_izs_list = list(these_ezs[these_ezs == 0].dropna().index)\n",
    "\n",
    "    # split dfs\n",
    "    these_exluded_control_deviation = these_control_deviation[these_ezs_list]\n",
    "    these_included_control_deviation = these_control_deviation[these_izs_list]\n",
    "\n",
    "    # results\n",
    "    results.loc[\"Included\", \"T - CSP\"] = these_included_control_deviation.mean().mean()\n",
    "    results.loc[\"Excluded\", \"T - CSP\"] = these_exluded_control_deviation.mean().mean()\n",
    "    all_results[project] = results.fillna(0)"
   ]
  },
  {
   "cell_type": "code",
   "execution_count": null,
   "id": "66f0b889-0048-4a62-af60-3597d31b994e",
   "metadata": {},
   "outputs": [],
   "source": [
    "fig = viz.make_bar_plot(\n",
    "    y_data=all_results[\"TOTAL\"],\n",
    "    y_axis_title=\"T - CSP [°C]<br>Control Days\",\n",
    "    y_range=[-2, 0],\n",
    "    dont_add_to_legend=[\"T - CSP\"],\n",
    "    bar_legend={\"color\": {\"T - CSP\": \"Black\"}},\n",
    "    annotations=[\"T - CSP\"],\n",
    "    annotation_thresh=-2,\n",
    "    horizontal_spacing=0.125,\n",
    "    vertical_spacing=0.075,\n",
    "    annotation_size=SINGLE_PLOT_ANNOTATION_SIZE,\n",
    "    legend_size=SINGLE_PLOT_LEGEND_SIZE,\n",
    "    text_size=SINGLE_PLOT_TXT_SIZE,\n",
    ")"
   ]
  },
  {
   "cell_type": "code",
   "execution_count": null,
   "id": "f58097fe-157b-4e29-b971-b153ed7309ce",
   "metadata": {},
   "outputs": [],
   "source": [
    "# fig"
   ]
  },
  {
   "cell_type": "code",
   "execution_count": null,
   "id": "9af1736c-f1b4-4ec5-a2fa-ecfb5cebcc1c",
   "metadata": {},
   "outputs": [],
   "source": [
    "fig.write_image(f\"{IMAGE_PATH}/Figure10C.png\")"
   ]
  },
  {
   "cell_type": "code",
   "execution_count": null,
   "id": "4e53a7e4-b64d-4423-8936-2aa9e02b2e31",
   "metadata": {},
   "outputs": [],
   "source": [
    "fig = viz.make_bar_plot(\n",
    "    y_data=all_results,\n",
    "    y_axis_title=\"T - CSP [°C]<br>Control Days\",\n",
    "    horizontal_spacing=0.1,\n",
    "    vertical_spacing=0.075,\n",
    "    y_range=[-3, 0],\n",
    "    dont_add_to_legend=[\"T - CSP\"],\n",
    "    bar_legend={\"color\": {\"T - CSP\": \"Black\"}},\n",
    "    annotations=[\"T - CSP\"],\n",
    "    annotation_thresh=-3,\n",
    "    annotation_size=MULTI_PLOT_TXT_SIZE,\n",
    "    legend_size=MULTI_PLOT_LEGEND_SIZE,\n",
    "    text_size=MULTI_PLOT_TXT_SIZE,\n",
    ")"
   ]
  },
  {
   "cell_type": "code",
   "execution_count": null,
   "id": "1fef1e27-2fb0-4505-b3d8-77e6cae63a3d",
   "metadata": {},
   "outputs": [],
   "source": [
    "# fig"
   ]
  },
  {
   "cell_type": "code",
   "execution_count": null,
   "id": "c330bbbf-6f82-413b-8251-0f1650d74658",
   "metadata": {},
   "outputs": [],
   "source": [
    "fig.write_image(f\"{IMAGE_PATH}/FigureE3.png\")"
   ]
  },
  {
   "cell_type": "code",
   "execution_count": null,
   "id": "aa341b0f-8ff8-40ce-9648-cd7c403bd72a",
   "metadata": {},
   "outputs": [],
   "source": []
  }
 ],
 "metadata": {
  "kernelspec": {
   "display_name": "experiments_2022",
   "language": "python",
   "name": "experiments_2022"
  },
  "language_info": {
   "codemirror_mode": {
    "name": "ipython",
    "version": 3
   },
   "file_extension": ".py",
   "mimetype": "text/x-python",
   "name": "python",
   "nbconvert_exporter": "python",
   "pygments_lexer": "ipython3",
   "version": "3.9.21"
  }
 },
 "nbformat": 4,
 "nbformat_minor": 5
}
