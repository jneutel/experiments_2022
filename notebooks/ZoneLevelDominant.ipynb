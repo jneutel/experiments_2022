{
 "cells": [
  {
   "cell_type": "code",
   "execution_count": null,
   "id": "d7f0cf7e-f3cd-4b89-9afb-9dcdc78b9bac",
   "metadata": {},
   "outputs": [],
   "source": [
    "# math\n",
    "import numpy as np\n",
    "import pandas as pd\n",
    "\n",
    "# plotly\n",
    "import plotly.graph_objects as go\n",
    "\n",
    "# other\n",
    "import copy\n",
    "\n",
    "from experiments_2022 import IMAGE_PATH\n",
    "from experiments_2022.zone_level_analysis import (\n",
    "    base,\n",
    "    cleaning,\n",
    "    viz,\n",
    "    regression_functions,\n",
    ")\n",
    "from experiments_2022.datasets import (\n",
    "    load_zones,\n",
    "    load_weather,\n",
    "    pull_from_dataset,\n",
    ")\n",
    "\n",
    "from utils import (\n",
    "    PROJECTS_2022,\n",
    "    PROJECTS_2022_TOTAL,\n",
    "    PROJECTS_VAV,\n",
    "    NO_WEEKENDS,\n",
    "    SUMMER_START_2022,\n",
    "    SUMMER_END_2022,\n",
    "    DOMINANT_COLORS,\n",
    "    SINGLE_PLOT_TXT_SIZE,\n",
    "    SINGLE_PLOT_LEGEND_SIZE,\n",
    "    SINGLE_PLOT_ANNOTATION_SIZE,\n",
    "    MULTI_PLOT_TXT_SIZE,\n",
    "    MULTI_PLOT_TITLE_SIZE,\n",
    "    MULTI_PLOT_LEGEND_SIZE,\n",
    "    MULTI_PLOT_ANNOTATION_SIZE,\n",
    "    add_vertical_boxes,\n",
    "    add_line_to_subplots,\n",
    "    get_2022_control_data,\n",
    "    run_group_regressions,\n",
    "    add_total_to_dfs,\n",
    "    add_total_to_results_dict,\n",
    ")"
   ]
  },
  {
   "cell_type": "code",
   "execution_count": null,
   "id": "0d6fe37b-bb6d-45a6-bd6c-0eb973de5dfb",
   "metadata": {},
   "outputs": [],
   "source": [
    "DOMINANT_ZONES = {}\n",
    "for project in PROJECTS_2022:\n",
    "    dzs = pd.read_csv(f\"./dicts_dfs/dominant/{project}.csv\").set_index(\"Unnamed: 0\")\n",
    "    dzs.index.name = None\n",
    "    DOMINANT_ZONES[project] = dzs"
   ]
  },
  {
   "cell_type": "code",
   "execution_count": null,
   "id": "d8470198-9bf0-448e-b0c8-185d15c3b0df",
   "metadata": {},
   "outputs": [],
   "source": [
    "DOMINANT_ZONES_TOT = add_total_to_results_dict(DOMINANT_ZONES)"
   ]
  },
  {
   "cell_type": "markdown",
   "id": "948ca46a-5047-4556-86cb-0fce1846e322",
   "metadata": {},
   "source": [
    "## Deviation"
   ]
  },
  {
   "cell_type": "code",
   "execution_count": null,
   "id": "a4090405-0167-4344-846e-7f0b935f8b15",
   "metadata": {},
   "outputs": [],
   "source": [
    "deviation = pull_from_dataset(\"2022\", PROJECTS_2022, \"zone-deviation_coolsp\")\n",
    "\n",
    "zonal_schedules = {}\n",
    "for project in PROJECTS_2022:\n",
    "    zonal_schedules[project] = regression_functions.get_zonal_sp_schedule(\n",
    "        project, experiment_year=\"2022\", freq=\"hourly\", df=deviation[project]\n",
    "    )\n",
    "\n",
    "df_filter = cleaning.create_sp_filter(zonal_schedules, sps=[74], reverse_filter=False)\n",
    "\n",
    "control_deviation = cleaning.clean_dfs(\n",
    "    dfs=deviation,\n",
    "    this_var=\"zone-deviation_coolsp\",\n",
    "    remove_FCUs=False,\n",
    "    only_business_hours=True,\n",
    "    no_weekends=True,\n",
    "    start_date=SUMMER_START_2022,\n",
    "    end_date=SUMMER_END_2022,\n",
    "    SI_units=True,\n",
    "    df_filter=df_filter,\n",
    ")"
   ]
  },
  {
   "cell_type": "code",
   "execution_count": null,
   "id": "2d41de55-081e-4540-aa25-ee6a8ac55d9f",
   "metadata": {},
   "outputs": [],
   "source": [
    "control_deviation_mean = base.run_passive_test_on_dfs(\n",
    "    dfs=control_deviation, this_test=\"Mean\", col_name=\"T - CSP [°C]<br>Control Days\"\n",
    ")\n",
    "control_deviation_std = base.run_passive_test_on_dfs(\n",
    "    dfs=control_deviation, this_test=\"Std\", col_name=\"T - CSP [°C]<br>Control Days\"\n",
    ")"
   ]
  },
  {
   "cell_type": "code",
   "execution_count": null,
   "id": "1fc36e55-9dca-4919-a0c4-eb50be7f9c8a",
   "metadata": {},
   "outputs": [],
   "source": [
    "dzs = copy.deepcopy(DOMINANT_ZONES)\n",
    "for project in PROJECTS_2022:\n",
    "    control_deviation_mean[project] = control_deviation_mean[project].dropna()\n",
    "    control_deviation_std[project] = control_deviation_std[project].dropna()\n",
    "control_deviation_mean, control_deviation_std, dzs = base.make_common_index(\n",
    "    [control_deviation_mean, control_deviation_std, dzs]\n",
    ")"
   ]
  },
  {
   "cell_type": "code",
   "execution_count": null,
   "id": "7579de6d-4b01-4ee6-8db7-c255d0349f68",
   "metadata": {},
   "outputs": [],
   "source": [
    "control_deviation_mean_tot = add_total_to_results_dict(control_deviation_mean)\n",
    "control_deviation_std_tot = add_total_to_results_dict(control_deviation_std)\n",
    "dzs_tot = add_total_to_results_dict(dzs)"
   ]
  },
  {
   "cell_type": "code",
   "execution_count": null,
   "id": "419c0aa1-87bc-4589-93f2-6a8c278b8e3f",
   "metadata": {},
   "outputs": [],
   "source": [
    "fig = viz.make_dot_plot(\n",
    "    y_data=control_deviation_mean_tot,\n",
    "    y_error_up_data=control_deviation_std_tot,\n",
    "    y_error_down_data=control_deviation_std_tot,\n",
    "    y_axis_title=\"T - CSP [°C]<br>Control Days\",\n",
    "    x_axis_title=\"Fraction of Zones [Unitless]\",\n",
    "    color_data=dzs_tot,\n",
    "    color_legend={\n",
    "        \"name\": {\n",
    "            0: \"Dominated\",\n",
    "            1: \"Dominant\",\n",
    "            2: \"Rogue\",\n",
    "        },\n",
    "        \"color\": {\n",
    "            0: DOMINANT_COLORS[\"Dominated\"],\n",
    "            1: DOMINANT_COLORS[\"Dominant\"],\n",
    "            2: DOMINANT_COLORS[\"Rogue\"],\n",
    "        },\n",
    "    },\n",
    "    normalize_x=True,\n",
    "    num_cols=3,\n",
    "    horizontal_spacing=0.1,\n",
    "    vertical_spacing=0.1,\n",
    "    y_range=[-5, 5],  # [-8, 8],\n",
    "    width=800,\n",
    "    height=500,\n",
    "    title_size=MULTI_PLOT_TITLE_SIZE,\n",
    "    legend_size=MULTI_PLOT_LEGEND_SIZE,\n",
    "    text_size=MULTI_PLOT_TXT_SIZE,\n",
    ")\n",
    "fig = fig.update_layout(\n",
    "    legend=dict(\n",
    "        x=0.5,\n",
    "        y=-0.05,\n",
    "        xanchor=\"center\",\n",
    "        yanchor=\"top\",\n",
    "        orientation=\"h\",\n",
    "    )\n",
    ")"
   ]
  },
  {
   "cell_type": "code",
   "execution_count": null,
   "id": "281b4c05-e252-49a2-82d5-5343953c7abb",
   "metadata": {},
   "outputs": [],
   "source": [
    "control_deviation_tot = add_total_to_dfs(control_deviation)"
   ]
  },
  {
   "cell_type": "code",
   "execution_count": null,
   "id": "019248fa-74f6-4f94-b213-28801c78009c",
   "metadata": {},
   "outputs": [],
   "source": [
    "summary = pd.DataFrame(index=PROJECTS_2022_TOTAL, columns=[\"Mean\", \"Std\"])\n",
    "for project in PROJECTS_2022_TOTAL:\n",
    "    summary.loc[project, \"Mean\"] = control_deviation_tot[project].mean(axis=1).mean()\n",
    "    summary.loc[project, \"Std\"] = control_deviation_tot[project].mean(axis=1).std()"
   ]
  },
  {
   "cell_type": "code",
   "execution_count": null,
   "id": "a66be639-9493-46e3-b264-a773ef6b36a3",
   "metadata": {},
   "outputs": [],
   "source": [
    "p = 0\n",
    "for i in range(1, 4):  # Columns\n",
    "    for j in range(1, 5):  # Rows\n",
    "        if p > 10:\n",
    "            continue\n",
    "        project = PROJECTS_2022_TOTAL[p]\n",
    "        fig.add_annotation(\n",
    "            text=f\"Building Wide T - CSP: {round(summary.loc[project, 'Mean'], 1)} +/- {round(summary.loc[project, 'Std'], 1)} °C\",\n",
    "            xref=f\"x{p+1}\",\n",
    "            yref=f\"y{p+1}\",\n",
    "            x=-0.05,\n",
    "            y=4,\n",
    "            xanchor=\"left\",\n",
    "            yanchor=\"top\",\n",
    "            showarrow=False,\n",
    "            font=dict(size=MULTI_PLOT_ANNOTATION_SIZE, color=\"black\"),\n",
    "        )\n",
    "        p += 1"
   ]
  },
  {
   "cell_type": "code",
   "execution_count": null,
   "id": "1418d205-ab64-4000-9aeb-97f771f73db5",
   "metadata": {},
   "outputs": [],
   "source": [
    "# fig"
   ]
  },
  {
   "cell_type": "code",
   "execution_count": null,
   "id": "c495164e-b2f6-4667-8e33-6cb6a4dc70b8",
   "metadata": {},
   "outputs": [],
   "source": [
    "fig.write_image(f\"{IMAGE_PATH}/FigureC5.png\")"
   ]
  },
  {
   "cell_type": "markdown",
   "id": "7d27859e-e079-4406-bfa9-dcf1b9165911",
   "metadata": {},
   "source": [
    "## Tloads"
   ]
  },
  {
   "cell_type": "code",
   "execution_count": null,
   "id": "2582d61d-b72b-4620-a1eb-ebb53a9a2779",
   "metadata": {},
   "outputs": [],
   "source": [
    "tloads = pull_from_dataset(\"2022\", PROJECTS_2022, \"zone-tloads\")\n",
    "\n",
    "zonal_schedules = {}\n",
    "for project in PROJECTS_2022:\n",
    "    zonal_schedules[project] = regression_functions.get_zonal_sp_schedule(\n",
    "        project, experiment_year=\"2022\", freq=\"hourly\", df=tloads[project]\n",
    "    )\n",
    "\n",
    "df_filter = cleaning.create_sp_filter(zonal_schedules, sps=[74], reverse_filter=False)\n",
    "\n",
    "control_tloads = cleaning.clean_dfs(\n",
    "    dfs=tloads,\n",
    "    this_var=\"zone-tloads\",\n",
    "    remove_FCUs=False,\n",
    "    only_business_hours=True,\n",
    "    no_weekends=True,\n",
    "    start_date=SUMMER_START_2022,\n",
    "    end_date=SUMMER_END_2022,\n",
    "    df_filter=df_filter,\n",
    ")"
   ]
  },
  {
   "cell_type": "code",
   "execution_count": null,
   "id": "d1f028d8-17dc-4137-8d9b-c72cfbf76af6",
   "metadata": {},
   "outputs": [],
   "source": [
    "control_tloads_mean = base.run_passive_test_on_dfs(\n",
    "    dfs=control_tloads, this_test=\"Mean\", col_name=\"Zonal Load [%]<br>Control Days\"\n",
    ")\n",
    "control_tloads_std = base.run_passive_test_on_dfs(\n",
    "    dfs=control_tloads, this_test=\"Std\", col_name=\"Zonal Load [%]<br>Control Days\"\n",
    ")"
   ]
  },
  {
   "cell_type": "code",
   "execution_count": null,
   "id": "2592f200-d41d-41bb-8fc9-383714e0cdec",
   "metadata": {},
   "outputs": [],
   "source": [
    "dzs = copy.deepcopy(DOMINANT_ZONES)\n",
    "for project in PROJECTS_2022:\n",
    "    control_tloads_mean[project] = control_tloads_mean[project].dropna()\n",
    "    control_tloads_std[project] = control_tloads_std[project].dropna()\n",
    "control_tloads_mean, control_tloads_std, dzs = base.make_common_index(\n",
    "    [control_tloads_mean, control_tloads_std, dzs]\n",
    ")"
   ]
  },
  {
   "cell_type": "code",
   "execution_count": null,
   "id": "12403254-ccf5-44d2-a06a-6026d99d83a1",
   "metadata": {},
   "outputs": [],
   "source": [
    "control_tloads_mean_tot = add_total_to_results_dict(control_tloads_mean)\n",
    "control_tloads_std_tot = add_total_to_results_dict(control_tloads_std)\n",
    "dzs_tot = add_total_to_results_dict(dzs)"
   ]
  },
  {
   "cell_type": "code",
   "execution_count": null,
   "id": "4c012070-0667-4433-af1d-022efcb76369",
   "metadata": {},
   "outputs": [],
   "source": [
    "fig = viz.make_dot_plot(\n",
    "    y_data=control_tloads_mean_tot,\n",
    "    y_error_up_data=control_tloads_std_tot,\n",
    "    y_error_down_data=control_tloads_std_tot,\n",
    "    y_axis_title=\"Zonal Load [%]<br>Control Days\",\n",
    "    x_axis_title=\"Fraction of Zones [Unitless]\",\n",
    "    color_data=dzs_tot,\n",
    "    color_legend={\n",
    "        \"name\": {\n",
    "            0: \"Dominated\",\n",
    "            1: \"Dominant\",\n",
    "            2: \"Rogue\",\n",
    "        },\n",
    "        \"color\": {\n",
    "            0: DOMINANT_COLORS[\"Dominated\"],\n",
    "            1: DOMINANT_COLORS[\"Dominant\"],\n",
    "            2: DOMINANT_COLORS[\"Rogue\"],\n",
    "        },\n",
    "    },\n",
    "    normalize_x=True,\n",
    "    num_cols=3,\n",
    "    horizontal_spacing=0.1,\n",
    "    vertical_spacing=0.1,\n",
    "    title_size=MULTI_PLOT_TITLE_SIZE,\n",
    "    legend_size=MULTI_PLOT_LEGEND_SIZE,\n",
    "    text_size=MULTI_PLOT_TXT_SIZE,\n",
    "    y_range=[-120, 120],\n",
    "    width=800,\n",
    "    height=500,\n",
    ")\n",
    "fig = fig.update_layout(\n",
    "    legend=dict(\n",
    "        x=0.5,\n",
    "        y=-0.05,\n",
    "        xanchor=\"center\",\n",
    "        yanchor=\"top\",\n",
    "        orientation=\"h\",\n",
    "    )\n",
    ")"
   ]
  },
  {
   "cell_type": "code",
   "execution_count": null,
   "id": "8d3efa21-06fe-4abe-8ace-095ed2bc638e",
   "metadata": {},
   "outputs": [],
   "source": [
    "# fig"
   ]
  },
  {
   "cell_type": "code",
   "execution_count": null,
   "id": "f7ad6fd1-63b4-4a2d-8292-459b0f749dd2",
   "metadata": {},
   "outputs": [],
   "source": [
    "fig.write_image(f\"{IMAGE_PATH}/FigureC6.png\")"
   ]
  },
  {
   "cell_type": "markdown",
   "id": "9c92870f-7218-4482-ba1f-e113cbf8e405",
   "metadata": {},
   "source": [
    "## Persistence, cooling requests"
   ]
  },
  {
   "cell_type": "code",
   "execution_count": null,
   "id": "853d4096-4f58-47b5-95b0-3fe6b96ffced",
   "metadata": {},
   "outputs": [],
   "source": [
    "years = [\"2022\", \"2023\"]\n",
    "months = [5, 6, 7, 8, 9]\n",
    "periods = [\"Frac Zones\", \" \"]\n",
    "\n",
    "for year in years:\n",
    "    periods.append(year)\n",
    "    for month in months:\n",
    "        periods.append(f\"{month}/{year}\")\n",
    "        if year == \"2022\" and month == 9:\n",
    "            periods.append(\"  \")\n",
    "\n",
    "groups = [\n",
    "    \"Dominated\",\n",
    "    \"Dominant\",\n",
    "    \"Rogue\",\n",
    "]\n",
    "\n",
    "order_cols = [\n",
    "    \"Rogue\",\n",
    "    \"Dominant\",\n",
    "    \"Dominated\",\n",
    "]\n",
    "\n",
    "persistence = {}"
   ]
  },
  {
   "cell_type": "code",
   "execution_count": null,
   "id": "06ca4e13-2268-460b-afef-8d87d1f28bf3",
   "metadata": {},
   "outputs": [],
   "source": [
    "for project in PROJECTS_2022:\n",
    "    CRs_2022 = get_2022_control_data(\n",
    "        project,\n",
    "        \"zone-simple_cooling_requests\",\n",
    "        no_weekends=True,\n",
    "        only_business_hours=True,\n",
    "        remove_FCUs=False,\n",
    "        clean_underyling_data=True,  # cleans tload\n",
    "    )\n",
    "    CRs_2022 = CRs_2022.groupby(CRs_2022.index.month).sum()\n",
    "\n",
    "    CRs_2023 = cleaning.clean_df(\n",
    "        load_zones(\"2023\", project, \"zone-simple_cooling_requests\", clean_data=True),\n",
    "        this_var=\"zone-dummy\",\n",
    "        only_business_hours=True,\n",
    "        no_weekends=True,\n",
    "        remove_FCUs=False,\n",
    "        start_date=pd.Timestamp(\"2023-05-01\"),\n",
    "        end_date=pd.Timestamp(\"2023-10-01\"),\n",
    "    )\n",
    "    CRs_2023 = CRs_2023.groupby(CRs_2023.index.month).sum()\n",
    "\n",
    "    this_dzs = DOMINANT_ZONES_TOT[project]\n",
    "    CRs_2022, CRs_2023, this_dzs = base.trim_to_common_elements(\n",
    "        [CRs_2022, CRs_2023, DOMINANT_ZONES_TOT[project].T],\n",
    "        clean_cols=True,\n",
    "        clean_idx=False,\n",
    "    )\n",
    "    CRs = {\"2022\": CRs_2022, \"2023\": CRs_2023}\n",
    "\n",
    "    this_dzs = this_dzs.T\n",
    "    all_zones = list(this_dzs.index)\n",
    "\n",
    "    persistence_df = pd.DataFrame(0, index=periods, columns=groups)\n",
    "    for group_i in range(len(groups)):\n",
    "        group = groups[group_i]\n",
    "        zones = list(\n",
    "            (DOMINANT_ZONES_TOT[project][DOMINANT_ZONES_TOT[project] == group_i])\n",
    "            .dropna()\n",
    "            .index\n",
    "        )\n",
    "        persistence_df.loc[\"Frac Zones\", group] = len(zones)\n",
    "        # edge case correction\n",
    "        zones = list(set(zones).intersection(set(all_zones)))\n",
    "        for year in [\"2022\", \"2023\"]:\n",
    "            persistence_df.loc[year, group] = CRs[year].loc[:, zones].sum().sum()\n",
    "            for month in months:\n",
    "                try:\n",
    "                    persistence_df.loc[f\"{month}/{year}\", group] = (\n",
    "                        CRs[year].loc[month, zones].sum()\n",
    "                    )\n",
    "                except:\n",
    "                    persistence_df.loc[f\"{month}/{year}\", group] = np.nan\n",
    "    persistence[project] = persistence_df[order_cols]\n",
    "    print(project)"
   ]
  },
  {
   "cell_type": "code",
   "execution_count": null,
   "id": "61109db0-ef1b-487f-a3d4-fd9a8f4217a6",
   "metadata": {},
   "outputs": [],
   "source": [
    "persistence[\"TOTAL\"] = pd.DataFrame(0, index=periods, columns=groups)\n",
    "for project in PROJECTS_2022:\n",
    "    persistence[\"TOTAL\"] += persistence[project]"
   ]
  },
  {
   "cell_type": "code",
   "execution_count": null,
   "id": "db7c1b4e-846d-408d-bd4a-caa1eaae5fcd",
   "metadata": {},
   "outputs": [],
   "source": [
    "for project in PROJECTS_2022_TOTAL:\n",
    "    persistence[project] = persistence[project].div(\n",
    "        persistence[project].sum(axis=1), axis=0\n",
    "    )"
   ]
  },
  {
   "cell_type": "code",
   "execution_count": null,
   "id": "53f14fcc-7c35-44fb-b6d0-04eba557084f",
   "metadata": {},
   "outputs": [],
   "source": [
    "fig = viz.make_bar_plot(\n",
    "    y_data=persistence,\n",
    "    bar_legend={\n",
    "        \"color\": {\n",
    "            \"Dominated\": DOMINANT_COLORS[\"Dominated\"],\n",
    "            \"Dominant\": DOMINANT_COLORS[\"Dominant\"],\n",
    "            \"Rogue\": DOMINANT_COLORS[\"Rogue\"],\n",
    "        },\n",
    "    },\n",
    "    y_axis_title=\"Fraction of Zones or<br>Cooling Requests<br>[Unitless]\",\n",
    "    y_range=[0, 1],\n",
    "    bar_width=0.6,\n",
    "    bar_mode=\"stack\",\n",
    "    num_cols=3,\n",
    "    horizontal_spacing=0.125,\n",
    "    vertical_spacing=0.1,\n",
    "    width=800,\n",
    "    height=500,\n",
    "    title_size=MULTI_PLOT_TITLE_SIZE,\n",
    "    legend_size=MULTI_PLOT_LEGEND_SIZE,\n",
    "    text_size=MULTI_PLOT_TXT_SIZE,\n",
    ")\n",
    "fig = fig.update_layout(\n",
    "    legend=dict(\n",
    "        x=0.5,\n",
    "        y=-0.075,\n",
    "        xanchor=\"center\",\n",
    "        yanchor=\"top\",\n",
    "        orientation=\"h\",\n",
    "    )\n",
    ")\n",
    "fig.update_xaxes(tickangle=45)\n",
    "\n",
    "fig = add_line_to_subplots(\n",
    "    fig,\n",
    "    (1, 1),\n",
    "    (0, 1.2),\n",
    "    total_subplots=len(PROJECTS_2022_TOTAL),\n",
    "    dash=\"solid\",\n",
    "    width=4,\n",
    ")\n",
    "fig = add_line_to_subplots(\n",
    "    fig,\n",
    "    (8, 8),\n",
    "    (0, 1.2),\n",
    "    total_subplots=len(PROJECTS_2022_TOTAL),\n",
    "    dash=\"solid\",\n",
    "    width=4,\n",
    ")"
   ]
  },
  {
   "cell_type": "code",
   "execution_count": null,
   "id": "8cf75cc4-137a-4594-8204-0e448c0606e3",
   "metadata": {},
   "outputs": [],
   "source": [
    "# fig"
   ]
  },
  {
   "cell_type": "code",
   "execution_count": null,
   "id": "7ff61089-76fb-41ed-8bbc-c5a0137aabf4",
   "metadata": {},
   "outputs": [],
   "source": [
    "fig.write_image(f\"{IMAGE_PATH}/FigureC7.png\")"
   ]
  },
  {
   "cell_type": "markdown",
   "id": "5dc27411-5a62-44b6-85ed-e9ddeb5b1ab0",
   "metadata": {},
   "source": [
    "## Change in CRs"
   ]
  },
  {
   "cell_type": "code",
   "execution_count": null,
   "id": "e41964d2-cf26-4f89-9f58-c3f872bcb10d",
   "metadata": {},
   "outputs": [],
   "source": [
    "T = cleaning.clean_df(\n",
    "    df=load_weather(\"2022\")[\"temperature\"].to_frame(),\n",
    "    this_var=\"weather-oat\",\n",
    "    only_business_hours=True,\n",
    "    no_weekends=False,\n",
    "    start_date=SUMMER_START_2022,\n",
    "    end_date=SUMMER_END_2022,\n",
    "    SI_units=True,\n",
    ")[\"temperature\"]"
   ]
  },
  {
   "cell_type": "code",
   "execution_count": null,
   "id": "af4e52d6-0bf6-4729-81f5-3add754007d3",
   "metadata": {},
   "outputs": [],
   "source": [
    "CRs = pull_from_dataset(\n",
    "    \"2022\", PROJECTS_VAV, \"zone-simple_cooling_requests\", clean_data=True\n",
    ")\n",
    "CRs = cleaning.clean_dfs(\n",
    "    dfs=CRs,\n",
    "    this_var=\"zone-dummy\",\n",
    "    remove_FCUs=False,\n",
    "    only_business_hours=True,\n",
    "    no_weekends=NO_WEEKENDS,\n",
    "    start_date=SUMMER_START_2022,\n",
    "    end_date=SUMMER_END_2022,\n",
    ")"
   ]
  },
  {
   "cell_type": "code",
   "execution_count": null,
   "id": "586d6219-f777-4c90-bb91-6685b35e46c8",
   "metadata": {},
   "outputs": [],
   "source": [
    "categories = {\n",
    "    0: \"Dominated\",\n",
    "    1: \"Dominant\",\n",
    "    2: \"Rogue\",\n",
    "}"
   ]
  },
  {
   "cell_type": "code",
   "execution_count": null,
   "id": "37f3144e-ff25-4620-83a9-9e349bb35090",
   "metadata": {},
   "outputs": [],
   "source": [
    "CRs_grouped = {}\n",
    "for project in PROJECTS_VAV:\n",
    "    this_CRs_grouped = pd.DataFrame(\n",
    "        index=CRs[project].index, columns=list(categories.values())\n",
    "    )\n",
    "    for i in categories:\n",
    "        these_zones = list(\n",
    "            DOMINANT_ZONES[project][DOMINANT_ZONES[project] == i].dropna().index\n",
    "        )\n",
    "        these_zones = list(\n",
    "            set(these_zones).intersection(set(list(CRs[project].columns)))\n",
    "        )\n",
    "        this_CRs_grouped[categories[i]] = CRs[project][these_zones].sum(axis=1)\n",
    "    CRs_grouped[project] = this_CRs_grouped"
   ]
  },
  {
   "cell_type": "code",
   "execution_count": null,
   "id": "8cacbfb9-b51a-4bf4-b9e0-678478559ca2",
   "metadata": {},
   "outputs": [],
   "source": [
    "(\n",
    "    deltas_76_CRs,\n",
    "    deltas_low_76_CRs,\n",
    "    deltas_high_76_CRs,\n",
    "    deltas_78_CRs,\n",
    "    deltas_low_78_CRs,\n",
    "    deltas_high_78_CRs,\n",
    ") = run_group_regressions(CRs_grouped, T, \"Absolute Change\", summary_statistic=\"Mean\")"
   ]
  },
  {
   "cell_type": "code",
   "execution_count": null,
   "id": "bf813894-a811-4511-90ec-11eecb7210d5",
   "metadata": {},
   "outputs": [],
   "source": [
    "CRs_summary_df = pd.DataFrame(index=PROJECTS_VAV, columns=list(categories.values()))\n",
    "for project in PROJECTS_VAV:\n",
    "    for category in list(categories.values()):\n",
    "        CRs_summary_df.loc[project, category] = deltas_78_CRs[project].loc[\n",
    "            category, \"78\"\n",
    "        ]\n",
    "\n",
    "CRs_summary_df_low = pd.DataFrame(index=PROJECTS_VAV, columns=list(categories.values()))\n",
    "for project in PROJECTS_VAV:\n",
    "    for category in list(categories.values()):\n",
    "        CRs_summary_df_low.loc[project, category] = deltas_low_78_CRs[project].loc[\n",
    "            category, \"78\"\n",
    "        ]\n",
    "\n",
    "CRs_summary_df_high = pd.DataFrame(\n",
    "    index=PROJECTS_VAV, columns=list(categories.values())\n",
    ")\n",
    "for project in PROJECTS_VAV:\n",
    "    for category in list(categories.values()):\n",
    "        CRs_summary_df_high.loc[project, category] = deltas_high_78_CRs[project].loc[\n",
    "            category, \"78\"\n",
    "        ]"
   ]
  },
  {
   "cell_type": "code",
   "execution_count": null,
   "id": "569f04fa-3472-4eaa-9968-388f9c5a8c2a",
   "metadata": {},
   "outputs": [],
   "source": [
    "fig = viz.plot_experiment_summary(\n",
    "    y_data=CRs_summary_df,\n",
    "    y_error_up_data=CRs_summary_df_high,\n",
    "    y_error_down_data=CRs_summary_df_low,\n",
    "    marker_legend={\n",
    "        \"color\": {\n",
    "            \"Dominated\": DOMINANT_COLORS[\"Dominated\"],\n",
    "            \"Dominant\": DOMINANT_COLORS[\"Dominant\"],\n",
    "            \"Rogue\": DOMINANT_COLORS[\"Rogue\"],\n",
    "        },\n",
    "    },\n",
    "    y_axis_title=\"Absolute Change in<br>Cooling Requests Per Hour<br>[Requests/Hr]\",\n",
    "    point_start=(1 / 4),\n",
    "    offset_delta=(1 / 4),\n",
    "    tick_vals=[i + 0.5 for i in range(len(PROJECTS_VAV))],\n",
    "    width=1200,\n",
    "    height=600,\n",
    "    x_range=[-0.25, len(PROJECTS_VAV)],\n",
    "    error_thickness=2.5,\n",
    "    whisker_len=8,\n",
    "    y_range=[-14, 4],\n",
    "    legend_size=SINGLE_PLOT_LEGEND_SIZE,\n",
    "    text_size=SINGLE_PLOT_TXT_SIZE,\n",
    ")\n",
    "\n",
    "fig = add_vertical_boxes(\n",
    "    fig, list(range(len(PROJECTS_VAV) + 1)), background_color=\"lightgray\"\n",
    ")\n",
    "fig = fig.update_layout(\n",
    "    legend=dict(\n",
    "        x=0.5,\n",
    "        y=-0.1,\n",
    "        xanchor=\"center\",\n",
    "        yanchor=\"top\",\n",
    "        orientation=\"h\",\n",
    "    )\n",
    ")"
   ]
  },
  {
   "cell_type": "code",
   "execution_count": null,
   "id": "6a867530-2b4d-48c6-a11d-03df7ec48583",
   "metadata": {},
   "outputs": [],
   "source": [
    "# fig"
   ]
  },
  {
   "cell_type": "code",
   "execution_count": null,
   "id": "cf90ac6b-7fed-4688-afd7-0d2dec2a1d6a",
   "metadata": {},
   "outputs": [],
   "source": [
    "fig.write_image(f\"{IMAGE_PATH}/FigureC4.png\")"
   ]
  },
  {
   "cell_type": "markdown",
   "id": "0f0a93f4-304c-4627-9a60-d2824c0e4b66",
   "metadata": {},
   "source": [
    "## Change in airflow"
   ]
  },
  {
   "cell_type": "code",
   "execution_count": null,
   "id": "569c73ec-d6ed-4ad0-9b0c-03929e397843",
   "metadata": {},
   "outputs": [],
   "source": [
    "T = cleaning.clean_df(\n",
    "    df=load_weather(\"2022\")[\"temperature\"].to_frame(),\n",
    "    this_var=\"weather-oat\",\n",
    "    only_business_hours=True,\n",
    "    no_weekends=False,\n",
    "    start_date=SUMMER_START_2022,\n",
    "    end_date=SUMMER_END_2022,\n",
    "    SI_units=True,\n",
    ")[\"temperature\"]"
   ]
  },
  {
   "cell_type": "code",
   "execution_count": null,
   "id": "daef5175-318d-4e44-ab8e-5daa0ba3f8a6",
   "metadata": {},
   "outputs": [],
   "source": [
    "airflow = pull_from_dataset(\"2022\", PROJECTS_VAV, \"zone-airflowsp\")\n",
    "airflow = cleaning.clean_dfs(\n",
    "    dfs=airflow,\n",
    "    this_var=\"zone-airflowsp\",\n",
    "    remove_FCUs=False,\n",
    "    only_business_hours=True,\n",
    "    no_weekends=NO_WEEKENDS,\n",
    "    start_date=SUMMER_START_2022,\n",
    "    end_date=SUMMER_END_2022,\n",
    "    SI_units=True,\n",
    ")"
   ]
  },
  {
   "cell_type": "code",
   "execution_count": null,
   "id": "2b6c24f9-fff9-4010-9e37-2f26af0bc341",
   "metadata": {},
   "outputs": [],
   "source": [
    "categories = {\n",
    "    0: \"Dominated\",\n",
    "    1: \"Dominant\",\n",
    "    2: \"Rogue\",\n",
    "}"
   ]
  },
  {
   "cell_type": "code",
   "execution_count": null,
   "id": "bf700a56-c817-44ab-b337-1a2f8249ad66",
   "metadata": {},
   "outputs": [],
   "source": [
    "airflow_grouped = {}\n",
    "for project in PROJECTS_VAV:\n",
    "    this_airflow_grouped = pd.DataFrame(\n",
    "        index=airflow[project].index, columns=list(categories.values())\n",
    "    )\n",
    "    for i in categories:\n",
    "        these_zones = list(\n",
    "            DOMINANT_ZONES[project][DOMINANT_ZONES[project] == i].dropna().index\n",
    "        )\n",
    "        these_zones = list(\n",
    "            set(these_zones).intersection(set(list(airflow[project].columns)))\n",
    "        )\n",
    "        this_airflow_grouped[categories[i]] = airflow[project][these_zones].sum(axis=1)\n",
    "    airflow_grouped[project] = this_airflow_grouped"
   ]
  },
  {
   "cell_type": "code",
   "execution_count": null,
   "id": "67a13f88-620d-4c26-830b-5abe59c7e96d",
   "metadata": {},
   "outputs": [],
   "source": [
    "(\n",
    "    deltas_76_airflow_2022,\n",
    "    deltas_low_76_airflow_2022,\n",
    "    deltas_high_76_airflow_2022,\n",
    "    deltas_78_airflow,\n",
    "    deltas_low_78_airflow,\n",
    "    deltas_high_78_airflow,\n",
    ") = run_group_regressions(airflow_grouped, T, \"Absolute Change\")"
   ]
  },
  {
   "cell_type": "code",
   "execution_count": null,
   "id": "8642f0d9-b777-4b8f-88ac-9366d115b2ee",
   "metadata": {},
   "outputs": [],
   "source": [
    "airflow_summary_df = pd.DataFrame(index=PROJECTS_VAV, columns=categories.values())\n",
    "for project in PROJECTS_VAV:\n",
    "    for category in categories.values():\n",
    "        airflow_summary_df.loc[project, category] = deltas_78_airflow[project].loc[\n",
    "            category, \"78\"\n",
    "        ]\n",
    "\n",
    "airflow_summary_df_low = pd.DataFrame(index=PROJECTS_VAV, columns=categories.values())\n",
    "for project in PROJECTS_VAV:\n",
    "    for category in categories.values():\n",
    "        airflow_summary_df_low.loc[project, category] = deltas_low_78_airflow[\n",
    "            project\n",
    "        ].loc[category, \"78\"]\n",
    "\n",
    "airflow_summary_df_high = pd.DataFrame(index=PROJECTS_VAV, columns=categories.values())\n",
    "for project in PROJECTS_VAV:\n",
    "    for category in categories.values():\n",
    "        airflow_summary_df_high.loc[project, category] = deltas_high_78_airflow[\n",
    "            project\n",
    "        ].loc[category, \"78\"]"
   ]
  },
  {
   "cell_type": "code",
   "execution_count": null,
   "id": "0a474a87-8d34-463b-bfd6-90031a8148d4",
   "metadata": {},
   "outputs": [],
   "source": [
    "fig = viz.plot_experiment_summary(\n",
    "    y_data=airflow_summary_df,\n",
    "    y_error_up_data=airflow_summary_df_high,\n",
    "    y_error_down_data=airflow_summary_df_low,\n",
    "    marker_legend={\n",
    "        \"color\": {\n",
    "            \"Dominated\": DOMINANT_COLORS[\"Dominated\"],\n",
    "            \"Dominant\": DOMINANT_COLORS[\"Dominant\"],\n",
    "            \"Rogue\": DOMINANT_COLORS[\"Rogue\"],\n",
    "        },\n",
    "    },\n",
    "    y_axis_title=\"Absolute Change in<br>Airflow [m3/Hr]\",\n",
    "    point_start=(1 / 4),\n",
    "    offset_delta=(1 / 4),\n",
    "    tick_vals=[i + 0.5 for i in range(len(PROJECTS_VAV))],\n",
    "    width=1200,\n",
    "    height=600,\n",
    "    x_range=[-0.25, len(PROJECTS_VAV)],\n",
    "    error_thickness=2.5,\n",
    "    whisker_len=8,\n",
    "    y_range=[-25000, 6000],\n",
    "    legend_size=SINGLE_PLOT_LEGEND_SIZE,\n",
    "    text_size=SINGLE_PLOT_TXT_SIZE,\n",
    ")\n",
    "\n",
    "fig = add_vertical_boxes(\n",
    "    fig, list(range(len(PROJECTS_VAV) + 1)), background_color=\"lightgray\"\n",
    ")\n",
    "fig = fig.update_layout(\n",
    "    legend=dict(\n",
    "        x=0.5,\n",
    "        y=-0.1,\n",
    "        xanchor=\"center\",\n",
    "        yanchor=\"top\",\n",
    "        orientation=\"h\",\n",
    "    )\n",
    ")"
   ]
  },
  {
   "cell_type": "code",
   "execution_count": null,
   "id": "a14d00af-dca4-4b08-8ea1-6b982e060951",
   "metadata": {},
   "outputs": [],
   "source": [
    "# fig"
   ]
  },
  {
   "cell_type": "code",
   "execution_count": null,
   "id": "699308cb-fb35-4b27-9c61-0ccbb54e8415",
   "metadata": {},
   "outputs": [],
   "source": [
    "fig.write_image(f\"{IMAGE_PATH}/FigureC3.png\")"
   ]
  },
  {
   "cell_type": "markdown",
   "id": "8aa23d53-733c-44b5-b9b5-262b5e41ab64",
   "metadata": {},
   "source": [
    "## Normalized airflow "
   ]
  },
  {
   "cell_type": "code",
   "execution_count": null,
   "id": "98b7ffd8-52fb-4d3e-9762-1f1b3f1b3869",
   "metadata": {},
   "outputs": [],
   "source": [
    "categories = {\n",
    "    0: \"Dominated\",\n",
    "    1: \"Dominant\",\n",
    "    2: \"Rogue\",\n",
    "}"
   ]
  },
  {
   "cell_type": "code",
   "execution_count": null,
   "id": "31e0af0a-b4dc-476a-9c14-e76c0e25778a",
   "metadata": {},
   "outputs": [],
   "source": [
    "airflow = pull_from_dataset(\"2022\", PROJECTS_VAV, \"zone-airflowsp\")\n",
    "airflow = cleaning.clean_dfs(\n",
    "    dfs=airflow,\n",
    "    this_var=\"zone-airflowsp\",\n",
    "    remove_FCUs=False,\n",
    "    only_business_hours=True,\n",
    "    no_weekends=NO_WEEKENDS,\n",
    "    start_date=SUMMER_START_2022,\n",
    "    end_date=SUMMER_END_2022,\n",
    "    SI_units=True,\n",
    "    hourly_filter=cleaning.get_experiment_hourly_filter(\n",
    "        projects=PROJECTS_VAV,\n",
    "        experiment_year=\"2022\",\n",
    "        filter_columns=[\"CSP = 74F\"],\n",
    "        no_weekends=True,\n",
    "    ),\n",
    ")"
   ]
  },
  {
   "cell_type": "code",
   "execution_count": null,
   "id": "57d6f0ab-9e4b-48f3-8040-4a89e1569f17",
   "metadata": {},
   "outputs": [],
   "source": [
    "airflow_grouped = {}\n",
    "for project in PROJECTS_VAV:\n",
    "    this_airflow_grouped = pd.DataFrame(\n",
    "        index=airflow[project].index, columns=list(categories.values())\n",
    "    )\n",
    "    for i in categories:\n",
    "        these_zones = list(\n",
    "            DOMINANT_ZONES[project][DOMINANT_ZONES[project] == i].dropna().index\n",
    "        )\n",
    "        these_zones = list(\n",
    "            set(these_zones).intersection(set(list(airflow[project].columns)))\n",
    "        )\n",
    "        this_airflow_grouped[categories[i]] = airflow[project][these_zones].sum(axis=1)\n",
    "    airflow_grouped[project] = this_airflow_grouped\n",
    "\n",
    "for project in PROJECTS_VAV:\n",
    "    airflow_grouped[project] = airflow_grouped[project].div(\n",
    "        airflow_grouped[project].sum(axis=1), axis=0\n",
    "    )"
   ]
  },
  {
   "cell_type": "code",
   "execution_count": null,
   "id": "daffd785-2207-4a06-8b6d-937be40b45bf",
   "metadata": {},
   "outputs": [],
   "source": [
    "airflow_summary_df = pd.DataFrame(index=PROJECTS_VAV, columns=categories.values())\n",
    "for project in PROJECTS_VAV:\n",
    "    for category in categories.values():\n",
    "        airflow_summary_df.loc[project, category] = airflow_grouped[project][\n",
    "            category\n",
    "        ].mean()\n",
    "\n",
    "airflow_summary_df_low = pd.DataFrame(index=PROJECTS_VAV, columns=categories.values())\n",
    "for project in PROJECTS_VAV:\n",
    "    for category in categories.values():\n",
    "        airflow_summary_df_low.loc[project, category] = airflow_grouped[project][\n",
    "            category\n",
    "        ].std()\n",
    "\n",
    "airflow_summary_df_high = pd.DataFrame(index=PROJECTS_VAV, columns=categories.values())\n",
    "for project in PROJECTS_VAV:\n",
    "    for category in categories.values():\n",
    "        airflow_summary_df_high.loc[project, category] = airflow_grouped[project][\n",
    "            category\n",
    "        ].std()"
   ]
  },
  {
   "cell_type": "code",
   "execution_count": null,
   "id": "79397fa2-e225-4d51-9651-7bbd096f4ad7",
   "metadata": {},
   "outputs": [],
   "source": [
    "fig = viz.plot_experiment_summary(\n",
    "    y_data=airflow_summary_df,\n",
    "    y_error_up_data=airflow_summary_df_high,\n",
    "    y_error_down_data=airflow_summary_df_low,\n",
    "    marker_legend={\n",
    "        \"color\": {\n",
    "            \"Dominated\": DOMINANT_COLORS[\"Dominated\"],\n",
    "            \"Dominant\": DOMINANT_COLORS[\"Dominant\"],\n",
    "            \"Rogue\": DOMINANT_COLORS[\"Rogue\"],\n",
    "        },\n",
    "    },\n",
    "    y_axis_title=\"Fraction of Building-Wide Airflow<br>Control Days [Unitless]\",\n",
    "    point_start=(1 / 4),\n",
    "    offset_delta=(1 / 4),\n",
    "    tick_vals=[i + 0.5 for i in range(len(PROJECTS_VAV))],\n",
    "    width=1200,\n",
    "    height=600,\n",
    "    x_range=[-0.25, len(PROJECTS_VAV)],\n",
    "    error_thickness=2.5,\n",
    "    whisker_len=8,\n",
    "    y_range=[-0.1, 1],\n",
    "    legend_size=SINGLE_PLOT_LEGEND_SIZE,\n",
    "    text_size=SINGLE_PLOT_TXT_SIZE,\n",
    ")\n",
    "\n",
    "fig = add_vertical_boxes(\n",
    "    fig, list(range(len(PROJECTS_VAV) + 1)), background_color=\"lightgray\"\n",
    ")\n",
    "fig = fig.update_layout(\n",
    "    legend=dict(\n",
    "        x=0.5,\n",
    "        y=-0.1,\n",
    "        xanchor=\"center\",\n",
    "        yanchor=\"top\",\n",
    "        orientation=\"h\",\n",
    "    )\n",
    ")"
   ]
  },
  {
   "cell_type": "code",
   "execution_count": null,
   "id": "254fdf7b-6ab5-4883-b1d0-6a9f2bf5abe8",
   "metadata": {},
   "outputs": [],
   "source": [
    "# fig"
   ]
  },
  {
   "cell_type": "code",
   "execution_count": null,
   "id": "dc5c3389-93ad-4413-a8c5-aa764b9ad965",
   "metadata": {},
   "outputs": [],
   "source": [
    "fig.write_image(f\"{IMAGE_PATH}/FigureC8.png\")"
   ]
  },
  {
   "cell_type": "code",
   "execution_count": null,
   "id": "2393b93a-d2bd-4464-b0f8-530a5b1a9d14",
   "metadata": {},
   "outputs": [],
   "source": []
  }
 ],
 "metadata": {
  "kernelspec": {
   "display_name": "experiments_2022",
   "language": "python",
   "name": "experiments_2022"
  },
  "language_info": {
   "codemirror_mode": {
    "name": "ipython",
    "version": 3
   },
   "file_extension": ".py",
   "mimetype": "text/x-python",
   "name": "python",
   "nbconvert_exporter": "python",
   "pygments_lexer": "ipython3",
   "version": "3.9.21"
  }
 },
 "nbformat": 4,
 "nbformat_minor": 5
}
