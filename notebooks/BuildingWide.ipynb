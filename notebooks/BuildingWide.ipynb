{
 "cells": [
  {
   "cell_type": "code",
   "execution_count": null,
   "id": "d7f0cf7e-f3cd-4b89-9afb-9dcdc78b9bac",
   "metadata": {},
   "outputs": [],
   "source": [
    "# math\n",
    "import numpy as np\n",
    "import pandas as pd\n",
    "import datetime\n",
    "\n",
    "# other\n",
    "import json\n",
    "\n",
    "from experiments_2022 import DATASETS_PATH, IMAGE_PATH\n",
    "from experiments_2022.zone_level_analysis import (\n",
    "    base,\n",
    "    cleaning,\n",
    "    viz,\n",
    "    regression_functions,\n",
    ")\n",
    "from experiments_2022.datasets import (\n",
    "    load_weather,\n",
    "    load_building,\n",
    "    pull_from_dataset,\n",
    ")\n",
    "\n",
    "from utils import (\n",
    "    PROJECTS_2022,\n",
    "    PROJECTS_VAV,\n",
    "    NO_WEEKENDS,\n",
    "    CONTROL_FOR_WEEKENDS,\n",
    "    SUMMER_START_2022,\n",
    "    SUMMER_END_2022,\n",
    "    SINGLE_PLOT_TXT_SIZE,\n",
    "    SINGLE_PLOT_LEGEND_SIZE,\n",
    "    SINGLE_PLOT_ANNOTATION_SIZE,\n",
    "    MULTI_PLOT_TXT_SIZE,\n",
    "    MULTI_PLOT_LEGEND_SIZE,\n",
    "    run_building_regressions,\n",
    "    add_vertical_boxes,\n",
    "    gini,\n",
    ")"
   ]
  },
  {
   "cell_type": "code",
   "execution_count": null,
   "id": "38062939-01e1-4749-9b9f-d3e93964fc06",
   "metadata": {},
   "outputs": [],
   "source": [
    "pd.set_option(\"display.max_rows\", 1000000)"
   ]
  },
  {
   "cell_type": "code",
   "execution_count": null,
   "id": "c86235ac-aa16-4651-a6fd-a6bb86ee3afa",
   "metadata": {},
   "outputs": [],
   "source": [
    "with open(\"./dicts_dfs/all_zones.json\", \"r\") as f:\n",
    "    ALL_ZONES = json.load(f)\n",
    "\n",
    "with open(\"./dicts_dfs/zones_by_type.json\", \"r\") as f:\n",
    "    ZONES_BY_TYPE = json.load(f)\n",
    "\n",
    "with open(\"./dicts_dfs/ahus.json\", \"r\") as f:\n",
    "    AHUS = json.load(f)\n",
    "\n",
    "EXCLUDED_ZONES = {}\n",
    "for project in PROJECTS_2022:\n",
    "    ezs = pd.read_csv(f\"./dicts_dfs/excluded/{project}.csv\").set_index(\"Unnamed: 0\")\n",
    "    ezs.index.name = None\n",
    "    EXCLUDED_ZONES[project] = ezs"
   ]
  },
  {
   "cell_type": "markdown",
   "id": "ef86efe6-0ff9-4cc8-bb06-bd63c1a41168",
   "metadata": {},
   "source": [
    "## Testbed table"
   ]
  },
  {
   "cell_type": "code",
   "execution_count": null,
   "id": "86b31f69-252e-48b2-9931-2f7042f1448f",
   "metadata": {},
   "outputs": [],
   "source": [
    "testbed = pd.DataFrame(\n",
    "    index=[\n",
    "        \"Lab Building\",\n",
    "        \"1000m2\",\n",
    "        \"Year of Construction\",\n",
    "        \"Year of Last Retrofit\",\n",
    "        \"# of AHs\",\n",
    "        \"# of VAVs + FCs\",\n",
    "        \"# of VAVs\",\n",
    "        \"# of FCs\",\n",
    "        \"# of Excluded Zones\",\n",
    "        \"% of Excluded Zones\",\n",
    "        \"Summer Daily Energy Demand (kWh/m2/day)\",\n",
    "        \"% Cooling Demand\",\n",
    "        \"% Electric Demand\",\n",
    "        \"% Heating Demand\",\n",
    "        \"Total Experiment Weekdays\",\n",
    "        \"# of 74F Weekdays\",\n",
    "        \"# of 76F Weekdays\",\n",
    "        \"# of 78F Weekdays\",\n",
    "    ],\n",
    "    columns=PROJECTS_2022,\n",
    ")\n",
    "testbed[\"TOTAL\"] = np.nan"
   ]
  },
  {
   "cell_type": "markdown",
   "id": "47833572-bb85-4c43-8166-b6851ffdb689",
   "metadata": {},
   "source": [
    "### Lab building"
   ]
  },
  {
   "cell_type": "code",
   "execution_count": null,
   "id": "5af88fd2-c458-4027-b006-6d0bf5fcd6c4",
   "metadata": {},
   "outputs": [],
   "source": [
    "testbed.loc[\"Lab Building\", PROJECTS_2022] = \"N\"\n",
    "testbed.loc[\"Lab Building\", \"LAB-1\"] = \"Y\"\n",
    "testbed.loc[\"Lab Building\", \"LAB-2\"] = \"Y\"\n",
    "testbed.loc[\"Lab Building\", \"LAB-3\"] = \"Y\""
   ]
  },
  {
   "cell_type": "markdown",
   "id": "5dc5f20a-2b20-4934-84af-3fe1b216e031",
   "metadata": {},
   "source": [
    "### m2"
   ]
  },
  {
   "cell_type": "code",
   "execution_count": null,
   "id": "f43da16a-276f-4812-8ad9-ecd2a36a8612",
   "metadata": {},
   "outputs": [],
   "source": [
    "testbed.loc[\"1000m2\", \"OFF-1\"] = 144982 * base.M2_PER_SF / 1000\n",
    "testbed.loc[\"1000m2\", \"OFF-2\"] = 135556 * base.M2_PER_SF / 1000\n",
    "testbed.loc[\"1000m2\", \"OFF-3\"] = 28420 * base.M2_PER_SF / 1000\n",
    "testbed.loc[\"1000m2\", \"OFF-4\"] = 169619 * base.M2_PER_SF / 1000\n",
    "testbed.loc[\"1000m2\", \"OFF-5\"] = 84501 * base.M2_PER_SF / 1000\n",
    "testbed.loc[\"1000m2\", \"OFF-6\"] = 105465 * base.M2_PER_SF / 1000\n",
    "testbed.loc[\"1000m2\", \"OFF-7\"] = 63439 * base.M2_PER_SF / 1000\n",
    "testbed.loc[\"1000m2\", \"LAB-1\"] = 75081 * base.M2_PER_SF / 1000\n",
    "testbed.loc[\"1000m2\", \"LAB-2\"] = 63670 * base.M2_PER_SF / 1000\n",
    "testbed.loc[\"1000m2\", \"LAB-3\"] = 76462 * base.M2_PER_SF / 1000\n",
    "testbed.loc[\"1000m2\", \"TOTAL\"] = testbed.loc[\"1000m2\", PROJECTS_2022].sum()"
   ]
  },
  {
   "cell_type": "markdown",
   "id": "e0d454e8-a70a-477a-b1aa-0410ec5b40e9",
   "metadata": {},
   "source": [
    "### Year of construction"
   ]
  },
  {
   "cell_type": "code",
   "execution_count": null,
   "id": "8f6fc40d-8913-4d5d-9194-8d6af091996c",
   "metadata": {},
   "outputs": [],
   "source": [
    "testbed.loc[\"Year of Construction\", \"OFF-1\"] = 2000\n",
    "testbed.loc[\"Year of Construction\", \"OFF-2\"] = 1996\n",
    "testbed.loc[\"Year of Construction\", \"OFF-3\"] = 1893\n",
    "testbed.loc[\"Year of Construction\", \"OFF-4\"] = 1996\n",
    "testbed.loc[\"Year of Construction\", \"OFF-5\"] = 2015\n",
    "testbed.loc[\"Year of Construction\", \"OFF-6\"] = 1998\n",
    "testbed.loc[\"Year of Construction\", \"OFF-7\"] = 1900\n",
    "testbed.loc[\"Year of Construction\", \"LAB-1\"] = 1965\n",
    "testbed.loc[\"Year of Construction\", \"LAB-2\"] = 1902\n",
    "testbed.loc[\"Year of Construction\", \"LAB-3\"] = 1963"
   ]
  },
  {
   "cell_type": "markdown",
   "id": "98a50187-5485-47ab-852e-3816bde96835",
   "metadata": {},
   "source": [
    "### Year of last retrofit"
   ]
  },
  {
   "cell_type": "code",
   "execution_count": null,
   "id": "988cf383-8071-42bb-90fa-a61e157ab312",
   "metadata": {},
   "outputs": [],
   "source": [
    "testbed.loc[\"Year of Last Retrofit\", \"OFF-1\"] = 2014\n",
    "testbed.loc[\"Year of Last Retrofit\", \"OFF-2\"] = 2021\n",
    "testbed.loc[\"Year of Last Retrofit\", \"OFF-3\"] = 2015\n",
    "testbed.loc[\"Year of Last Retrofit\", \"OFF-4\"] = 2015\n",
    "testbed.loc[\"Year of Last Retrofit\", \"OFF-5\"] = np.nan\n",
    "testbed.loc[\"Year of Last Retrofit\", \"OFF-6\"] = 2012\n",
    "testbed.loc[\"Year of Last Retrofit\", \"OFF-7\"] = 2017\n",
    "testbed.loc[\"Year of Last Retrofit\", \"LAB-1\"] = 2020\n",
    "testbed.loc[\"Year of Last Retrofit\", \"LAB-2\"] = 2016\n",
    "testbed.loc[\"Year of Last Retrofit\", \"LAB-3\"] = 2018"
   ]
  },
  {
   "cell_type": "markdown",
   "id": "4925f67e-32e4-41cb-9ce1-6147969e93e8",
   "metadata": {},
   "source": [
    "### Number of equipment"
   ]
  },
  {
   "cell_type": "code",
   "execution_count": null,
   "id": "2d65af0c-6876-4c30-81ef-a480e505a645",
   "metadata": {},
   "outputs": [],
   "source": [
    "for project in PROJECTS_2022:\n",
    "    # ahus\n",
    "    testbed.loc[\"# of AHs\", project] = len(AHUS[project])\n",
    "    # vavs\n",
    "    testbed.loc[\"# of VAVs\", project] = len(ZONES_BY_TYPE[project][\"VAVs\"])\n",
    "    # fcus\n",
    "    testbed.loc[\"# of FCs\", project] = len(ZONES_BY_TYPE[project][\"FCUs\"])\n",
    "    # excluded\n",
    "    testbed.loc[\"# of Excluded Zones\", project] = len(\n",
    "        (EXCLUDED_ZONES[project][EXCLUDED_ZONES[project] == 1]).dropna()\n",
    "    )\n",
    "\n",
    "for row in [\"# of VAVs\", \"# of FCs\", \"# of AHs\", \"# of Excluded Zones\"]:\n",
    "    testbed.loc[row, \"TOTAL\"] = testbed.loc[row, PROJECTS_2022].sum()\n",
    "\n",
    "testbed.loc[\"# of VAVs + FCs\", :] = (\n",
    "    testbed.loc[\"# of VAVs\", :] + testbed.loc[\"# of FCs\", :]\n",
    ")\n",
    "testbed.loc[\"% of Excluded Zones\", :] = (\n",
    "    (testbed.loc[\"# of Excluded Zones\", :] / testbed.loc[\"# of VAVs + FCs\", :])\n",
    "    .astype(float)\n",
    "    .round(2)\n",
    ")"
   ]
  },
  {
   "cell_type": "markdown",
   "id": "6b6dd202-bb48-4bb3-9f60-d5a11b7f49f4",
   "metadata": {},
   "source": [
    "### Cooling"
   ]
  },
  {
   "cell_type": "code",
   "execution_count": null,
   "id": "e3c14f38-f56d-421a-81b3-3df165d3b32b",
   "metadata": {},
   "outputs": [],
   "source": [
    "cooling = cleaning.clean_df(\n",
    "    df=load_building(\"2023\", \"C\"),\n",
    "    this_var=\"building-cooling\",\n",
    "    start_date=pd.Timestamp(\"05-01-2023\"),\n",
    "    end_date=pd.Timestamp(\"10-01-2023\"),\n",
    "    only_business_hours=False,\n",
    "    no_weekends=True,\n",
    ")\n",
    "cooling = cooling[PROJECTS_2022]"
   ]
  },
  {
   "cell_type": "code",
   "execution_count": null,
   "id": "575d24d6-029c-4371-8703-d5db2d3b6c03",
   "metadata": {},
   "outputs": [],
   "source": [
    "fig = viz.make_time_series(cooling, y_axis_title=\"Cooling (tons)\")"
   ]
  },
  {
   "cell_type": "code",
   "execution_count": null,
   "id": "bbe79671-610a-4427-a982-f46c5209ac7c",
   "metadata": {},
   "outputs": [],
   "source": [
    "# fig"
   ]
  },
  {
   "cell_type": "code",
   "execution_count": null,
   "id": "b5200245-c842-4b27-8104-9595cc20f87f",
   "metadata": {},
   "outputs": [],
   "source": [
    "cooling = cooling * base.MW_PER_TON * (10**3)\n",
    "cooling[\"TOTAL\"] = cooling.sum(axis=1, skipna=True)\n",
    "cooling = cooling.groupby(cooling.index.date).sum()\n",
    "for project in list(cooling.columns):\n",
    "    testbed.loc[\"Average Cooling Demand (kWh/m2/day)\", project] = cooling[\n",
    "        project\n",
    "    ].mean() / (1000 * testbed.loc[\"1000m2\", project])"
   ]
  },
  {
   "cell_type": "markdown",
   "id": "e392fcf9-fe6a-41fb-b4b4-a3e4c6084148",
   "metadata": {},
   "source": [
    "### Heating"
   ]
  },
  {
   "cell_type": "code",
   "execution_count": null,
   "id": "9c7f7560-1476-458d-87c3-f4de102dc4cd",
   "metadata": {},
   "outputs": [],
   "source": [
    "heating = cleaning.clean_df(\n",
    "    df=load_building(\"2023\", \"H\"),\n",
    "    this_var=\"building-heating\",\n",
    "    start_date=pd.Timestamp(\"05-01-2023\"),\n",
    "    end_date=pd.Timestamp(\"10-01-2023\"),\n",
    "    only_business_hours=False,\n",
    "    no_weekends=True,\n",
    ")\n",
    "heating = heating[PROJECTS_2022]"
   ]
  },
  {
   "cell_type": "code",
   "execution_count": null,
   "id": "ab660e87-07e8-4c79-8958-fc84a42c7455",
   "metadata": {},
   "outputs": [],
   "source": [
    "fig = viz.make_time_series(heating, y_axis_title=\"Heating (kBtu)\")"
   ]
  },
  {
   "cell_type": "code",
   "execution_count": null,
   "id": "d52b93be-c0f9-4ba9-9760-65766676a222",
   "metadata": {},
   "outputs": [],
   "source": [
    "# fig"
   ]
  },
  {
   "cell_type": "code",
   "execution_count": null,
   "id": "be12e031-ef4b-41f4-a9aa-7298901a1126",
   "metadata": {},
   "outputs": [],
   "source": [
    "heating = heating * base.WH_PER_BTU\n",
    "heating[\"TOTAL\"] = heating.sum(axis=1, skipna=True)\n",
    "heating = heating.groupby(heating.index.date).sum()\n",
    "heating[heating == 0] = np.nan  # edge case\n",
    "for project in list(heating.columns):\n",
    "    testbed.loc[\"Average Heating Demand (kWh/m2/day)\", project] = heating[\n",
    "        project\n",
    "    ].mean() / (1000 * testbed.loc[\"1000m2\", project])"
   ]
  },
  {
   "cell_type": "markdown",
   "id": "034a5bf0-d730-4999-82df-1f5fb9c6ce05",
   "metadata": {},
   "source": [
    "### Electricity"
   ]
  },
  {
   "cell_type": "code",
   "execution_count": null,
   "id": "e785ccbe-b911-4950-919e-437bd8354499",
   "metadata": {},
   "outputs": [],
   "source": [
    "electricity = cleaning.clean_df(\n",
    "    df=load_building(\"2023\", \"E\"),\n",
    "    this_var=\"building-electricity\",\n",
    "    start_date=pd.Timestamp(\"05-01-2023\"),\n",
    "    end_date=pd.Timestamp(\"10-01-2023\"),\n",
    "    only_business_hours=False,\n",
    "    no_weekends=True,\n",
    ")\n",
    "electricity = electricity[PROJECTS_2022]\n",
    "electricity[electricity > 1000] = np.nan\n",
    "electricity[\"OFF-1\"][electricity[\"OFF-1\"] > 200] = np.nan\n",
    "electricity[\"OFF-2\"][electricity[\"OFF-2\"] > 400] = np.nan\n",
    "electricity[\"OFF-3\"][electricity[\"OFF-3\"] > 20] = np.nan\n",
    "electricity[\"OFF-4\"][electricity[\"OFF-4\"] > 250] = np.nan\n",
    "electricity[\"OFF-5\"][electricity[\"OFF-5\"] > 250] = np.nan\n",
    "electricity[\"OFF-6\"][electricity[\"OFF-6\"] > 300] = np.nan\n",
    "electricity[\"OFF-7\"][electricity[\"OFF-7\"] > 200] = np.nan\n",
    "electricity[\"LAB-1\"][electricity[\"LAB-1\"] > 500] = np.nan\n",
    "electricity[\"LAB-2\"][electricity[\"LAB-2\"] > 250] = np.nan\n",
    "electricity[\"LAB-3\"][electricity[\"LAB-3\"] > 300] = np.nan"
   ]
  },
  {
   "cell_type": "code",
   "execution_count": null,
   "id": "32299872-52ba-4ce7-80ba-e67ea5949975",
   "metadata": {},
   "outputs": [],
   "source": [
    "fig = viz.make_time_series(\n",
    "    electricity, y_axis_title=\"Electricity (kW)\", force_same_yaxes=False\n",
    ")"
   ]
  },
  {
   "cell_type": "code",
   "execution_count": null,
   "id": "57a4b5f6-42b5-4229-ad4a-32004124fcbb",
   "metadata": {},
   "outputs": [],
   "source": [
    "# fig"
   ]
  },
  {
   "cell_type": "code",
   "execution_count": null,
   "id": "1600986c-bffe-4691-8520-bd2921b23a95",
   "metadata": {},
   "outputs": [],
   "source": [
    "electricity[\"TOTAL\"] = electricity.sum(axis=1, skipna=True)\n",
    "electricity = electricity.groupby(electricity.index.date).sum()\n",
    "for project in list(electricity.columns):\n",
    "    testbed.loc[\"Average Electric Demand (kWh/m2/day)\", project] = electricity[\n",
    "        project\n",
    "    ].mean() / (1000 * testbed.loc[\"1000m2\", project])"
   ]
  },
  {
   "cell_type": "markdown",
   "id": "bec23316-5d33-4063-939a-22f889652368",
   "metadata": {},
   "source": [
    "### Total "
   ]
  },
  {
   "cell_type": "code",
   "execution_count": null,
   "id": "da8bcef7-57ce-4fb7-9f45-c9978ccc68d3",
   "metadata": {},
   "outputs": [],
   "source": [
    "testbed.loc[\"Summer Daily Energy Demand (kWh/m2/day)\", PROJECTS_2022] = (\n",
    "    testbed.loc[\"Average Cooling Demand (kWh/m2/day)\", PROJECTS_2022]\n",
    "    + testbed.loc[\"Average Heating Demand (kWh/m2/day)\", PROJECTS_2022]\n",
    "    + testbed.loc[\"Average Electric Demand (kWh/m2/day)\", PROJECTS_2022]\n",
    ")\n",
    "testbed.loc[\"Summer Daily Energy Demand (kWh/m2/day)\", \"TOTAL\"] = (\n",
    "    (\n",
    "        testbed.loc[\"Summer Daily Energy Demand (kWh/m2/day)\", PROJECTS_2022]\n",
    "        * testbed.loc[\"1000m2\", PROJECTS_2022]\n",
    "        * 1000\n",
    "    ).sum()\n",
    ") / (testbed.loc[\"1000m2\", PROJECTS_2022].sum() * 1000)\n",
    "\n",
    "for utility in [\"Cooling\", \"Heating\", \"Electric\"]:\n",
    "    testbed.loc[f\"% {utility} Demand\", :] = (\n",
    "        (\n",
    "            testbed.loc[f\"Average {utility} Demand (kWh/m2/day)\", :]\n",
    "            / testbed.loc[\"Summer Daily Energy Demand (kWh/m2/day)\", :]\n",
    "        )\n",
    "        .astype(float)\n",
    "        .round(3)\n",
    "    )\n",
    "    testbed.drop(index=f\"Average {utility} Demand (kWh/m2/day)\", inplace=True)"
   ]
  },
  {
   "cell_type": "markdown",
   "id": "4d1e5792-d949-42b0-bebc-55ea51d44d78",
   "metadata": {},
   "source": [
    "### # of Day Types"
   ]
  },
  {
   "cell_type": "code",
   "execution_count": null,
   "id": "fc30a153-322c-421a-a0a4-e248a1fdaa2a",
   "metadata": {},
   "outputs": [],
   "source": [
    "schedule = pd.read_csv(\n",
    "    DATASETS_PATH / \"csvs/2022_experiment_csvs/sp_schedule_daily.csv\"\n",
    ").set_index(\"Unnamed: 0\")\n",
    "schedule.index = pd.to_datetime(schedule.index)\n",
    "for project in PROJECTS_2022:\n",
    "    ser = schedule[project]\n",
    "    for sp in [74, 76, 78]:\n",
    "        this_ser = ser[ser == sp]\n",
    "        this_ser = this_ser[this_ser.index.dayofweek < 5]\n",
    "        testbed.loc[f\"# of {sp}F Weekdays\", project] = len(this_ser)\n",
    "        testbed.loc[f\"# of {sp}F Weekdays\", \"TOTAL\"] = testbed.loc[\n",
    "            f\"# of {sp}F Weekdays\", PROJECTS_2022\n",
    "        ].sum()\n",
    "\n",
    "testbed.loc[\"Total Experiment Weekdays\", :] = testbed.loc[\n",
    "    [\"# of 74F Weekdays\", \"# of 76F Weekdays\", \"# of 78F Weekdays\"], :\n",
    "].sum()"
   ]
  },
  {
   "cell_type": "code",
   "execution_count": null,
   "id": "8fbbdb1d-8697-478c-abc7-17562752415d",
   "metadata": {},
   "outputs": [],
   "source": [
    "testbed"
   ]
  },
  {
   "cell_type": "markdown",
   "id": "a8596c8e-b8a5-4db9-bc45-fcadfb50121c",
   "metadata": {},
   "source": [
    "## Min airflow"
   ]
  },
  {
   "cell_type": "code",
   "execution_count": null,
   "id": "dcd3ffdd-3235-451d-90df-3da51d03295e",
   "metadata": {},
   "outputs": [],
   "source": [
    "min_airflow = pd.read_csv(DATASETS_PATH / \"csvs/min_airflow_2023.csv\").drop(\n",
    "    columns=[\"Unnamed: 0\"]\n",
    ")"
   ]
  },
  {
   "cell_type": "code",
   "execution_count": null,
   "id": "23f70c91-b328-40c6-ab72-c6af07c20871",
   "metadata": {},
   "outputs": [],
   "source": [
    "min_airflow_dict = {}\n",
    "for project in PROJECTS_VAV:\n",
    "    this_min_airflow = (\n",
    "        min_airflow[min_airflow[\"Building\"] == project]\n",
    "        .set_index(\"VAV\")[\"Minimum Airflow (cfm)\"]\n",
    "        .to_frame()\n",
    "    )\n",
    "    this_min_airflow[this_min_airflow < cleaning.LOWER_LIMIT[\"zone-airflow\"]] = np.nan\n",
    "    this_min_airflow[this_min_airflow > cleaning.UPPER_LIMIT[\"zone-airflow\"]] = np.nan\n",
    "    min_airflow_dict[project] = this_min_airflow"
   ]
  },
  {
   "cell_type": "code",
   "execution_count": null,
   "id": "e829d63f-753f-4a71-bfca-c59f8fbadcb7",
   "metadata": {},
   "outputs": [],
   "source": [
    "fig = viz.make_dot_plot(\n",
    "    y_data=min_airflow_dict,\n",
    "    y_axis_title=\"Min Airflow (cfm)\",\n",
    "    vertical_spacing=0.1,\n",
    "    force_same_yaxes=True,\n",
    ")"
   ]
  },
  {
   "cell_type": "code",
   "execution_count": null,
   "id": "64612e7f-83cc-49a6-9c4f-292caf2e0e5c",
   "metadata": {},
   "outputs": [],
   "source": [
    "# fig"
   ]
  },
  {
   "cell_type": "code",
   "execution_count": null,
   "id": "66482daf-8203-4037-a1b9-4a8c699dd919",
   "metadata": {},
   "outputs": [],
   "source": [
    "min_airflow_summary = pd.Series(index=PROJECTS_VAV)\n",
    "for project in PROJECTS_VAV:\n",
    "    min_airflow_summary[project] = min_airflow_dict[project].sum()[0] / (\n",
    "        testbed.loc[\"1000m2\", project] * 1000 / base.M2_PER_SF\n",
    "    )"
   ]
  },
  {
   "cell_type": "code",
   "execution_count": null,
   "id": "3dbae774-3a10-424e-afd1-cb2bb77bf107",
   "metadata": {},
   "outputs": [],
   "source": [
    "min_airflow_summary.to_frame()"
   ]
  },
  {
   "cell_type": "markdown",
   "id": "d70fa11f-5b32-4e9c-b6ac-dfdee8d5cb92",
   "metadata": {},
   "source": [
    "## Building wide cooling"
   ]
  },
  {
   "cell_type": "code",
   "execution_count": null,
   "id": "c40a1ab5-78cf-4ecb-871d-6e3ff4fdf5d5",
   "metadata": {},
   "outputs": [],
   "source": [
    "cooling_df = cleaning.clean_by_column(\n",
    "    df=load_building(\"2022\", \"C\")[PROJECTS_2022],\n",
    "    only_business_hours=True,\n",
    "    no_weekends=NO_WEEKENDS,\n",
    ")\n",
    "\n",
    "cooling_df = cleaning.clean_df(\n",
    "    df=cooling_df,\n",
    "    this_var=\"building-cooling\",\n",
    "    start_date=SUMMER_START_2022,\n",
    "    end_date=SUMMER_END_2022,\n",
    "    only_business_hours=False,\n",
    "    no_weekends=False,\n",
    ")"
   ]
  },
  {
   "cell_type": "code",
   "execution_count": null,
   "id": "40c402f5-2b3f-472e-9f39-6c857aa8e9d6",
   "metadata": {},
   "outputs": [],
   "source": [
    "fig = viz.make_time_series(cooling_df, y_axis_title=\"Cooling [tons]\")"
   ]
  },
  {
   "cell_type": "code",
   "execution_count": null,
   "id": "8578fe3b-7de0-4641-b983-fad6930fbd25",
   "metadata": {},
   "outputs": [],
   "source": [
    "# fig"
   ]
  },
  {
   "cell_type": "code",
   "execution_count": null,
   "id": "24166d84-33cc-4a5e-8a8e-438c8e120302",
   "metadata": {},
   "outputs": [],
   "source": [
    "cooling_df = cooling_df * base.MW_PER_TON * 1000  # kWh\n",
    "cooling = {}\n",
    "for project in PROJECTS_2022:\n",
    "    cooling[project] = cooling_df[project].to_frame() / testbed.loc[\"1000m2\", project]\n",
    "for project in PROJECTS_2022:\n",
    "    for day in [\"06-23-2022\"]:\n",
    "        cooling[project].loc[day, :] = np.nan"
   ]
  },
  {
   "cell_type": "code",
   "execution_count": null,
   "id": "1ca17788-e5fc-448e-a64f-1892387acebe",
   "metadata": {},
   "outputs": [],
   "source": [
    "T = cleaning.clean_df(\n",
    "    df=load_weather(\"2022\")[\"temperature\"].to_frame(),\n",
    "    this_var=\"weather-oat\",\n",
    "    start_date=SUMMER_START_2022,\n",
    "    end_date=SUMMER_END_2022,\n",
    "    only_business_hours=True,\n",
    "    no_weekends=False,\n",
    "    SI_units=True,\n",
    ")[\"temperature\"]"
   ]
  },
  {
   "cell_type": "code",
   "execution_count": null,
   "id": "455729d9-4369-49aa-a3a8-3019707baef5",
   "metadata": {},
   "outputs": [],
   "source": [
    "(\n",
    "    percent_deltas_cooling,\n",
    "    percent_deltas_high_cooling,\n",
    "    percent_deltas_low_cooling,\n",
    "    percent_summary,\n",
    "    fig,\n",
    ") = run_building_regressions(\n",
    "    cooling,\n",
    "    T,\n",
    "    mode=\"Percent Change\",\n",
    "    summary_statistic=\"Mean\",\n",
    "    y_axis_title=\"Daytime Average<br>Cooling Demand<br>[kW/1000m2]\",\n",
    "    use_raw=False,\n",
    ")\n",
    "fig = fig.update_layout(\n",
    "    legend=dict(\n",
    "        x=0.5,\n",
    "        y=-0.05,\n",
    "        xanchor=\"center\",\n",
    "        yanchor=\"top\",\n",
    "        orientation=\"h\",\n",
    "        font_size=MULTI_PLOT_LEGEND_SIZE,\n",
    "    ),\n",
    ")"
   ]
  },
  {
   "cell_type": "code",
   "execution_count": null,
   "id": "5f384cf1-d10a-4724-830b-cf4919c3f1fa",
   "metadata": {},
   "outputs": [],
   "source": [
    "# fig"
   ]
  },
  {
   "cell_type": "code",
   "execution_count": null,
   "id": "8e7dc9b7-500d-4e53-9008-232141a29fb3",
   "metadata": {},
   "outputs": [],
   "source": [
    "fig.write_image(f\"{IMAGE_PATH}/FigureG1.png\")"
   ]
  },
  {
   "cell_type": "code",
   "execution_count": null,
   "id": "f2046a7b-10b4-4b52-bec8-2ea7db1f6e3c",
   "metadata": {},
   "outputs": [],
   "source": [
    "percent_summary.columns = percent_summary.columns.str.upper()"
   ]
  },
  {
   "cell_type": "code",
   "execution_count": null,
   "id": "366b9ca0-202b-4e0a-9fee-969f978ccac8",
   "metadata": {},
   "outputs": [],
   "source": [
    "percent_summary"
   ]
  },
  {
   "cell_type": "code",
   "execution_count": null,
   "id": "c05acbf8-a801-4476-86c5-3a5874421073",
   "metadata": {},
   "outputs": [],
   "source": [
    "(\n",
    "    absolute_deltas_cooling,\n",
    "    absolute_deltas_high_cooling,\n",
    "    absolute_deltas_low_cooling,\n",
    "    summary,\n",
    "    fig,\n",
    ") = run_building_regressions(\n",
    "    cooling,\n",
    "    T,\n",
    "    mode=\"Absolute Change\",\n",
    "    summary_statistic=\"Mean\",\n",
    "    y_axis_title=\"Daytime Average<br>Cooling Demand<br>[kW/1000m2]\",\n",
    "    use_raw=False,\n",
    ")\n",
    "fig = fig.update_layout(\n",
    "    legend=dict(\n",
    "        x=0.5,\n",
    "        y=-0.05,\n",
    "        xanchor=\"center\",\n",
    "        yanchor=\"top\",\n",
    "        orientation=\"h\",\n",
    "        font_size=viz.LEGEND_SZ + 2,\n",
    "    ),\n",
    ")"
   ]
  },
  {
   "cell_type": "code",
   "execution_count": null,
   "id": "57f4b203-4dd8-444c-a8b0-c7d1f51fb131",
   "metadata": {},
   "outputs": [],
   "source": [
    "# fig"
   ]
  },
  {
   "cell_type": "code",
   "execution_count": null,
   "id": "8aaf332e-733c-4459-a5cc-c2502b90c3f0",
   "metadata": {},
   "outputs": [],
   "source": [
    "fig = viz.plot_experiment_summary(\n",
    "    y_data=percent_deltas_cooling[\"78\"].to_frame(),\n",
    "    y_error_up_data=percent_deltas_high_cooling[\"78\"].to_frame(),\n",
    "    y_error_down_data=percent_deltas_low_cooling[\"78\"].to_frame(),\n",
    "    marker_legend={\"color\": {\"78\": \"Black\"}},\n",
    "    y_axis_title=\"Percent Change in<br>Cooling Demand [%]\",\n",
    "    point_start=(1 / 2),\n",
    "    offset_delta=(1 / 2),\n",
    "    tick_vals=[i + 0.5 for i in range(len(PROJECTS_2022))],\n",
    "    width=1200,\n",
    "    height=600,\n",
    "    x_range=[-0.25, len(PROJECTS_2022)],\n",
    "    y_range=[-70, 20],\n",
    "    marker_size=10,\n",
    "    error_thickness=2.5,\n",
    "    whisker_len=8,\n",
    "    dont_add_to_legend=[\"78\"],\n",
    "    text_size=SINGLE_PLOT_TXT_SIZE,\n",
    ")\n",
    "fig = add_vertical_boxes(\n",
    "    fig, list(range(len(PROJECTS_2022) + 1)), background_color=\"lightgray\"\n",
    ")\n",
    "fig = fig.update_layout(\n",
    "    legend=dict(\n",
    "        x=0.5,\n",
    "        y=-0.1,\n",
    "        xanchor=\"center\",\n",
    "        yanchor=\"top\",\n",
    "        orientation=\"h\",\n",
    "    )\n",
    ")"
   ]
  },
  {
   "cell_type": "code",
   "execution_count": null,
   "id": "17924c84-ca79-4f29-8153-24f981353316",
   "metadata": {},
   "outputs": [],
   "source": [
    "# fig"
   ]
  },
  {
   "cell_type": "code",
   "execution_count": null,
   "id": "fa86cd6a-9b47-422e-89e6-86e34cf1410d",
   "metadata": {},
   "outputs": [],
   "source": [
    "percent_deltas_cooling[\"78\"]"
   ]
  },
  {
   "cell_type": "code",
   "execution_count": null,
   "id": "3ff66653-769e-436f-b22d-b4df3e5dd5a7",
   "metadata": {},
   "outputs": [],
   "source": [
    "fig.write_image(f\"{IMAGE_PATH}/Figure4A.png\")"
   ]
  },
  {
   "cell_type": "code",
   "execution_count": null,
   "id": "cdfb5387-f835-4559-9ea7-c8c615912c43",
   "metadata": {},
   "outputs": [],
   "source": [
    "fig = viz.plot_experiment_summary(\n",
    "    y_data=percent_deltas_cooling[\"78\"].to_frame(),\n",
    "    y_error_up_data=percent_deltas_high_cooling[\"78\"].to_frame(),\n",
    "    y_error_down_data=percent_deltas_low_cooling[\"78\"].to_frame(),\n",
    "    marker_legend={\"color\": {\"78\": \"Black\"}},\n",
    "    y_axis_title=\"Percent Change in<br>Cooling Demand [%]\",\n",
    "    point_start=(1 / 2),\n",
    "    offset_delta=(1 / 2),\n",
    "    tick_vals=[i + 0.5 for i in range(len(PROJECTS_2022))],\n",
    "    width=1200,\n",
    "    height=600,\n",
    "    x_range=[-0.25, len(PROJECTS_2022)],\n",
    "    y_range=[-70, 20],\n",
    "    marker_size=14,\n",
    "    error_thickness=4,\n",
    "    whisker_len=8,\n",
    "    dont_add_to_legend=[\"78\"],\n",
    "    text_size=MULTI_PLOT_TXT_SIZE + 6,\n",
    ")\n",
    "fig = add_vertical_boxes(\n",
    "    fig, list(range(len(PROJECTS_2022) + 1)), background_color=\"lightgray\"\n",
    ")\n",
    "fig = fig.update_layout(\n",
    "    legend=dict(\n",
    "        x=0.5,\n",
    "        y=-0.1,\n",
    "        xanchor=\"center\",\n",
    "        yanchor=\"top\",\n",
    "        orientation=\"h\",\n",
    "    )\n",
    ")"
   ]
  },
  {
   "cell_type": "code",
   "execution_count": null,
   "id": "0890155c-0962-4c78-b904-b8a5651f2872",
   "metadata": {},
   "outputs": [],
   "source": [
    "fig.write_image(f\"{IMAGE_PATH}/GraphAbstractTopLeft.png\")"
   ]
  },
  {
   "cell_type": "code",
   "execution_count": null,
   "id": "c459218c-3a87-4904-94d3-373667c97981",
   "metadata": {},
   "outputs": [],
   "source": [
    "fig = viz.plot_experiment_summary(\n",
    "    y_data=absolute_deltas_cooling[\"78\"].to_frame(),\n",
    "    y_error_up_data=absolute_deltas_high_cooling[\"78\"].to_frame(),\n",
    "    y_error_down_data=absolute_deltas_low_cooling[\"78\"].to_frame(),\n",
    "    marker_legend={\"color\": {\"78\": \"Black\"}},\n",
    "    y_axis_title=\"Absolute Change in<br>Cooling Demand [kW/1000m2]\",\n",
    "    point_start=(1 / 2),\n",
    "    offset_delta=(1 / 2),\n",
    "    tick_vals=[i + 0.5 for i in range(len(PROJECTS_2022))],\n",
    "    width=1200,\n",
    "    height=600,\n",
    "    x_range=[-0.25, len(PROJECTS_2022)],\n",
    "    y_range=[-14, 2],\n",
    "    error_thickness=2.5,\n",
    "    whisker_len=8,\n",
    "    dont_add_to_legend=[\"78\"],\n",
    "    text_size=SINGLE_PLOT_TXT_SIZE,\n",
    "    legend_size=SINGLE_PLOT_LEGEND_SIZE,\n",
    ")\n",
    "fig = add_vertical_boxes(\n",
    "    fig, list(range(len(PROJECTS_2022) + 1)), background_color=\"lightgray\"\n",
    ")\n",
    "fig = fig.update_layout(\n",
    "    legend=dict(\n",
    "        x=0.5,\n",
    "        y=-0.1,\n",
    "        xanchor=\"center\",\n",
    "        yanchor=\"top\",\n",
    "        orientation=\"h\",\n",
    "    )\n",
    ")"
   ]
  },
  {
   "cell_type": "code",
   "execution_count": null,
   "id": "407c1823-dd71-4a13-9a04-254387635b7f",
   "metadata": {},
   "outputs": [],
   "source": [
    "# fig"
   ]
  },
  {
   "cell_type": "code",
   "execution_count": null,
   "id": "7471e466-21a4-458b-8a79-c495621d99cc",
   "metadata": {},
   "outputs": [],
   "source": [
    "# absolute_deltas_cooling[\"78\"]"
   ]
  },
  {
   "cell_type": "code",
   "execution_count": null,
   "id": "491d5f0f-ce0a-491e-bc95-f5af061bd6a8",
   "metadata": {},
   "outputs": [],
   "source": [
    "fig.write_image(f\"{IMAGE_PATH}/FigureA1.png\")"
   ]
  },
  {
   "cell_type": "markdown",
   "id": "cea3a7f9-1389-4980-b753-2c2d9540afb3",
   "metadata": {},
   "source": [
    "### Check regression"
   ]
  },
  {
   "cell_type": "code",
   "execution_count": null,
   "id": "333676b7-37b8-484d-9036-fd1f3dcc889b",
   "metadata": {},
   "outputs": [],
   "source": [
    "project = \"OFF-2\""
   ]
  },
  {
   "cell_type": "code",
   "execution_count": null,
   "id": "5d531709-17f4-4b42-a8ac-fda61937f063",
   "metadata": {},
   "outputs": [],
   "source": [
    "df = cooling[project]"
   ]
  },
  {
   "cell_type": "code",
   "execution_count": null,
   "id": "ff46c4fd-7d3d-4da1-aef0-967c2c8935f0",
   "metadata": {},
   "outputs": [],
   "source": [
    "binary_df = regression_functions.get_2021_2022_binary_df(\n",
    "    project=project,\n",
    "    experiment_year=\"2022\",\n",
    "    freq=\"daily\",\n",
    "    baseline_column=\"CSP = 74F\",\n",
    "    drop_baseline_column=True,\n",
    "    no_weekends=NO_WEEKENDS[project],\n",
    "    control_for_weekends=CONTROL_FOR_WEEKENDS[project],\n",
    ")\n",
    "\n",
    "reg_results = regression_functions.general_Delta_fn(\n",
    "    df=df,\n",
    "    T=T,\n",
    "    binary=binary_df,\n",
    "    mode=\"Absolute Change\",\n",
    "    summary_statistic=\"Mean\",\n",
    ")"
   ]
  },
  {
   "cell_type": "code",
   "execution_count": null,
   "id": "95ca61cf-169c-4df9-ac94-f51b4820fe39",
   "metadata": {},
   "outputs": [],
   "source": [
    "fig = viz.plot_experiment_regression(\n",
    "    experiment_results=reg_results,\n",
    "    df=df,\n",
    "    T=T,\n",
    "    binary=binary_df,\n",
    "    line_legend={\n",
    "        \"name\": {\n",
    "            \"Control\": \"CSP = 23.3°C\",\n",
    "            \"CSP = 76F\": \"CSP = 24.4°C\",\n",
    "            \"CSP = 78F\": \"CSP = 25.5°C\",\n",
    "        },\n",
    "        \"color\": {\n",
    "            \"Control\": \"RoyalBlue\",\n",
    "            \"CSP = 76F\": \"DarkOrange\",\n",
    "            \"CSP = 78F\": \"Firebrick\",\n",
    "        },\n",
    "    },\n",
    "    mode=\"Absolute Change\",\n",
    "    summary_statistic=\"Mean\",\n",
    "    line_width=2.5,\n",
    "    y_axis_title=\"Daytime Average<br>Cooling Demand (kW)\",\n",
    "    x_axis_title=\"Daytime Average OAT [°C]\",\n",
    "    height=550,\n",
    ")\n",
    "fig = fig.update_layout(\n",
    "    legend=dict(\n",
    "        x=0.5,\n",
    "        y=-0.225,\n",
    "        xanchor=\"center\",\n",
    "        yanchor=\"top\",\n",
    "        orientation=\"h\",\n",
    "    )\n",
    ")\n",
    "\n",
    "new_titles = [\"Building Level\"]\n",
    "for i, annotation in enumerate(fig.layout.annotations):\n",
    "    annotation.text = new_titles[i]"
   ]
  },
  {
   "cell_type": "code",
   "execution_count": null,
   "id": "76a00616-2708-4e8e-bc3d-10bd2ceea9c1",
   "metadata": {},
   "outputs": [],
   "source": [
    "# fig"
   ]
  },
  {
   "cell_type": "markdown",
   "id": "632712f1-4e26-451e-8590-4aaadc63da23",
   "metadata": {},
   "source": [
    "## MAT - SAT"
   ]
  },
  {
   "cell_type": "code",
   "execution_count": null,
   "id": "4b1a3f13-921c-44ea-8f8b-b48a9882ecc2",
   "metadata": {},
   "outputs": [],
   "source": [
    "dat = pull_from_dataset(\"2022\", PROJECTS_VAV, \"ahu-dat\")\n",
    "dat = cleaning.clean_dfs(\n",
    "    dfs=dat,\n",
    "    this_var=\"ahu-dat\",\n",
    "    start_date=SUMMER_START_2022,\n",
    "    end_date=SUMMER_END_2022,\n",
    "    only_business_hours=True,\n",
    "    no_weekends=NO_WEEKENDS,\n",
    "    SI_units=True,\n",
    ")\n",
    "mat = pull_from_dataset(\"2022\", PROJECTS_VAV, \"ahu-mat\")\n",
    "mat = cleaning.clean_dfs(\n",
    "    dfs=mat,\n",
    "    this_var=\"ahu-mat\",\n",
    "    start_date=SUMMER_START_2022,\n",
    "    end_date=SUMMER_END_2022,\n",
    "    only_business_hours=True,\n",
    "    no_weekends=NO_WEEKENDS,\n",
    "    SI_units=True,\n",
    ")\n",
    "mat_dat = {}\n",
    "for project in PROJECTS_VAV:\n",
    "    mat_dat[project] = mat[project] - dat[project]\n",
    "\n",
    "airflow = pull_from_dataset(\"2022\", PROJECTS_VAV, \"ahu-airflow\")\n",
    "airflow = cleaning.clean_dfs(\n",
    "    dfs=airflow,\n",
    "    this_var=\"ahu-airflow\",\n",
    "    start_date=SUMMER_START_2022,\n",
    "    end_date=SUMMER_END_2022,\n",
    "    only_business_hours=True,\n",
    "    no_weekends=NO_WEEKENDS,\n",
    "    SI_units=True,\n",
    ")\n",
    "mat = base.calculate_airflow_weighted_average(mat, airflow)\n",
    "dat = base.calculate_airflow_weighted_average(dat, airflow)\n",
    "mat_dat = base.calculate_airflow_weighted_average(mat_dat, airflow)"
   ]
  },
  {
   "cell_type": "code",
   "execution_count": null,
   "id": "834ebbcd-0b87-4ad7-b3d0-d62d04bf7279",
   "metadata": {},
   "outputs": [],
   "source": [
    "T = cleaning.clean_df(\n",
    "    df=load_weather(\"2022\")[\"temperature\"].to_frame(),\n",
    "    this_var=\"weather-oat\",\n",
    "    start_date=SUMMER_START_2022,\n",
    "    end_date=SUMMER_END_2022,\n",
    "    only_business_hours=True,\n",
    "    no_weekends=False,\n",
    "    SI_units=True,\n",
    ")[\"temperature\"]"
   ]
  },
  {
   "cell_type": "code",
   "execution_count": null,
   "id": "00b6c17d-2ce3-4044-aff7-94c36f98d4a7",
   "metadata": {},
   "outputs": [],
   "source": [
    "(\n",
    "    percent_deltas_mat_dat,\n",
    "    percent_deltas_high_mat_dat,\n",
    "    percent_deltas_low_mat_dat,\n",
    "    percent_summary,\n",
    "    fig,\n",
    ") = run_building_regressions(\n",
    "    mat_dat,\n",
    "    T,\n",
    "    mode=\"Percent Change\",\n",
    "    summary_statistic=\"Mean\",\n",
    "    y_axis_title=\"Average MAT - SAT [°C]\",\n",
    "    use_raw=False,\n",
    ")"
   ]
  },
  {
   "cell_type": "code",
   "execution_count": null,
   "id": "9253053d-be89-475c-8822-eb9584602aec",
   "metadata": {},
   "outputs": [],
   "source": [
    "percent_deltas_mat_dat"
   ]
  },
  {
   "cell_type": "code",
   "execution_count": null,
   "id": "3404dbc4-96f7-4ced-bbda-c3517ee1b52b",
   "metadata": {},
   "outputs": [],
   "source": [
    "fig = viz.plot_experiment_summary(\n",
    "    y_data=percent_deltas_mat_dat[\"78\"].to_frame(),\n",
    "    y_error_up_data=percent_deltas_high_mat_dat[\"78\"].to_frame(),\n",
    "    y_error_down_data=percent_deltas_high_mat_dat[\"78\"].to_frame(),\n",
    "    marker_legend={\"color\": {\"78\": \"Black\"}},\n",
    "    y_axis_title=\"Percent Change in (MAT - SAT) [%]\",\n",
    "    point_start=(1 / 2),\n",
    "    offset_delta=(1 / 2),\n",
    "    tick_vals=[i + 0.5 for i in range(len(PROJECTS_VAV))],\n",
    "    width=1200,\n",
    "    height=600,\n",
    "    x_range=[-0.25, len(PROJECTS_VAV)],\n",
    "    y_range=[-70, 20],\n",
    "    error_thickness=2.5,\n",
    "    whisker_len=8,\n",
    "    dont_add_to_legend=[\"78\"],\n",
    "    text_size=SINGLE_PLOT_TXT_SIZE,\n",
    "    legend_size=SINGLE_PLOT_LEGEND_SIZE,\n",
    ")\n",
    "fig = add_vertical_boxes(\n",
    "    fig, list(range(len(PROJECTS_VAV) + 1)), background_color=\"lightgray\"\n",
    ")\n",
    "fig = fig.update_layout(\n",
    "    legend=dict(\n",
    "        x=0.5,\n",
    "        y=-0.1,\n",
    "        xanchor=\"center\",\n",
    "        yanchor=\"top\",\n",
    "        orientation=\"h\",\n",
    "    )\n",
    ")"
   ]
  },
  {
   "cell_type": "code",
   "execution_count": null,
   "id": "0bf0d4a3-2aa6-4c51-a777-ca6669195c72",
   "metadata": {},
   "outputs": [],
   "source": [
    "# fig"
   ]
  },
  {
   "cell_type": "code",
   "execution_count": null,
   "id": "20bb7e04-d1c9-40cd-b1bd-9f683edb2469",
   "metadata": {},
   "outputs": [],
   "source": [
    "fig.write_image(f\"{IMAGE_PATH}/Figure6A.png\")"
   ]
  },
  {
   "cell_type": "code",
   "execution_count": null,
   "id": "45f56c6b-d11b-4659-9ee1-93792ec2474b",
   "metadata": {},
   "outputs": [],
   "source": [
    "(\n",
    "    absolute_deltas_mat_dat,\n",
    "    absolute_deltas_high_mat_dat,\n",
    "    absolute_deltas_low_mat_dat,\n",
    "    absolute_summary_mat_dat,\n",
    "    fig,\n",
    ") = run_building_regressions(\n",
    "    mat_dat,\n",
    "    T,\n",
    "    mode=\"Absolute Change\",\n",
    "    summary_statistic=\"Mean\",\n",
    "    y_axis_title=\"Average MAT - SAT [°C]\",\n",
    "    use_raw=False,\n",
    ")\n",
    "\n",
    "(\n",
    "    absolute_deltas_dat,\n",
    "    absolute_deltas_high_dat,\n",
    "    absolute_deltas_low_dat,\n",
    "    absolute_summary_dat,\n",
    "    fig,\n",
    ") = run_building_regressions(\n",
    "    dat,\n",
    "    T,\n",
    "    mode=\"Absolute Change\",\n",
    "    summary_statistic=\"Mean\",\n",
    "    y_axis_title=\"Average SAT [°C]\",\n",
    "    use_raw=False,\n",
    ")\n",
    "\n",
    "(\n",
    "    absolute_deltas_mat,\n",
    "    absolute_deltas_high_mat,\n",
    "    absolute_deltas_low_mat,\n",
    "    absolute_summary_mat,\n",
    "    fig,\n",
    ") = run_building_regressions(\n",
    "    mat,\n",
    "    T,\n",
    "    mode=\"Absolute Change\",\n",
    "    summary_statistic=\"Mean\",\n",
    "    y_axis_title=\"Average MAT [°C]\",\n",
    "    use_raw=False,\n",
    ")"
   ]
  },
  {
   "cell_type": "code",
   "execution_count": null,
   "id": "5c9a7cbd-8955-4fd2-9187-9e771db9f925",
   "metadata": {},
   "outputs": [],
   "source": [
    "deltas = pd.DataFrame(\n",
    "    index=absolute_deltas_mat_dat.index,\n",
    "    columns=[\"MAT - SAT\", \"SAT\", \"MAT\"],\n",
    ")\n",
    "deltas[\"MAT - SAT\"] = absolute_deltas_mat_dat[\"78\"]\n",
    "deltas[\"SAT\"] = absolute_deltas_dat[\"78\"]\n",
    "deltas[\"MAT\"] = absolute_deltas_mat[\"78\"]\n",
    "\n",
    "deltas_high = pd.DataFrame(\n",
    "    index=absolute_deltas_mat_dat.index,\n",
    "    columns=[\"MAT - SAT\", \"SAT\", \"MAT\"],\n",
    ")\n",
    "deltas_high[\"MAT - SAT\"] = absolute_deltas_high_mat_dat[\"78\"]\n",
    "deltas_high[\"SAT\"] = absolute_deltas_high_dat[\"78\"]\n",
    "deltas_high[\"MAT\"] = absolute_deltas_high_mat[\"78\"]\n",
    "\n",
    "deltas_low = pd.DataFrame(\n",
    "    index=absolute_deltas_mat_dat.index,\n",
    "    columns=[\"MAT - SAT\", \"SAT\", \"MAT\"],\n",
    ")\n",
    "deltas_low[\"MAT - SAT\"] = absolute_deltas_low_mat_dat[\"78\"]\n",
    "deltas_low[\"SAT\"] = absolute_deltas_low_dat[\"78\"]\n",
    "deltas_low[\"MAT\"] = absolute_deltas_low_mat[\"78\"]"
   ]
  },
  {
   "cell_type": "code",
   "execution_count": null,
   "id": "07a7ac42-cdae-41a1-8bee-21f596169fe6",
   "metadata": {},
   "outputs": [],
   "source": [
    "fig = viz.plot_experiment_summary(\n",
    "    y_data=deltas,\n",
    "    y_error_up_data=deltas_high,\n",
    "    y_error_down_data=deltas_low,\n",
    "    marker_legend={\n",
    "        \"color\": {\n",
    "            \"MAT - SAT\": \"Black\",\n",
    "            \"SAT\": \"Coral\",\n",
    "            \"MAT\": \"Orchid\",\n",
    "        }\n",
    "    },\n",
    "    y_axis_title=\"Absolute Change in<br>Temperature [°C]\",\n",
    "    point_start=(1 / 4),\n",
    "    offset_delta=(1 / 4),\n",
    "    tick_vals=[i + 0.5 for i in range(len(PROJECTS_VAV))],\n",
    "    width=1200,\n",
    "    height=600,\n",
    "    x_range=[-0.25, len(PROJECTS_VAV)],\n",
    "    y_range=[-6, 6],\n",
    "    error_thickness=2.5,\n",
    "    whisker_len=8,\n",
    "    text_size=SINGLE_PLOT_TXT_SIZE,\n",
    "    legend_size=SINGLE_PLOT_LEGEND_SIZE,\n",
    ")\n",
    "fig = add_vertical_boxes(\n",
    "    fig, list(range(len(PROJECTS_VAV) + 1)), background_color=\"lightgray\"\n",
    ")\n",
    "fig = fig.update_layout(\n",
    "    legend=dict(\n",
    "        x=0.5,\n",
    "        y=-0.1,\n",
    "        xanchor=\"center\",\n",
    "        yanchor=\"top\",\n",
    "        orientation=\"h\",\n",
    "    )\n",
    ")"
   ]
  },
  {
   "cell_type": "code",
   "execution_count": null,
   "id": "482a6657-c543-48e9-b25d-ff4cf73438a6",
   "metadata": {},
   "outputs": [],
   "source": [
    "deltas"
   ]
  },
  {
   "cell_type": "code",
   "execution_count": null,
   "id": "21949a1b-d7b0-458f-bed9-5a4eb0ce4179",
   "metadata": {},
   "outputs": [],
   "source": [
    "# fig"
   ]
  },
  {
   "cell_type": "code",
   "execution_count": null,
   "id": "b13a5043-b362-47b7-9faa-188f00084dc8",
   "metadata": {},
   "outputs": [],
   "source": [
    "fig.write_image(f\"{IMAGE_PATH}/FigureA4.png\")"
   ]
  },
  {
   "cell_type": "markdown",
   "id": "3dfc7099-707a-4e85-8b95-732634138324",
   "metadata": {},
   "source": [
    "### Check regression\n"
   ]
  },
  {
   "cell_type": "code",
   "execution_count": null,
   "id": "3b4bb96a-846c-4fa4-b5c7-7e50c01fcc12",
   "metadata": {},
   "outputs": [],
   "source": [
    "project = \"OFF-2\""
   ]
  },
  {
   "cell_type": "code",
   "execution_count": null,
   "id": "683a4425-210c-4ca5-a86c-e664eae41fd0",
   "metadata": {},
   "outputs": [],
   "source": [
    "df = mat_dat[project]"
   ]
  },
  {
   "cell_type": "code",
   "execution_count": null,
   "id": "c9b521dd-93cf-4177-a244-62005da41942",
   "metadata": {},
   "outputs": [],
   "source": [
    "binary_df = regression_functions.get_2021_2022_binary_df(\n",
    "    project=project,\n",
    "    experiment_year=\"2022\",\n",
    "    freq=\"daily\",\n",
    "    baseline_column=\"CSP = 74F\",\n",
    "    drop_baseline_column=True,\n",
    "    no_weekends=NO_WEEKENDS[project],\n",
    "    control_for_weekends=CONTROL_FOR_WEEKENDS[project],\n",
    ")\n",
    "\n",
    "reg_results = regression_functions.general_Delta_fn(\n",
    "    df=df,\n",
    "    T=T,\n",
    "    binary=binary_df,\n",
    "    mode=\"Absolute Change\",\n",
    "    summary_statistic=\"Mean\",\n",
    ")"
   ]
  },
  {
   "cell_type": "code",
   "execution_count": null,
   "id": "3b6fdc0f-690e-42ca-a9ec-7b515a5d087b",
   "metadata": {},
   "outputs": [],
   "source": [
    "fig = viz.plot_experiment_regression(\n",
    "    experiment_results=reg_results,\n",
    "    df=df,\n",
    "    T=T,\n",
    "    binary=binary_df,\n",
    "    line_legend={\n",
    "        \"name\": {\n",
    "            \"Control\": \"CSP = 23.3°C\",\n",
    "            \"CSP = 76F\": \"CSP = 24.4°C\",\n",
    "            \"CSP = 78F\": \"CSP = 25.5°C\",\n",
    "        },\n",
    "        \"color\": {\n",
    "            \"Control\": \"RoyalBlue\",\n",
    "            \"CSP = 76F\": \"DarkOrange\",\n",
    "            \"CSP = 78F\": \"Firebrick\",\n",
    "        },\n",
    "    },\n",
    "    mode=\"Absolute Change\",\n",
    "    summary_statistic=\"Mean\",\n",
    "    line_width=2.5,\n",
    "    y_axis_title=\"Daytime Average<br>(MAT - SAT) [°C]\",\n",
    "    x_axis_title=\"Daytime Average OAT [°C]\",\n",
    "    height=550,\n",
    ")\n",
    "fig = fig.update_layout(\n",
    "    legend=dict(\n",
    "        x=0.5,\n",
    "        y=-0.225,\n",
    "        xanchor=\"center\",\n",
    "        yanchor=\"top\",\n",
    "        orientation=\"h\",\n",
    "    )\n",
    ")\n",
    "\n",
    "new_titles = [\"AHU Level\"]\n",
    "for i, annotation in enumerate(fig.layout.annotations):\n",
    "    annotation.text = new_titles[i]"
   ]
  },
  {
   "cell_type": "code",
   "execution_count": null,
   "id": "a24ef3b2-8e1c-4387-81f7-ac8a29cdd4a8",
   "metadata": {},
   "outputs": [],
   "source": [
    "# fig"
   ]
  },
  {
   "cell_type": "markdown",
   "id": "393d744f-bbd6-416e-8edd-760c5900c91a",
   "metadata": {},
   "source": [
    "## Airflow "
   ]
  },
  {
   "cell_type": "code",
   "execution_count": null,
   "id": "3ea51bc2-ccc7-4734-95ff-0fb6891b06e9",
   "metadata": {},
   "outputs": [],
   "source": [
    "airflow = pull_from_dataset(\"2022\", PROJECTS_VAV, \"zone-airflowsp\")\n",
    "airflow = cleaning.clean_dfs(\n",
    "    dfs=airflow,\n",
    "    this_var=\"zone-airflowsp\",\n",
    "    start_date=SUMMER_START_2022,\n",
    "    end_date=SUMMER_END_2022,\n",
    "    only_business_hours=True,\n",
    "    no_weekends=NO_WEEKENDS,\n",
    "    SI_units=True,\n",
    ")\n",
    "for project in PROJECTS_VAV:\n",
    "    airflow[project] = airflow[project].sum(axis=1).to_frame()\n",
    "    airflow[project].columns = [project]"
   ]
  },
  {
   "cell_type": "code",
   "execution_count": null,
   "id": "fec66021-b4dd-4732-8355-1929e827aa08",
   "metadata": {},
   "outputs": [],
   "source": [
    "T = cleaning.clean_df(\n",
    "    df=load_weather(\"2022\")[\"temperature\"].to_frame(),\n",
    "    this_var=\"weather-oat\",\n",
    "    start_date=SUMMER_START_2022,\n",
    "    end_date=SUMMER_END_2022,\n",
    "    only_business_hours=True,\n",
    "    no_weekends=False,\n",
    "    SI_units=True,\n",
    ")[\"temperature\"]"
   ]
  },
  {
   "cell_type": "code",
   "execution_count": null,
   "id": "caef8831-1d3c-4bcd-bfdd-57efd2e9d7c3",
   "metadata": {},
   "outputs": [],
   "source": [
    "(\n",
    "    percent_deltas_airflow,\n",
    "    percent_deltas_high_airflow,\n",
    "    percent_deltas_low_airflow,\n",
    "    percent_airflow,\n",
    "    fig,\n",
    ") = run_building_regressions(\n",
    "    airflow,\n",
    "    T,\n",
    "    mode=\"Percent Change\",\n",
    "    summary_statistic=\"Mean\",\n",
    "    y_axis_title=\"Average Airflow (m3/hr)\",\n",
    "    use_raw=False,\n",
    ")"
   ]
  },
  {
   "cell_type": "code",
   "execution_count": null,
   "id": "94b4fb9a-9b7c-44e2-96ef-91f43568f1cd",
   "metadata": {},
   "outputs": [],
   "source": [
    "# fig"
   ]
  },
  {
   "cell_type": "code",
   "execution_count": null,
   "id": "81548716-05e0-4e1c-8228-cf1d285b3789",
   "metadata": {},
   "outputs": [],
   "source": [
    "percent_deltas_airflow[\"78\"]"
   ]
  },
  {
   "cell_type": "code",
   "execution_count": null,
   "id": "00514c08-9841-4382-ac2b-4ab8f5e64b12",
   "metadata": {},
   "outputs": [],
   "source": [
    "fig = viz.plot_experiment_summary(\n",
    "    y_data=percent_deltas_airflow[\"78\"].to_frame(),\n",
    "    y_error_up_data=percent_deltas_high_airflow[\"78\"].to_frame(),\n",
    "    y_error_down_data=percent_deltas_low_airflow[\"78\"].to_frame(),\n",
    "    y_axis_title=\"Percent Change in Airflow [%]\",\n",
    "    marker_legend={\"color\": {\"78\": \"Black\"}},\n",
    "    point_start=(1 / 2),\n",
    "    offset_delta=(1 / 2),\n",
    "    tick_vals=[i + 0.5 for i in range(len(PROJECTS_VAV))],\n",
    "    width=1200,\n",
    "    height=600,\n",
    "    x_range=[-0.25, len(PROJECTS_VAV)],\n",
    "    y_range=[-70, 20],\n",
    "    error_thickness=2.5,\n",
    "    whisker_len=8,\n",
    "    dont_add_to_legend=[\"78\"],\n",
    "    text_size=SINGLE_PLOT_TXT_SIZE,\n",
    "    legend_size=SINGLE_PLOT_LEGEND_SIZE,\n",
    ")\n",
    "fig = add_vertical_boxes(\n",
    "    fig, list(range(len(PROJECTS_VAV) + 1)), background_color=\"lightgray\"\n",
    ")\n",
    "fig = fig.update_layout(\n",
    "    legend=dict(\n",
    "        x=0.5,\n",
    "        y=-0.1,\n",
    "        xanchor=\"center\",\n",
    "        yanchor=\"top\",\n",
    "        orientation=\"h\",\n",
    "    )\n",
    ")"
   ]
  },
  {
   "cell_type": "code",
   "execution_count": null,
   "id": "695b91d6-662d-49d5-9d83-449059242912",
   "metadata": {},
   "outputs": [],
   "source": [
    "# fig"
   ]
  },
  {
   "cell_type": "code",
   "execution_count": null,
   "id": "6c9cc5b6-3329-43d2-8322-699431cba9cc",
   "metadata": {},
   "outputs": [],
   "source": [
    "fig.write_image(f\"{IMAGE_PATH}/Figure5A.png\")"
   ]
  },
  {
   "cell_type": "markdown",
   "id": "f512cdf0-2f46-4e9d-ab68-9db844294d85",
   "metadata": {},
   "source": [
    "## Cooling, MAT - SAT, Airflow correlation"
   ]
  },
  {
   "cell_type": "code",
   "execution_count": null,
   "id": "fb6015c9-8fee-43b5-bc00-52da470ba325",
   "metadata": {},
   "outputs": [],
   "source": [
    "corr = float(\n",
    "    percent_deltas_cooling.loc[PROJECTS_VAV, \"78\"].corr(\n",
    "        percent_deltas_mat_dat.loc[PROJECTS_VAV, \"78\"]\n",
    "        + percent_deltas_airflow.loc[PROJECTS_VAV, \"78\"]\n",
    "    )\n",
    ")"
   ]
  },
  {
   "cell_type": "code",
   "execution_count": null,
   "id": "1b3def00-a1f5-46f1-bb37-07af3dd8728d",
   "metadata": {},
   "outputs": [],
   "source": [
    "fig = viz.make_scatter_plot(\n",
    "    y_data=-percent_deltas_cooling.loc[PROJECTS_VAV, \"78\"].to_frame(),\n",
    "    x_data=-(\n",
    "        percent_deltas_mat_dat.loc[PROJECTS_VAV, \"78\"]\n",
    "        + percent_deltas_airflow.loc[PROJECTS_VAV, \"78\"]\n",
    "    ).to_frame(),\n",
    "    y_axis_title=\"Percent Reduction<br>in Cooling [%]\",\n",
    "    x_axis_title=\"Percent Reduction in (MAT - SAT) [%] +<br>Percent Reduction in Airflow [%]\",\n",
    "    y_range=[-10, 70],\n",
    "    x_range=[0, 100],\n",
    "    text_size=SINGLE_PLOT_TXT_SIZE,\n",
    "    legend_size=SINGLE_PLOT_LEGEND_SIZE\n",
    "    # height=550,\n",
    "    # width=850\n",
    ")\n",
    "fig = fig.add_annotation(\n",
    "    text=f\"Correlation Coefficient = {corr:.2f}\",\n",
    "    xref=\"x1\",\n",
    "    yref=\"y1\",\n",
    "    x=5,\n",
    "    y=60,\n",
    "    showarrow=False,\n",
    "    xanchor=\"left\",\n",
    "    yanchor=\"top\",\n",
    "    font=dict(size=SINGLE_PLOT_ANNOTATION_SIZE, color=\"black\"),\n",
    ")"
   ]
  },
  {
   "cell_type": "code",
   "execution_count": null,
   "id": "4f532d40-4c45-45b0-9a9c-705fcfc1e155",
   "metadata": {},
   "outputs": [],
   "source": [
    "# fig"
   ]
  },
  {
   "cell_type": "code",
   "execution_count": null,
   "id": "a10e30c7-a746-4f12-88dd-c3aa53afde70",
   "metadata": {},
   "outputs": [],
   "source": [
    "fig.write_image(f\"{IMAGE_PATH}/Figure11B.png\")"
   ]
  },
  {
   "cell_type": "markdown",
   "id": "3cb92984-1d24-4867-826c-9d9abee029d5",
   "metadata": {},
   "source": [
    "## Cooling, gini correlation"
   ]
  },
  {
   "cell_type": "code",
   "execution_count": null,
   "id": "f9b14401-d868-4b71-8fa5-b8447b05069a",
   "metadata": {},
   "outputs": [],
   "source": [
    "dfs = pull_from_dataset(\n",
    "    \"2022\",\n",
    "    PROJECTS_2022,\n",
    "    \"zone-simple_cooling_requests\",\n",
    "    clean_data=True,\n",
    ")\n",
    "\n",
    "zonal_schedules = {}\n",
    "for project in PROJECTS_2022:\n",
    "    zonal_schedules[project] = regression_functions.get_zonal_sp_schedule(\n",
    "        project, experiment_year=\"2022\", freq=\"hourly\", df=dfs[project]\n",
    "    )\n",
    "\n",
    "df_filter = cleaning.create_sp_filter(zonal_schedules, sps=[74], reverse_filter=False)\n",
    "\n",
    "dfs_control = cleaning.clean_dfs(\n",
    "    dfs=dfs,\n",
    "    this_var=\"zone-dummy\",\n",
    "    start_date=SUMMER_START_2022,\n",
    "    end_date=SUMMER_END_2022,\n",
    "    only_business_hours=True,\n",
    "    no_weekends=True,\n",
    "    df_filter=df_filter,\n",
    ")\n",
    "\n",
    "dfs_control_mean = base.run_passive_test_on_dfs(\n",
    "    dfs=dfs_control, this_test=\"Mean\", col_name=\"Mean\"\n",
    ")"
   ]
  },
  {
   "cell_type": "code",
   "execution_count": null,
   "id": "8cb10a0b-feb3-43fb-9e7d-20b34bb72778",
   "metadata": {},
   "outputs": [],
   "source": [
    "gini_ser = pd.Series(index=PROJECTS_2022)\n",
    "for project in PROJECTS_2022:\n",
    "    gini_ser[project] = gini(dfs_control_mean[project].iloc[:, 0].dropna())"
   ]
  },
  {
   "cell_type": "code",
   "execution_count": null,
   "id": "d7196321-addd-4d73-843c-ff1c7d8b863c",
   "metadata": {},
   "outputs": [],
   "source": [
    "fig = viz.make_scatter_plot(\n",
    "    y_data=-percent_deltas_cooling[\"78\"].to_frame(),\n",
    "    x_data=gini_ser.to_frame(),\n",
    "    y_axis_title=\"Percent Reduction<br>in Cooling [%]\",\n",
    "    x_axis_title=\"Gini Coefficient [Unitless]<br>       \",\n",
    "    y_range=[-10, 70],\n",
    "    x_range=[0, 1],\n",
    "    text_size=SINGLE_PLOT_TXT_SIZE,\n",
    "    legend_size=SINGLE_PLOT_LEGEND_SIZE,\n",
    ")\n",
    "\n",
    "fig = fig.add_annotation(\n",
    "    text=f\"Correlation Coefficient = {gini_ser.corr(-percent_deltas_cooling['78']):.2f}\",\n",
    "    xref=\"x1\",\n",
    "    yref=\"y1\",\n",
    "    x=0.05,\n",
    "    y=60,\n",
    "    showarrow=False,\n",
    "    xanchor=\"left\",\n",
    "    yanchor=\"top\",\n",
    "    font=dict(size=SINGLE_PLOT_ANNOTATION_SIZE, color=\"black\"),\n",
    ")"
   ]
  },
  {
   "cell_type": "code",
   "execution_count": null,
   "id": "a0233226-606c-4936-aa87-0e02e023d50f",
   "metadata": {},
   "outputs": [],
   "source": [
    "# fig"
   ]
  },
  {
   "cell_type": "code",
   "execution_count": null,
   "id": "99012b56-2977-4a80-ae62-9e864d9fc80c",
   "metadata": {},
   "outputs": [],
   "source": [
    "fig.write_image(f\"{IMAGE_PATH}/Figure11A.png\")"
   ]
  },
  {
   "cell_type": "code",
   "execution_count": null,
   "id": "efb2206e-2bd0-4f17-9eb1-8c5494cb3697",
   "metadata": {},
   "outputs": [],
   "source": []
  }
 ],
 "metadata": {
  "kernelspec": {
   "display_name": "experiments_2022",
   "language": "python",
   "name": "experiments_2022"
  },
  "language_info": {
   "codemirror_mode": {
    "name": "ipython",
    "version": 3
   },
   "file_extension": ".py",
   "mimetype": "text/x-python",
   "name": "python",
   "nbconvert_exporter": "python",
   "pygments_lexer": "ipython3",
   "version": "3.9.21"
  }
 },
 "nbformat": 4,
 "nbformat_minor": 5
}
