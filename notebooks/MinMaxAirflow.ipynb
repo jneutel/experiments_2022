{
 "cells": [
  {
   "cell_type": "code",
   "execution_count": null,
   "id": "7d474112-b6de-4612-8406-92e208a56d1d",
   "metadata": {},
   "outputs": [],
   "source": [
    "import copy\n",
    "import math\n",
    "import numpy as np\n",
    "import pandas as pd\n",
    "from pathlib import Path\n",
    "\n",
    "from experiments_2022 import DATASETS_PATH\n",
    "from experiments_2022.zone_level_analysis import cleaning, base\n",
    "from experiments_2022.zone_level_analysis.regression_functions import (\n",
    "    general_regression_fn,\n",
    ")\n",
    "from experiments_2022.datasets import load_zones"
   ]
  },
  {
   "cell_type": "code",
   "execution_count": null,
   "id": "927a1640-251d-430b-bd77-3c4b29343b6d",
   "metadata": {},
   "outputs": [],
   "source": [
    "pd.set_option(\"display.max_rows\", 10000)"
   ]
  },
  {
   "cell_type": "code",
   "execution_count": null,
   "id": "ee0b6327-e8cc-4076-84cc-4e4b286a7446",
   "metadata": {},
   "outputs": [],
   "source": [
    "projects = copy.deepcopy(base.VAV_BUILDINGS)\n",
    "projects.append(\"LAB-2\")"
   ]
  },
  {
   "cell_type": "code",
   "execution_count": null,
   "id": "f608bdb3-64c0-4041-9c4e-30a9c2f850e5",
   "metadata": {},
   "outputs": [],
   "source": [
    "results = pd.DataFrame(\n",
    "    index=list(range(10000)),\n",
    "    columns=[\"Building\", \"VAV\", \"Minimum Airflow (cfm)\", \"Maximum Airflow (cfm)\"],\n",
    ")\n",
    "\n",
    "i = 0\n",
    "for project in projects:\n",
    "    tloads_all = cleaning.clean_df(\n",
    "        load_zones(\"2023\", project, \"zone-tloads\"),\n",
    "        \"zone-tloads\",\n",
    "        only_business_hours=True,\n",
    "        no_weekends=True,\n",
    "    )\n",
    "    airflowsp_all = cleaning.clean_df(\n",
    "        load_zones(\"2023\", project, \"zone-airflowsp\"),\n",
    "        \"zone-airflowsp\",\n",
    "        only_business_hours=True,\n",
    "        no_weekends=True,\n",
    "    )\n",
    "\n",
    "    # common elems\n",
    "    cols = tloads_all.columns.intersection(airflowsp_all.columns)\n",
    "    idx = tloads_all.index.intersection(airflowsp_all.index)\n",
    "    tloads_all = tloads_all.loc[idx, cols]\n",
    "    airflowsp_all = airflowsp_all.loc[idx, cols]\n",
    "\n",
    "    # for min, first try find times when tload = 0\n",
    "    min = pd.Series(np.nan, index=cols)\n",
    "    for vav in min.index:\n",
    "        tload_vav = tloads_all[vav]\n",
    "        idx = tload_vav[tload_vav == 0].index\n",
    "        if len(idx) > 0:\n",
    "            this_min = airflowsp_all.loc[idx, vav].median()\n",
    "            if this_min > 0:\n",
    "                min[vav] = this_min\n",
    "    # for max, first try to find times when tload = 100\n",
    "    max = pd.Series(np.nan, index=cols)\n",
    "    for vav in max.index:\n",
    "        tload_vav = tloads_all[vav]\n",
    "        idx = tload_vav[tload_vav == 100].index\n",
    "        if len(idx) > 0:\n",
    "            this_max = airflowsp_all.loc[idx, vav].median()\n",
    "            if this_max > 0 and this_max > min[vav]:\n",
    "                max[vav] = this_max\n",
    "    # next, try to use regression to find min and max\n",
    "    mask = tloads_all > 0\n",
    "    tloads_reg = tloads_all[mask]\n",
    "    airflowsp_reg = airflowsp_all[mask]\n",
    "    all_results = general_regression_fn(tloads_reg, airflowsp_reg)\n",
    "    min_reg = -all_results[\"Slope Intercept\"] / all_results[\"Slope X\"]\n",
    "    max_reg = (100 + all_results[\"Slope X\"] * min) / all_results[\"Slope X\"]\n",
    "    for vav in min.index:\n",
    "        if (np.isnan(min[vav])) and (min_reg[vav] > 0):\n",
    "            min[vav] = min_reg[vav]\n",
    "        if np.isnan(max[vav]) and (max_reg[vav] > 0) and (max_reg[vav] > min_reg[vav]):\n",
    "            max[vav] = max_reg[vav]\n",
    "    results.loc[i : i + len(min) - 1, \"Building\"] = project\n",
    "    results.loc[i : i + len(min) - 1, \"VAV\"] = list(min.index)\n",
    "    results.loc[i : i + len(min) - 1, \"Minimum Airflow (cfm)\"] = list(min.values)\n",
    "    results.loc[i : i + len(min) - 1, \"Maximum Airflow (cfm)\"] = list(max.values)\n",
    "    i = i + len(min) - 1\n",
    "results = results.dropna(how=\"all\")"
   ]
  },
  {
   "cell_type": "code",
   "execution_count": null,
   "id": "3cad7369-45b3-4ac3-8717-abb2bfdf5d1d",
   "metadata": {},
   "outputs": [],
   "source": [
    "# results"
   ]
  },
  {
   "cell_type": "code",
   "execution_count": null,
   "id": "1b2b4a71-d2b2-43d3-9385-591b41ba8831",
   "metadata": {},
   "outputs": [],
   "source": [
    "# len(results[\"Minimum Airflow (cfm)\"][results[\"Minimum Airflow (cfm)\"].isna()]) / len(results[\"Minimum Airflow (cfm)\"])"
   ]
  },
  {
   "cell_type": "code",
   "execution_count": null,
   "id": "e4c40e4b-749d-4519-8388-feeb9e348eb6",
   "metadata": {},
   "outputs": [],
   "source": [
    "# len(results[\"Maximum Airflow (cfm)\"][results[\"Maximum Airflow (cfm)\"].isna()]) / len(results[\"Maximum Airflow (cfm)\"])"
   ]
  },
  {
   "cell_type": "code",
   "execution_count": null,
   "id": "e166917a-bc0b-41e6-b5f4-96b80a0849f7",
   "metadata": {},
   "outputs": [],
   "source": [
    "# results.to_csv(DATASETS_PATH / \"csvs\" / \"min_airflow_2023.csv\")"
   ]
  },
  {
   "cell_type": "code",
   "execution_count": null,
   "id": "299d9251-4bf8-4323-b8b6-342162e07945",
   "metadata": {},
   "outputs": [],
   "source": []
  }
 ],
 "metadata": {
  "kernelspec": {
   "display_name": "Python 3 (ipykernel)",
   "language": "python",
   "name": "python3"
  },
  "language_info": {
   "codemirror_mode": {
    "name": "ipython",
    "version": 3
   },
   "file_extension": ".py",
   "mimetype": "text/x-python",
   "name": "python",
   "nbconvert_exporter": "python",
   "pygments_lexer": "ipython3",
   "version": "3.9.21"
  }
 },
 "nbformat": 4,
 "nbformat_minor": 5
}
