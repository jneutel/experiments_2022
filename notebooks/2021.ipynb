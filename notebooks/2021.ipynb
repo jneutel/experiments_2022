{
 "cells": [
  {
   "cell_type": "code",
   "execution_count": null,
   "id": "d7f0cf7e-f3cd-4b89-9afb-9dcdc78b9bac",
   "metadata": {},
   "outputs": [],
   "source": [
    "# math\n",
    "import numpy as np\n",
    "import pandas as pd\n",
    "\n",
    "from experiments_2022 import IMAGE_PATH\n",
    "from experiments_2022.zone_level_analysis import (\n",
    "    base,\n",
    "    cleaning,\n",
    "    viz,\n",
    "    regression_functions,\n",
    "    clustering,\n",
    ")\n",
    "from experiments_2022.datasets import (\n",
    "    load_weather,\n",
    "    load_building,\n",
    "    pull_from_dataset,\n",
    ")\n",
    "\n",
    "from utils import (\n",
    "    PROJECTS_2021,\n",
    "    PROJECTS_2022,\n",
    "    NO_WEEKENDS,\n",
    "    SUMMER_START_2022,\n",
    "    SUMMER_END_2022,\n",
    "    REACTIVE_THRESH,\n",
    "    SINGLE_PLOT_LEGEND_SIZE,\n",
    "    SINGLE_PLOT_TXT_SIZE,\n",
    "    RESPONSE_COLORS,\n",
    "    run_building_regressions,\n",
    "    run_equip_regressions,\n",
    "    add_vertical_boxes,\n",
    ")"
   ]
  },
  {
   "cell_type": "code",
   "execution_count": null,
   "id": "098f9c6f-5cc6-4ffc-b481-b755a7154ba7",
   "metadata": {},
   "outputs": [],
   "source": [
    "REACTIVE_ZONES = {}\n",
    "for project in PROJECTS_2022:\n",
    "    rzs = pd.read_csv(f\"./dicts_dfs/reactive/{project}.csv\").set_index(\"Unnamed: 0\")\n",
    "    rzs.index.name = None\n",
    "    REACTIVE_ZONES[project] = rzs"
   ]
  },
  {
   "cell_type": "markdown",
   "id": "dd5b15d6-a51b-4adb-953c-ed4846dfb4bc",
   "metadata": {},
   "source": [
    "# Change in cooling"
   ]
  },
  {
   "cell_type": "code",
   "execution_count": null,
   "id": "0a51305c-fe6e-463d-9e51-909c386f6137",
   "metadata": {},
   "outputs": [],
   "source": [
    "T_2022 = cleaning.clean_df(\n",
    "    df=load_weather(\"2022\")[\"temperature\"].to_frame(),\n",
    "    this_var=\"weather-oat\",\n",
    "    start_date=SUMMER_START_2022,\n",
    "    end_date=SUMMER_END_2022,\n",
    "    only_business_hours=True,\n",
    "    no_weekends=False,\n",
    "    SI_units=True,\n",
    ")[\"temperature\"]"
   ]
  },
  {
   "cell_type": "code",
   "execution_count": null,
   "id": "315db066-8491-47ba-9ff6-5f87d22646b1",
   "metadata": {},
   "outputs": [],
   "source": [
    "T_2021 = cleaning.clean_df(\n",
    "    df=load_weather(\"2021\")[\"temperature\"].to_frame(),\n",
    "    this_var=\"weather-oat\",\n",
    "    start_date=pd.Timestamp(\"05-01-2021\"),\n",
    "    end_date=pd.Timestamp(\"10-01-2021\"),\n",
    "    only_business_hours=True,\n",
    "    no_weekends=False,\n",
    "    SI_units=True,\n",
    ")[\"temperature\"]"
   ]
  },
  {
   "cell_type": "code",
   "execution_count": null,
   "id": "90692c53-fd12-4e30-a5dd-7541b74f11f5",
   "metadata": {},
   "outputs": [],
   "source": [
    "# fig"
   ]
  },
  {
   "cell_type": "code",
   "execution_count": null,
   "id": "3fdedd23-d1c1-48f2-bd5b-bcdbf004bcb2",
   "metadata": {},
   "outputs": [],
   "source": [
    "cooling_df_2022 = cleaning.clean_by_column(\n",
    "    df=load_building(\"2022\", \"C\") * base.MW_PER_TON * 1000,  # kWh\n",
    "    only_business_hours=True,\n",
    "    no_weekends=NO_WEEKENDS,\n",
    ")\n",
    "\n",
    "cooling_df_2022 = cleaning.clean_df(\n",
    "    df=cooling_df_2022[PROJECTS_2022],\n",
    "    this_var=\"building-cooling\",\n",
    "    start_date=SUMMER_START_2022,\n",
    "    end_date=SUMMER_END_2022,\n",
    "    only_business_hours=True,\n",
    "    no_weekends=False,\n",
    ")\n",
    "cooling_2022 = {}\n",
    "for project in PROJECTS_2022:\n",
    "    cooling_2022[project] = cooling_df_2022[project].to_frame()\n",
    "    for day in [\"06-23-2022\"]:\n",
    "        cooling_2022[project].loc[day, :] = np.nan"
   ]
  },
  {
   "cell_type": "code",
   "execution_count": null,
   "id": "3f209674-21c3-40a7-ba0d-1b726cc1160f",
   "metadata": {},
   "outputs": [],
   "source": [
    "fig = viz.make_time_series(\n",
    "    load_building(\"2022\", \"C\").loc[SUMMER_START_2022:SUMMER_END_2022, :],\n",
    "    y_axis_title=\"Cooling (tons)\",\n",
    ")"
   ]
  },
  {
   "cell_type": "code",
   "execution_count": null,
   "id": "fb4a5df7-4a03-460e-b6c8-1e9ec24b9d2a",
   "metadata": {},
   "outputs": [],
   "source": [
    "fig = viz.make_time_series(cooling_df_2022, y_axis_title=\"Cooling (kWh)\")"
   ]
  },
  {
   "cell_type": "code",
   "execution_count": null,
   "id": "3065d117-82c6-44cb-8f47-f99da677ecbb",
   "metadata": {},
   "outputs": [],
   "source": [
    "# fig"
   ]
  },
  {
   "cell_type": "code",
   "execution_count": null,
   "id": "96ba34d6-1002-4308-a4b2-e5d75b16193e",
   "metadata": {},
   "outputs": [],
   "source": [
    "cooling_df_2021 = cleaning.clean_by_column(\n",
    "    df=load_building(\"2021\", \"C\")[PROJECTS_2022] * base.MW_PER_TON * 1000,  # kWh\n",
    "    only_business_hours=True,\n",
    "    no_weekends=NO_WEEKENDS,\n",
    ")\n",
    "cooling_df_2021 = cleaning.clean_df(\n",
    "    df=cooling_df_2021,\n",
    "    this_var=\"building-cooling\",\n",
    "    start_date=pd.Timestamp(\"05-01-2021\"),\n",
    "    end_date=pd.Timestamp(\"10-01-2021\"),\n",
    "    only_business_hours=True,\n",
    "    no_weekends=False,\n",
    ")\n",
    "cooling_2021 = {}\n",
    "for project in PROJECTS_2021:\n",
    "    cooling_2021[project] = cooling_df_2021[project].to_frame()"
   ]
  },
  {
   "cell_type": "code",
   "execution_count": null,
   "id": "bd7f4384-84d4-4f33-bca8-633a3bdd2abe",
   "metadata": {},
   "outputs": [],
   "source": [
    "fig = viz.make_time_series(\n",
    "    load_building(\"2021\", \"C\").loc[\n",
    "        pd.Timestamp(\"05-01-2021\") : pd.Timestamp(\"10-01-2021\"), :\n",
    "    ],\n",
    "    y_axis_title=\"Cooling (tons)\",\n",
    ")"
   ]
  },
  {
   "cell_type": "code",
   "execution_count": null,
   "id": "4d1c8fca-dc1a-45dc-99ca-3ec2bb1c72c7",
   "metadata": {},
   "outputs": [],
   "source": [
    "fig = viz.make_time_series(cooling_df_2021, y_axis_title=\"Cooling (kwh)\")"
   ]
  },
  {
   "cell_type": "code",
   "execution_count": null,
   "id": "e8d7b01b",
   "metadata": {},
   "outputs": [],
   "source": [
    "(\n",
    "    deltas_cooling,\n",
    "    deltas_high_cooling,\n",
    "    deltas_low_cooling,\n",
    "    percent_summary,\n",
    "    fig,\n",
    ") = run_building_regressions(\n",
    "    cooling_2022,\n",
    "    T_2022,\n",
    "    mode=\"Percent Change\",\n",
    "    summary_statistic=\"Mean\",\n",
    "    y_axis_title=\"Average Cooling Demand<br>(kW/1000m2)\",\n",
    "    use_raw=False,\n",
    ")"
   ]
  },
  {
   "cell_type": "code",
   "execution_count": null,
   "id": "51389d9e-138d-46ac-94ea-f2c0b01dbee3",
   "metadata": {},
   "outputs": [],
   "source": [
    "(\n",
    "    deltas_cooling_2021,\n",
    "    deltas_high_cooling_2021,\n",
    "    deltas_low_cooling_2021,\n",
    "    percent_summary,\n",
    "    fig,\n",
    ") = run_building_regressions(\n",
    "    cooling_2021,\n",
    "    T_2021,\n",
    "    year=\"2021\",\n",
    "    mode=\"Percent Change\",\n",
    "    summary_statistic=\"Mean\",\n",
    "    y_axis_title=\"Average Cooling Demand<br>(kW/1000m2)\",\n",
    "    use_raw=False,\n",
    ")"
   ]
  },
  {
   "cell_type": "code",
   "execution_count": null,
   "id": "6f30f4a0-5a52-40b9-8ae8-ee722b4ab07b",
   "metadata": {},
   "outputs": [],
   "source": [
    "deltas_list = [deltas_cooling, deltas_high_cooling, deltas_low_cooling]\n",
    "for i, df in enumerate(deltas_list):\n",
    "    df.columns = [\"CSP = 24.4°C (2022)\", \"CSP = 25.5°C (2022)\"]\n",
    "    df[\"CSP = 24.4°C (2021)\"] = np.nan\n",
    "    df = df[[\"CSP = 25.5°C (2022)\", \"CSP = 24.4°C (2022)\", \"CSP = 24.4°C (2021)\"]]\n",
    "    deltas_list[i] = df\n",
    "deltas_cooling, deltas_high_cooling, deltas_low_cooling = deltas_list"
   ]
  },
  {
   "cell_type": "code",
   "execution_count": null,
   "id": "b28a51b2-1f09-47b6-89f3-cf992f931e2c",
   "metadata": {},
   "outputs": [],
   "source": [
    "# previously reported results\n",
    "beta = {\n",
    "    \"OFF-1\": -0.24,  # previously CONF-1\n",
    "    \"OFF-3\": -0.33,  # previously OFF-2\n",
    "    \"OFF-4\": -0.14,  # previously LIB-3\n",
    "    \"OFF-6\": -0.23,  # previously OFF-4\n",
    "    \"LAB-1\": -0.044,  # previously LAB-5\n",
    "    \"LAB-3\": -0.034,  # previously LAB-6\n",
    "}\n",
    "\n",
    "err = {\n",
    "    \"OFF-1\": 0.048,  # previously CONF-1\n",
    "    \"OFF-3\": 0.028,  # previously OFF-2\n",
    "    \"OFF-4\": 0.031,  # previously LIB-3\n",
    "    \"OFF-6\": 0.022,  # previously OFF-4\n",
    "    \"LAB-1\": 0.017,  # previously LAB-5\n",
    "    \"LAB-3\": 0.0092,  # previously LAB-6\n",
    "}\n",
    "\n",
    "for project in beta:\n",
    "    deltas_cooling.loc[project, \"CSP = 24.4°C (2021)\"] = 100 * (\n",
    "        np.exp(beta[project]) - 1\n",
    "    )\n",
    "    deltas_high_cooling.loc[project, \"CSP = 24.4°C (2021)\"] = (\n",
    "        100 * (np.exp(beta[project] - 1.96 * err[project]) - 1)\n",
    "        - deltas_cooling.loc[project, \"CSP = 24.4°C (2021)\"]\n",
    "    )\n",
    "    deltas_low_cooling.loc[project, \"CSP = 24.4°C (2021)\"] = deltas_cooling.loc[\n",
    "        project, \"CSP = 24.4°C (2021)\"\n",
    "    ] - 100 * (np.exp(beta[project] + 1.96 * err[project]) - 1)"
   ]
  },
  {
   "cell_type": "code",
   "execution_count": null,
   "id": "7b50c641-7c72-46a6-9180-a6e0b2ce40ae",
   "metadata": {},
   "outputs": [],
   "source": [
    "fig = viz.plot_experiment_summary(\n",
    "    y_data=deltas_cooling,\n",
    "    y_error_up_data=deltas_high_cooling,\n",
    "    y_error_down_data=deltas_low_cooling,\n",
    "    marker_legend={\n",
    "        \"color\": {\n",
    "            \"CSP = 24.4°C (2021)\": \"Blue\",\n",
    "            \"CSP = 24.4°C (2022)\": \"Blue\",\n",
    "            \"CSP = 25.5°C (2022)\": \"Black\",\n",
    "        },\n",
    "        \"opacity\": {\n",
    "            \"CSP = 24.4°C (2021)\": 0.5,\n",
    "            \"CSP = 24.4°C (2022)\": 1,\n",
    "            \"CSP = 25.5°C (2022)\": 1,\n",
    "        },\n",
    "    },\n",
    "    y_axis_title=\"Percent Change in<br>Cooling Demand [%]\",\n",
    "    point_start=(1 / 4),\n",
    "    offset_delta=(1 / 4),\n",
    "    tick_vals=[i + 0.5 for i in range(len(PROJECTS_2022))],\n",
    "    width=1200,\n",
    "    height=600,\n",
    "    x_range=[-0.25, len(PROJECTS_2022)],\n",
    "    y_range=[-60, 30],\n",
    "    error_thickness=2.5,\n",
    "    whisker_len=8,\n",
    "    legend_size=SINGLE_PLOT_LEGEND_SIZE,\n",
    "    text_size=SINGLE_PLOT_TXT_SIZE,\n",
    ")\n",
    "fig = add_vertical_boxes(\n",
    "    fig, list(range(len(PROJECTS_2022) + 1)), background_color=\"lightgray\"\n",
    ")\n",
    "fig = fig.update_layout(\n",
    "    legend=dict(\n",
    "        x=0.5,\n",
    "        y=-0.1,\n",
    "        xanchor=\"center\",\n",
    "        yanchor=\"top\",\n",
    "        orientation=\"h\",\n",
    "    )\n",
    ")"
   ]
  },
  {
   "cell_type": "code",
   "execution_count": null,
   "id": "668466f3-4feb-478a-a8e2-c1db19728541",
   "metadata": {},
   "outputs": [],
   "source": [
    "# fig"
   ]
  },
  {
   "cell_type": "code",
   "execution_count": null,
   "id": "e1a3204c-167d-4087-a6d5-1b59c0d95d6f",
   "metadata": {},
   "outputs": [],
   "source": [
    "fig.write_image(f\"{IMAGE_PATH}/FigureB1.png\")"
   ]
  },
  {
   "cell_type": "markdown",
   "id": "f07798be-8aa6-4a48-98d1-9aa1504f75ec",
   "metadata": {},
   "source": [
    "# Fraction of responding zones"
   ]
  },
  {
   "cell_type": "code",
   "execution_count": null,
   "id": "5ed9bb58-e976-4232-8539-995078c03b40",
   "metadata": {},
   "outputs": [],
   "source": [
    "reactive_zones_all = pd.DataFrame(\n",
    "    index=PROJECTS_2022,\n",
    "    columns=[\"CSP = 25.5°C (2022)\", \"CSP = 24.4°C (2022)\", \"CSP = 24.4°C (2021)\"],\n",
    ")\n",
    "reactive_zones_all.loc[\"TOTAL\", :] = 0"
   ]
  },
  {
   "cell_type": "markdown",
   "id": "58372704-ca85-4f8f-ac84-5b96132c3e67",
   "metadata": {},
   "source": [
    "## CSP = 78F, 2022"
   ]
  },
  {
   "cell_type": "code",
   "execution_count": null,
   "id": "4e617fbc-0c9c-434c-8a2f-8d4e728555bc",
   "metadata": {},
   "outputs": [],
   "source": [
    "total = 0\n",
    "for project in PROJECTS_2022:\n",
    "    ser = REACTIVE_ZONES[project]\n",
    "    reactive_zones_all.loc[project, \"CSP = 25.5°C (2022)\"] = len(\n",
    "        ser[ser == 0].dropna()\n",
    "    ) / len(ser)\n",
    "    reactive_zones_all.loc[\"TOTAL\", \"CSP = 25.5°C (2022)\"] += len(\n",
    "        ser[ser == 0].dropna()\n",
    "    )\n",
    "    total += len(ser)\n",
    "reactive_zones_all.loc[\"TOTAL\", \"CSP = 25.5°C (2022)\"] /= total"
   ]
  },
  {
   "cell_type": "markdown",
   "id": "503885e5-68db-48f4-a1f1-236e89a168c7",
   "metadata": {},
   "source": [
    "## CSP = 76F, 2022"
   ]
  },
  {
   "cell_type": "code",
   "execution_count": null,
   "id": "9f033b16-d854-4e64-9886-5e3163d46c88",
   "metadata": {},
   "outputs": [],
   "source": [
    "T = cleaning.clean_df(\n",
    "    df=load_weather(\"2022\")[\"temperature\"].to_frame(),\n",
    "    this_var=\"weather-oat\",\n",
    "    only_business_hours=True,\n",
    "    no_weekends=False,\n",
    "    start_date=SUMMER_START_2022,\n",
    "    end_date=SUMMER_END_2022,\n",
    "    SI_units=True,\n",
    ")[\"temperature\"]\n",
    "\n",
    "tloads = pull_from_dataset(\"2022\", PROJECTS_2022, \"zone-tloads\")\n",
    "tloads = cleaning.clean_dfs(\n",
    "    dfs=tloads,\n",
    "    this_var=\"zone-tloads\",\n",
    "    only_business_hours=True,\n",
    "    no_weekends=NO_WEEKENDS,\n",
    "    remove_FCUs=False,\n",
    "    start_date=SUMMER_START_2022,\n",
    "    end_date=SUMMER_END_2022,\n",
    ")\n",
    "zonal_schedules = {}\n",
    "for project in PROJECTS_2022:\n",
    "    zonal_schedules[project] = regression_functions.get_zonal_sp_schedule(\n",
    "        project, experiment_year=\"2022\", freq=\"hourly\", df=tloads[project]\n",
    "    )\n",
    "\n",
    "df_filter = cleaning.create_sp_filter(zonal_schedules, sps=[74], reverse_filter=False)\n",
    "control_tloads = cleaning.clean_dfs(\n",
    "    dfs=tloads, only_business_hours=False, no_weekends=False, df_filter=df_filter\n",
    ")\n",
    "\n",
    "control_tloads = base.run_passive_test_on_dfs(\n",
    "    dfs=control_tloads,\n",
    "    this_test=\"Mean\",\n",
    "    col_name=\"Average Zonal Load [%]<br>Control Days\",\n",
    ")"
   ]
  },
  {
   "cell_type": "code",
   "execution_count": null,
   "id": "72a0d2ae-5c43-4d97-9a0f-d04cc522ebcd",
   "metadata": {},
   "outputs": [],
   "source": [
    "(\n",
    "    deltas_76_tloads_2022,\n",
    "    deltas_low_76_tloads_2022,\n",
    "    deltas_high_76_tloads_2022,\n",
    "    deltas_78_tloads,\n",
    "    deltas_low_78_tloads,\n",
    "    deltas_high_78_tloads,\n",
    ") = run_equip_regressions(\n",
    "    tloads,\n",
    "    T,\n",
    "    \"Absolute Change\",\n",
    ")"
   ]
  },
  {
   "cell_type": "code",
   "execution_count": null,
   "id": "62bd4e19-4b9b-4987-b314-41329a91e710",
   "metadata": {},
   "outputs": [],
   "source": [
    "reactive_zones = clustering.run_1D_clustering_on_dict(\n",
    "    deltas_76_tloads_2022,\n",
    "    slices=[REACTIVE_THRESH[\"Pos\"], REACTIVE_THRESH[\"Neg\"]],\n",
    "    mapping={2: 0, 1: 1, 0: 3},\n",
    ")"
   ]
  },
  {
   "cell_type": "code",
   "execution_count": null,
   "id": "2c6c084c-3721-4043-8056-892457b95011",
   "metadata": {},
   "outputs": [],
   "source": [
    "for project in PROJECTS_2022:\n",
    "    # small change in tload, but remained high\n",
    "    these_rzs = reactive_zones[project].iloc[:, 0]\n",
    "    these_rzs = list(these_rzs[these_rzs == 1].index)\n",
    "    these_control = control_tloads[project].iloc[:, 0]\n",
    "    these_control = list(\n",
    "        these_control[these_control >= REACTIVE_THRESH[\"High Constant\"]].index\n",
    "    )\n",
    "    correct = list(set(these_rzs).intersection(set(these_control)))\n",
    "    reactive_zones[project].loc[correct, :] = 2\n",
    "\n",
    "for project in PROJECTS_2022:\n",
    "    # in heating\n",
    "    these_control = control_tloads[project].iloc[:, 0]\n",
    "    these_control = list(\n",
    "        these_control[these_control <= REACTIVE_THRESH[\"Heating\"]].index\n",
    "    )\n",
    "    reactive_zones[project].loc[these_control, :] = 4  # np.nan\n",
    "\n",
    "for project in PROJECTS_2022:\n",
    "    reactive_zones[project] = reactive_zones[project].dropna()"
   ]
  },
  {
   "cell_type": "code",
   "execution_count": null,
   "id": "693e858f-1f53-4b61-9172-42acd085a80e",
   "metadata": {},
   "outputs": [],
   "source": [
    "total = 0\n",
    "for project in PROJECTS_2022:\n",
    "    ser = reactive_zones[project]\n",
    "    reactive_zones_all.loc[project, \"CSP = 24.4°C (2022)\"] = len(\n",
    "        ser[ser == 0].dropna()\n",
    "    ) / len(ser)\n",
    "    reactive_zones_all.loc[\"TOTAL\", \"CSP = 24.4°C (2022)\"] += len(\n",
    "        ser[ser == 0].dropna()\n",
    "    )\n",
    "    total += len(ser)\n",
    "reactive_zones_all.loc[\"TOTAL\", \"CSP = 24.4°C (2022)\"] /= total"
   ]
  },
  {
   "cell_type": "markdown",
   "id": "03783cf7-7b65-487a-a105-cbe4fa4714e7",
   "metadata": {},
   "source": [
    "## CSP = 76F, 2021"
   ]
  },
  {
   "cell_type": "code",
   "execution_count": null,
   "id": "fc67963f-b47c-4f68-9f83-201e97df4827",
   "metadata": {},
   "outputs": [],
   "source": [
    "T = cleaning.clean_df(\n",
    "    df=load_weather(\"2021\")[\"temperature\"].to_frame(),\n",
    "    this_var=\"weather-oat\",\n",
    "    only_business_hours=True,\n",
    "    no_weekends=False,\n",
    "    start_date=pd.Timestamp(\"05-01-2021\"),\n",
    "    end_date=pd.Timestamp(\"10-01-2021\"),\n",
    "    SI_units=True,\n",
    ")[\"temperature\"]\n",
    "\n",
    "tloads = pull_from_dataset(\"2021\", PROJECTS_2021, \"zone-tloads\")\n",
    "tloads = cleaning.clean_dfs(\n",
    "    dfs=tloads,\n",
    "    this_var=\"zone-tloads\",\n",
    "    only_business_hours=True,\n",
    "    no_weekends=NO_WEEKENDS,\n",
    "    remove_FCUs=False,\n",
    "    start_date=pd.Timestamp(\"05-01-2021\"),\n",
    "    end_date=pd.Timestamp(\"10-01-2021\"),\n",
    ")\n",
    "\n",
    "zonal_schedules = {}\n",
    "for project in PROJECTS_2021:\n",
    "    zonal_schedules[project] = regression_functions.get_zonal_sp_schedule(\n",
    "        project, experiment_year=\"2021\", freq=\"hourly\", df=tloads[project]\n",
    "    )\n",
    "\n",
    "df_filter = cleaning.create_sp_filter(zonal_schedules, sps=[74], reverse_filter=False)\n",
    "control_tloads = cleaning.clean_dfs(\n",
    "    dfs=tloads, only_business_hours=False, no_weekends=False, df_filter=df_filter\n",
    ")\n",
    "\n",
    "control_tloads = base.run_passive_test_on_dfs(\n",
    "    dfs=control_tloads,\n",
    "    this_test=\"Mean\",\n",
    "    col_name=\"Average Zonal Load [%]<br>Control Days\",\n",
    ")"
   ]
  },
  {
   "cell_type": "code",
   "execution_count": null,
   "id": "c85d4330-b657-49ac-a5b3-988531aad5ec",
   "metadata": {},
   "outputs": [],
   "source": [
    "(\n",
    "    deltas_76_tloads_2021,\n",
    "    deltas_low_76_tloads_2021,\n",
    "    deltas_high_76_tloads_2021,\n",
    ") = run_equip_regressions(tloads, T, \"Absolute Change\", year=\"2021\")"
   ]
  },
  {
   "cell_type": "code",
   "execution_count": null,
   "id": "3292733a-2529-4984-9aa5-9baae92cd6ef",
   "metadata": {},
   "outputs": [],
   "source": [
    "reactive_zones = clustering.run_1D_clustering_on_dict(\n",
    "    deltas_76_tloads_2021,\n",
    "    slices=[REACTIVE_THRESH[\"Pos\"], REACTIVE_THRESH[\"Neg\"]],\n",
    "    mapping={2: 0, 1: 1, 0: 3},\n",
    ")"
   ]
  },
  {
   "cell_type": "code",
   "execution_count": null,
   "id": "4622eb1c-4e7f-4b1e-95d6-c8e8a01307fa",
   "metadata": {},
   "outputs": [],
   "source": [
    "for project in PROJECTS_2021:\n",
    "    # small change in tload, but remained high\n",
    "    these_rzs = reactive_zones[project].iloc[:, 0]\n",
    "    these_rzs = list(these_rzs[these_rzs == 1].index)\n",
    "    these_control = control_tloads[project].iloc[:, 0]\n",
    "    these_control = list(\n",
    "        these_control[these_control >= REACTIVE_THRESH[\"High Constant\"]].index\n",
    "    )\n",
    "    correct = list(set(these_rzs).intersection(set(these_control)))\n",
    "    reactive_zones[project].loc[correct, :] = 2\n",
    "\n",
    "for project in PROJECTS_2021:\n",
    "    # in heating\n",
    "    these_control = control_tloads[project].iloc[:, 0]\n",
    "    these_control = list(\n",
    "        these_control[these_control <= REACTIVE_THRESH[\"Heating\"]].index\n",
    "    )\n",
    "    reactive_zones[project].loc[these_control, :] = 4  # np.nan\n",
    "\n",
    "for project in PROJECTS_2021:\n",
    "    reactive_zones[project] = reactive_zones[project].dropna()"
   ]
  },
  {
   "cell_type": "code",
   "execution_count": null,
   "id": "570d8c54-5739-41cc-a899-b33b85b8abd9",
   "metadata": {},
   "outputs": [],
   "source": [
    "total = 0\n",
    "for project in PROJECTS_2021:\n",
    "    ser = reactive_zones[project]\n",
    "    reactive_zones_all.loc[project, \"CSP = 24.4°C (2021)\"] = len(\n",
    "        ser[ser == 0].dropna()\n",
    "    ) / len(ser)\n",
    "    reactive_zones_all.loc[\"TOTAL\", \"CSP = 24.4°C (2021)\"] += len(\n",
    "        ser[ser == 0].dropna()\n",
    "    )\n",
    "    total += len(ser)\n",
    "reactive_zones_all.loc[\"TOTAL\", \"CSP = 24.4°C (2021)\"] /= total"
   ]
  },
  {
   "cell_type": "code",
   "execution_count": null,
   "id": "3fa4699b-2c36-453d-bc47-f3eca42b1384",
   "metadata": {},
   "outputs": [],
   "source": [
    "fig = viz.plot_experiment_summary(\n",
    "    y_data=reactive_zones_all,\n",
    "    marker_legend={\n",
    "        \"color\": {\n",
    "            \"CSP = 24.4°C (2021)\": RESPONSE_COLORS[\n",
    "                f\"Reduced zonal load {abs(REACTIVE_THRESH['Neg'])}% or more\"\n",
    "            ],\n",
    "            \"CSP = 24.4°C (2022)\": RESPONSE_COLORS[\n",
    "                f\"Reduced zonal load {abs(REACTIVE_THRESH['Neg'])}% or more\"\n",
    "            ],\n",
    "            \"CSP = 25.5°C (2022)\": RESPONSE_COLORS[\n",
    "                f\"Reduced zonal load {abs(REACTIVE_THRESH['Neg'])}% or more\"\n",
    "            ],\n",
    "        },\n",
    "        \"opacity\": {\n",
    "            \"CSP = 24.4°C (2021)\": 0.5,\n",
    "            \"CSP = 24.4°C (2022)\": 1,\n",
    "            \"CSP = 25.5°C (2022)\": 1,\n",
    "        },\n",
    "        \"shape\": {\n",
    "            \"CSP = 24.4°C (2021)\": \"x\",\n",
    "            \"CSP = 24.4°C (2022)\": \"x\",\n",
    "            \"CSP = 25.5°C (2022)\": \"circle\",\n",
    "        },\n",
    "    },\n",
    "    y_axis_title=f\"Fraction of Zones<br>Reducing Zonal Load<br>{-REACTIVE_THRESH['Neg']}% or More [Unitless]\",\n",
    "    point_start=(1 / 4),\n",
    "    offset_delta=(1 / 4),\n",
    "    tick_vals=[i + 0.5 for i in range(len(PROJECTS_2022) + 1)],\n",
    "    width=1200,\n",
    "    height=600,\n",
    "    x_range=[-0.25, len(PROJECTS_2022) + 1],\n",
    "    y_range=[0, 1],\n",
    "    error_thickness=2.5,\n",
    "    whisker_len=8,\n",
    "    legend_size=SINGLE_PLOT_LEGEND_SIZE,\n",
    "    text_size=SINGLE_PLOT_TXT_SIZE,\n",
    ")\n",
    "fig = add_vertical_boxes(\n",
    "    fig, list(range(len(PROJECTS_2022) + 1 + 1)), background_color=\"lightgray\"\n",
    ")\n",
    "fig = fig.update_layout(\n",
    "    legend=dict(\n",
    "        x=0.5,\n",
    "        y=-0.1,\n",
    "        xanchor=\"center\",\n",
    "        yanchor=\"top\",\n",
    "        orientation=\"h\",\n",
    "    )\n",
    ")"
   ]
  },
  {
   "cell_type": "code",
   "execution_count": null,
   "id": "bca336bf-9e97-4eb2-871a-ccd92dc49a1a",
   "metadata": {},
   "outputs": [],
   "source": [
    "# fig"
   ]
  },
  {
   "cell_type": "code",
   "execution_count": null,
   "id": "9b9050e7-a021-4dcd-ac15-29f17d91cd7b",
   "metadata": {},
   "outputs": [],
   "source": [
    "fig.write_image(f\"{IMAGE_PATH}/FigureB2.png\")"
   ]
  },
  {
   "cell_type": "code",
   "execution_count": null,
   "id": "c57315d5-5dbb-46ee-8550-72de4f9aef5c",
   "metadata": {},
   "outputs": [],
   "source": []
  }
 ],
 "metadata": {
  "kernelspec": {
   "display_name": "experiments_2022",
   "language": "python",
   "name": "experiments_2022"
  },
  "language_info": {
   "codemirror_mode": {
    "name": "ipython",
    "version": 3
   },
   "file_extension": ".py",
   "mimetype": "text/x-python",
   "name": "python",
   "nbconvert_exporter": "python",
   "pygments_lexer": "ipython3",
   "version": "3.9.21"
  }
 },
 "nbformat": 4,
 "nbformat_minor": 5
}
